{
 "cells": [
  {
   "cell_type": "markdown",
   "metadata": {},
   "source": [
    "# Language detection of transliterated text"
   ]
  },
  {
   "cell_type": "markdown",
   "metadata": {},
   "source": [
    "### The problem\n",
    "Below is a text transliterated in English:"
   ]
  },
  {
   "cell_type": "markdown",
   "metadata": {},
   "source": [
    "| \"aaj ka mausam achchha hai\" | \"The weather is good today\" |\n",
    "| --- | --- |\n",
    "| (transliterated text) | (translated text) |"
   ]
  },
  {
   "cell_type": "markdown",
   "metadata": {},
   "source": [
    "One might be curious about what language is this transliterated text actually in (unless one knows that language already). Happens to me quite often, when I'm reading Youtube or Facebook or other social media threads.\n",
    "\n",
    "Well, the above text is in Hindi:"
   ]
  },
  {
   "cell_type": "markdown",
   "metadata": {},
   "source": [
    "| \"aaj ka mausam achchha hai\" | \"आज का मौसम अच्छा है\" |\n",
    "| --- | --- |\n",
    "| (transliterated text) | (original script) |"
   ]
  },
  {
   "cell_type": "markdown",
   "metadata": {},
   "source": [
    "Since computer and phone keyboards are generally in English, it is often convenient for non-roman language speakers to transliterate their texts to English while typing than to use the original script (writing system) of their language. Since the transliterated text does not have the information about its original language, it becomes hard for others (who do not speak that language) to even decipher the language and further understand the meaning of the text.\n",
    "\n",
    "It would be convenient if machines could fill this gap by telling us the language of those transliterated texts, which we very often encounter in social media threads etc., so that we don't have to ask other people if they can identify the language of a transliterated text."
   ]
  },
  {
   "cell_type": "markdown",
   "metadata": {},
   "source": [
    "### Scope of the project\n",
    "\n",
    "In this project, I therefore attempt to address this problem by designing an NLP model which can detect the language of a transliterated text. Due to lack of time at the moment, I confine the scope of this project to just classify texts transliterated from Korean and Bangla (Bengali) languages. \n",
    "\n",
    "Although not important, but the reason for choosing these two non-roman languages in particular for the project is because:  \n",
    "* Bangla is my mother tongue so it would be fun to teach the machine my language. Bangla (or Bengali) is spoken mostly in the state of West Bengal in India and in Bangladesh. \n",
    "* Korean pop songs are popular lately, so considering their international reach, I thought, Korean transliteration might be relevant to people.\n",
    "* I shall be including other non-roman languages in the future."
   ]
  },
  {
   "cell_type": "markdown",
   "metadata": {},
   "source": [
    "### Solution approach\n",
    "\n",
    "We can often identify a language being spoken, if we have prior experience of hearing that language, even if we may not understand the language at all. Every language has some characteristic sounds patterns. These patterns can be used to identify a language even without understanding them. So, like speech, if we know the correct pronounciation of transliterated texts (ie pronounciation in their original langauge), we might be able to identify the language, given we have some prior familiarity with how the language generally sounds.\n",
    "\n",
    "Automatic Speech Recognition (ASR) systems are pretty decent in identifying language from speech audio inputs. ASRs use spectrograms (shown below) to learn features of a speech input such as its language."
   ]
  },
  {
   "cell_type": "markdown",
   "metadata": {},
   "source": [
    "<img src=\"https://www.researchgate.net/profile/Phillip_Lobel/publication/267827408/figure/fig2/AS:295457826852866@1447454043380/Spectrograms-and-Oscillograms-This-is-an-oscillogram-and-spectrogram-of-the-boatwhistle.png\"  width=\"400\">\n",
    "\n",
    "[Image source: Kovitvongsa, Kathryn & Lobel, Phillip. (2019). Convenient Fish Acoustic Data Collection in the Digital Age.]"
   ]
  },
  {
   "cell_type": "markdown",
   "metadata": {},
   "source": [
    "In spectrograms, audio files are chopped into thin time slices (in the abscissa), and for each time slice, all the frequencies present in it are plotted (in the ordinate) with their corresponding intensities are represented in the heat map, obtained using Fourier transform. The frequencies tell us about the nature of the source that produced that sound, e.g., you can identify musical instruments by the pattern of their overtones (multiples of fundamental frequency).\n",
    "\n",
    "So, in spectrograms of human speech audio files, the frequencies in a particular time slice should indicate the part of buccal cavity that produced it. It would be ideal if one knew the time span of each characteristic sound that create the words in a language. However, since that is not known, in spectrograms, the time is sliced into very small intervals, so that the NLP model can join a few of those small time slices and learn the actual length of a particular characteristic sound.\n",
    "\n",
    "If we could split our transliterated words into fragments which represent the characteristic sounds, a string of those word fragments would be analogous to spectrograms for audio speech. We can then use those word fragment strings as inputs to an NLP model to identify the language of the transliterated text.\n",
    "\n",
    "Fortunately, when a text is transliterated from one langauge to other, it is generally spelled out phonetically (even if the original language is not strictly phonetic). So, if we were to phonetically pronounce the transliterated words, we might be quite closer to its actual pronounciation.\n",
    "\n",
    "To get the phonetic pronounciation, we assumed that the texts were transliterated from some unknown language to Italian, a strictly phonetic language which also uses the Latin script as English. We then divide the transliterated words into syllables according to the  Italian language, ie phonetically. We used those (phonetic) syllables as inputs to our NLP model."
   ]
  },
  {
   "cell_type": "markdown",
   "metadata": {},
   "source": [
    "# Data scraping\n",
    "\n",
    "Song lyrics website often transliterate songs in English (perhaps for international audiences). So, for Korean and Bangla (Bengali) sentences transliterated in English, the song lyrics on the following lyrics websites were scraped:\n",
    " - bangla lyrics: http://www.lyricsbangla.com/\n",
    " - korean lyrics: https://romanization.wordpress.com/"
   ]
  },
  {
   "cell_type": "code",
   "execution_count": 1,
   "metadata": {},
   "outputs": [],
   "source": [
    "from urllib.request import urlopen\n",
    "from bs4 import BeautifulSoup\n",
    "import re"
   ]
  },
  {
   "cell_type": "markdown",
   "metadata": {},
   "source": [
    "Since the objects in Bengali (referred as Bangla henceforth) and Korean texts might be different created two separate functions to fetch respective text. The different functions are just for cleanliness purpose."
   ]
  },
  {
   "cell_type": "markdown",
   "metadata": {},
   "source": [
    "### Functions for scraping Korean transliterated texts"
   ]
  },
  {
   "cell_type": "code",
   "execution_count": 3,
   "metadata": {},
   "outputs": [],
   "source": [
    "def fetch_korean(fname):\n",
    "    #some browsing revealed there are 1087 pages (@29th July, 2019) indexed 0 through 1086 with links to lyrics\n",
    "    #extracting the song links from each of these pages\n",
    "    npages = 1087\n",
    "    lyricsbag = open(fname, 'w')\n",
    "    count = 0\n",
    "    for pg in range(npages):\n",
    "        soup = BeautifulSoup(urlopen(\"https://romanization.wordpress.com/page/%i\"%pg), 'html.parser')\n",
    "        links = soup.find_all('a')\n",
    "        pageurls = [_.get('href') for _ in links if (_.text == 'Continue reading →')]\n",
    "        for url in pageurls:\n",
    "            b = koreanLyrics(url)\n",
    "            [lyricsbag.write(_+\"\\n\") for _ in b]\n",
    "            count += 1\n",
    "            print(count)\n",
    "    \n",
    "    return\n"
   ]
  },
  {
   "cell_type": "code",
   "execution_count": 4,
   "metadata": {},
   "outputs": [],
   "source": [
    "def koreanLyrics(url):\n",
    "    s = BeautifulSoup(urlopen(url), 'html.parser')\n",
    "    lblob = [_.text for _ in s.find_all('p')]\n",
    "    lyrics = []\n",
    "    pendown = False\n",
    "    for _ in lblob:\n",
    "        if pendown:\n",
    "            if (_ == \"//\"):\n",
    "                pendown = False\n",
    "                break\n",
    "            else:\n",
    "                lyrics += _.split(\"\\n\")\n",
    "        else:\n",
    "            if \"to see the lyrics\" in _:\n",
    "                pendown = True\n",
    "    return lyrics"
   ]
  },
  {
   "cell_type": "markdown",
   "metadata": {},
   "source": [
    "### Functions for scraping Bangla transliterated texts"
   ]
  },
  {
   "cell_type": "code",
   "execution_count": 5,
   "metadata": {},
   "outputs": [],
   "source": [
    "def fetch_bangla(fname):\n",
    "    #url = \"http://www.lyricsbangla.com/?sec=listing&lyricid=4140\"\n",
    "    url = \"file:///home/sourav/MLProjects/transliterate/Lyrics%20Search%20»%20LyricsBangla.com.html\" \n",
    "    #TODO replace the static page with dynamic link smh\n",
    "    #\"http://www.lyricsbangla.com/index.php?sec=search\"\n",
    "    html = urlopen(url)\n",
    "\n",
    "    soup = BeautifulSoup(html, 'html.parser')\n",
    "    b = soup.find('table')\n",
    "    urltable = b.find_all('td')\n",
    "    \n",
    "    #extracting songs from links in www.lyricsbangla.com index page\n",
    "    lyricsurllist = []\n",
    "    lyricsbag = open(fname, 'w')\n",
    "    count = 0\n",
    "    for u in urltable:\n",
    "        if (u.find('a') != None):\n",
    "            songlink = u.a.get('href')\n",
    "            if (\"artist\" not in songlink):\n",
    "                b = banglaLyrics(songlink)\n",
    "                [lyricsbag.write(_+\"\\n\") for _ in b]\n",
    "                count += 1\n",
    "                print(count)\n",
    "        \n",
    "    return\n",
    "    "
   ]
  },
  {
   "cell_type": "markdown",
   "metadata": {},
   "source": [
    "Bangla lyrics often have chords, so here is a list of chords to clean the text scraped from: https://www.pianochord.org/ and saved in \"chords.txt\""
   ]
  },
  {
   "cell_type": "code",
   "execution_count": 6,
   "metadata": {},
   "outputs": [],
   "source": [
    "##(source: https://www.pianochord.org/)\n",
    "def get_musicalchords():\n",
    "    chords_ = []\n",
    "    f = open(\"chords.txt\", 'r')\n",
    "    lines = f.readlines()\n",
    "    for l in lines:\n",
    "        chords_ += l.strip().split()\n",
    "\n",
    "    return chords_"
   ]
  },
  {
   "cell_type": "code",
   "execution_count": 7,
   "metadata": {},
   "outputs": [],
   "source": [
    "def banglaLyrics(url):\n",
    "    spchar = re.compile('[@_!#$%^&*()<>?/\\|}{~:]')\n",
    "\n",
    "\n",
    "    s = BeautifulSoup(urlopen(url), 'html.parser')\n",
    "    lblob = s.find('p', id='tabs-1')\n",
    "    lyrics = []\n",
    "    chord_ = get_musicalchords()\n",
    "    for line in lblob:\n",
    "        if (line.string != None):\n",
    "            l = str(line)\n",
    "            if any(chord in l for chord in chords_):\n",
    "                continue\n",
    "            elif (spchar.search(l)!=None):\n",
    "                continue\n",
    "            else:\n",
    "                l = l.strip()\n",
    "                if (l): lyrics.append(l)\n",
    "    return lyrics"
   ]
  },
  {
   "cell_type": "markdown",
   "metadata": {},
   "source": [
    "The following cell scrapes Bangla and Korean lyrics respectively using the functions defined above."
   ]
  },
  {
   "cell_type": "code",
   "execution_count": 145,
   "metadata": {},
   "outputs": [],
   "source": [
    "banglacorpus = \"banglacorpus.txt\"\n",
    "fetch_bangla(banglacorpus)\n",
    "\n",
    "\n",
    "koreancorpus = \"koreancorpus.txt\"\n",
    "fetch_korean(koreancorpus)\n"
   ]
  },
  {
   "cell_type": "markdown",
   "metadata": {},
   "source": [
    "# Data Cleaning\n",
    "\n",
    "\"cleanedkoreancorpus.txt\" and \"cleanedbanglacorpus.txt\" are the cleaned corpuses for Korean and Bangla transliterated text used for the analysis\n",
    "\n",
    "<div style=\"text-align: right\"> \"Cleaning is messy!!\" ~Anonymous </div>"
   ]
  },
  {
   "cell_type": "markdown",
   "metadata": {},
   "source": [
    "# <font color = 'red'>Don't touch the part above this"
   ]
  },
  {
   "cell_type": "markdown",
   "metadata": {},
   "source": [
    "# Data Visualization for encoding"
   ]
  },
  {
   "cell_type": "code",
   "execution_count": 1,
   "metadata": {},
   "outputs": [],
   "source": [
    "import numpy as np\n",
    "import matplotlib.pyplot as plt\n",
    "%matplotlib inline\n",
    "import random\n",
    "import pyphen"
   ]
  },
  {
   "cell_type": "markdown",
   "metadata": {},
   "source": [
    "While transliteration, words are spelled phonetically. So, if one spells the transliterated word phonetically, one might actually get quite close to the actual pronounciation in its native language.\n",
    "If the transliterated words are, therefore, split into phonetic syllables, a list of those phonetic syllables could represent the pronounciation of that word and thus information about its native language. These phonetic syllables are quite analogous to phoneme sequences used in ASR (Automatic Speech Recognition).\n",
    "\n",
    "Since English is not a phonetic language, its syllables are not phonetic. However, with we try to split the word using a phonetic language, like Italian, then the syllables would indeed be phonetic.\n",
    "\n",
    "I use a python package - 'pyphen' (https://pyphen.org) for such syllable splitting. This package provides an option to choose the language in which the user wants to split the word. As discussed above, I used Italian, a phonetic language, to split the word into syllables, so that I get phonetic syllables."
   ]
  },
  {
   "cell_type": "markdown",
   "metadata": {},
   "source": [
    "The function below splits the words phonetically (as in italian) into list of syllables using Pyphen:"
   ]
  },
  {
   "cell_type": "code",
   "execution_count": 2,
   "metadata": {},
   "outputs": [],
   "source": [
    "def PhoneticWordSplit(word):\n",
    "    dic = pyphen.Pyphen(lang='it_IT')\n",
    "    splitword = dic.inserted(word)\n",
    "    splitword = splitword.replace(\"-\", \" \")\n",
    "    return splitword"
   ]
  },
  {
   "cell_type": "markdown",
   "metadata": {},
   "source": [
    "The words split into phonetic syllables are stored in koreanwordbag.txt and banglawordbag.txt for Korean and Bangla resp. and used to train and test the langauge detection model."
   ]
  },
  {
   "cell_type": "code",
   "execution_count": 3,
   "metadata": {},
   "outputs": [],
   "source": [
    "def WordBagMaker(corpusfilename, label):\n",
    "    f = open(corpusfilename, 'r')\n",
    "    lines = f.readlines()\n",
    "\n",
    "    import random\n",
    "    worddict = []\n",
    "    for l in lines:\n",
    "        words = l.split()\n",
    "        #only words present in sentences used, not single word sentences\n",
    "        if (len(words) < 2): continue \n",
    "        for w in words:\n",
    "            #words with digits not used and single letter words not used\n",
    "            if (len(w) > 1) and w.isalpha(): \n",
    "                worddict.append(PhoneticWordSplit(w) + \" : \" + label)\n",
    "    #shuffle the list\n",
    "    random.shuffle(worddict)   \n",
    "    return worddict\n",
    "\n",
    "for lang in ['korean', 'bangla']:\n",
    "    fl = open(\"%swordbag.txt\"%lang, 'w')\n",
    "    [fl.write(_+\"\\n\") for _ in WordBagMaker(\"cleaned%scorpus.txt\"%lang, \"K\" if lang=='korean' else \"B\" )]\n",
    "    fl.close()"
   ]
  },
  {
   "cell_type": "code",
   "execution_count": 4,
   "metadata": {},
   "outputs": [],
   "source": [
    "datakor = open(\"koreanwordbag.txt\", 'r').readlines()\n",
    "databan = open(\"banglawordbag.txt\", 'r').readlines()"
   ]
  },
  {
   "cell_type": "markdown",
   "metadata": {},
   "source": [
    "A quick feature visualization to see if simple features, like syllable count per word,have any discriminating power."
   ]
  },
  {
   "cell_type": "code",
   "execution_count": 5,
   "metadata": {},
   "outputs": [],
   "source": [
    "def getfeatures(langcorpus):\n",
    "    syllables_per_word = []\n",
    "    letters_per_syllable = []\n",
    "    for d in langcorpus:\n",
    "        splitword = d.split(\" : \")[0].split(\" \")\n",
    "        syllables_per_word.append(len(splitword))\n",
    "        [letters_per_syllable.append(len(_)) for _ in splitword]\n",
    "    return syllables_per_word, letters_per_syllable\n",
    "\n",
    "syllables_per_wordKOR, letters_per_syllableKOR = getfeatures(datakor)\n",
    "\n",
    "syllables_per_wordBAN, letters_per_syllableBAN = getfeatures(databan)\n",
    "\n",
    "syllables_per_word = np.concatenate((syllables_per_wordKOR,syllables_per_wordBAN), axis=0)\n",
    "letters_per_syllable = np.concatenate((letters_per_syllableKOR, letters_per_syllableBAN), axis=0)"
   ]
  },
  {
   "cell_type": "code",
   "execution_count": 6,
   "metadata": {},
   "outputs": [
    {
     "data": {
      "image/png": "[encoded data removed]",
      "text/plain": [
       "<Figure size 432x288 with 1 Axes>"
      ]
     },
     "metadata": {
      "needs_background": "light"
     },
     "output_type": "display_data"
    }
   ],
   "source": [
    "binsSPW = [_ - 0.5 for _ in range(1,11)]\n",
    "plt.xticks(range(1,11))\n",
    "plt.hist(syllables_per_word, binsSPW, alpha=0.3, label='both languages')\n",
    "plt.hist(syllables_per_wordKOR, binsSPW, alpha=0.3, label='Korean') \n",
    "plt.hist(syllables_per_wordBAN, binsSPW, alpha=0.3, label='Bangla')\n",
    "\n",
    "plt.xlabel('#syllables/word')\n",
    "plt.ylabel('frequency')\n",
    "plt.legend(loc='best')\n",
    "plt.show()"
   ]
  },
  {
   "cell_type": "markdown",
   "metadata": {},
   "source": [
    "Bangla words mostly have 2 syllables, Korean words can have upto 5 syllables in a word. A 10 syllable vector should be enough to encode a word from either language."
   ]
  },
  {
   "cell_type": "code",
   "execution_count": 7,
   "metadata": {},
   "outputs": [
    {
     "data": {
      "image/png": "[encoded data removed]",
      "text/plain": [
       "<Figure size 432x288 with 1 Axes>"
      ]
     },
     "metadata": {
      "needs_background": "light"
     },
     "output_type": "display_data"
    }
   ],
   "source": [
    "binsLPS = [_ - 0.5 for _ in range(1,11)]\n",
    "plt.xticks(range(1,11))\n",
    "plt.hist(letters_per_syllable, binsLPS, alpha=0.3, label='both languages')\n",
    "plt.hist(letters_per_syllableKOR, binsLPS, alpha=0.3, label='Korean') \n",
    "plt.hist(letters_per_syllableBAN, binsLPS, alpha=0.3, label='Bangla')\n",
    "\n",
    "plt.xlabel('#letters/syllables')\n",
    "plt.ylabel('frequency')\n",
    "plt.legend(loc='best')\n",
    "plt.show()"
   ]
  },
  {
   "cell_type": "markdown",
   "metadata": {},
   "source": [
    "Most phonetic syllables have around 2 letters. Not a significant disciminator. Would therefore be fair to disregard the syllable length and just integer encode the syllables in both the corpuses."
   ]
  },
  {
   "cell_type": "markdown",
   "metadata": {},
   "source": [
    "# Training data"
   ]
  },
  {
   "cell_type": "markdown",
   "metadata": {},
   "source": [
    "Using 50,000 (10,000) Bangla and Korean words each randomly from the corpuses for training (testing)."
   ]
  },
  {
   "cell_type": "code",
   "execution_count": 8,
   "metadata": {},
   "outputs": [],
   "source": [
    "Ntrain = 50000\n",
    "Ntest  = 10000\n",
    "random.shuffle(datakor) #korean\n",
    "random.shuffle(databan) #bangla\n",
    "TrainingVal_data = datakor[:Ntrain] + databan[:Ntrain] \n",
    "Testing_data = datakor[Ntrain:Ntrain+Ntest] + databan[Ntrain:Ntrain+Ntest]\n",
    "random.shuffle(TrainingVal_data)\n",
    "random.shuffle(Testing_data)"
   ]
  },
  {
   "cell_type": "markdown",
   "metadata": {},
   "source": [
    "# Word and label encoding"
   ]
  },
  {
   "cell_type": "code",
   "execution_count": 9,
   "metadata": {},
   "outputs": [
    {
     "name": "stderr",
     "output_type": "stream",
     "text": [
      "Using TensorFlow backend.\n",
      "/home/sourav/.local/lib/python3.6/site-packages/tensorflow/python/framework/dtypes.py:516: FutureWarning: Passing (type, 1) or '1type' as a synonym of type is deprecated; in a future version of numpy, it will be understood as (type, (1,)) / '(1,)type'.\n",
      "  _np_qint8 = np.dtype([(\"qint8\", np.int8, 1)])\n",
      "/home/sourav/.local/lib/python3.6/site-packages/tensorflow/python/framework/dtypes.py:517: FutureWarning: Passing (type, 1) or '1type' as a synonym of type is deprecated; in a future version of numpy, it will be understood as (type, (1,)) / '(1,)type'.\n",
      "  _np_quint8 = np.dtype([(\"quint8\", np.uint8, 1)])\n",
      "/home/sourav/.local/lib/python3.6/site-packages/tensorflow/python/framework/dtypes.py:518: FutureWarning: Passing (type, 1) or '1type' as a synonym of type is deprecated; in a future version of numpy, it will be understood as (type, (1,)) / '(1,)type'.\n",
      "  _np_qint16 = np.dtype([(\"qint16\", np.int16, 1)])\n",
      "/home/sourav/.local/lib/python3.6/site-packages/tensorflow/python/framework/dtypes.py:519: FutureWarning: Passing (type, 1) or '1type' as a synonym of type is deprecated; in a future version of numpy, it will be understood as (type, (1,)) / '(1,)type'.\n",
      "  _np_quint16 = np.dtype([(\"quint16\", np.uint16, 1)])\n",
      "/home/sourav/.local/lib/python3.6/site-packages/tensorflow/python/framework/dtypes.py:520: FutureWarning: Passing (type, 1) or '1type' as a synonym of type is deprecated; in a future version of numpy, it will be understood as (type, (1,)) / '(1,)type'.\n",
      "  _np_qint32 = np.dtype([(\"qint32\", np.int32, 1)])\n",
      "/home/sourav/.local/lib/python3.6/site-packages/tensorflow/python/framework/dtypes.py:525: FutureWarning: Passing (type, 1) or '1type' as a synonym of type is deprecated; in a future version of numpy, it will be understood as (type, (1,)) / '(1,)type'.\n",
      "  np_resource = np.dtype([(\"resource\", np.ubyte, 1)])\n",
      "/home/sourav/.local/lib/python3.6/site-packages/tensorboard/compat/tensorflow_stub/dtypes.py:541: FutureWarning: Passing (type, 1) or '1type' as a synonym of type is deprecated; in a future version of numpy, it will be understood as (type, (1,)) / '(1,)type'.\n",
      "  _np_qint8 = np.dtype([(\"qint8\", np.int8, 1)])\n",
      "/home/sourav/.local/lib/python3.6/site-packages/tensorboard/compat/tensorflow_stub/dtypes.py:542: FutureWarning: Passing (type, 1) or '1type' as a synonym of type is deprecated; in a future version of numpy, it will be understood as (type, (1,)) / '(1,)type'.\n",
      "  _np_quint8 = np.dtype([(\"quint8\", np.uint8, 1)])\n",
      "/home/sourav/.local/lib/python3.6/site-packages/tensorboard/compat/tensorflow_stub/dtypes.py:543: FutureWarning: Passing (type, 1) or '1type' as a synonym of type is deprecated; in a future version of numpy, it will be understood as (type, (1,)) / '(1,)type'.\n",
      "  _np_qint16 = np.dtype([(\"qint16\", np.int16, 1)])\n",
      "/home/sourav/.local/lib/python3.6/site-packages/tensorboard/compat/tensorflow_stub/dtypes.py:544: FutureWarning: Passing (type, 1) or '1type' as a synonym of type is deprecated; in a future version of numpy, it will be understood as (type, (1,)) / '(1,)type'.\n",
      "  _np_quint16 = np.dtype([(\"quint16\", np.uint16, 1)])\n",
      "/home/sourav/.local/lib/python3.6/site-packages/tensorboard/compat/tensorflow_stub/dtypes.py:545: FutureWarning: Passing (type, 1) or '1type' as a synonym of type is deprecated; in a future version of numpy, it will be understood as (type, (1,)) / '(1,)type'.\n",
      "  _np_qint32 = np.dtype([(\"qint32\", np.int32, 1)])\n",
      "/home/sourav/.local/lib/python3.6/site-packages/tensorboard/compat/tensorflow_stub/dtypes.py:550: FutureWarning: Passing (type, 1) or '1type' as a synonym of type is deprecated; in a future version of numpy, it will be understood as (type, (1,)) / '(1,)type'.\n",
      "  np_resource = np.dtype([(\"resource\", np.ubyte, 1)])\n"
     ]
    }
   ],
   "source": [
    "from keras.preprocessing.text import hashing_trick\n",
    "from keras.preprocessing.sequence import pad_sequences"
   ]
  },
  {
   "cell_type": "code",
   "execution_count": 10,
   "metadata": {},
   "outputs": [
    {
     "name": "stdout",
     "output_type": "stream",
     "text": [
      "[[26, 26, 3]]\n",
      "[[26, 26, 26], [15, 3], [26, 15]]\n"
     ]
    }
   ],
   "source": [
    "vocab_size = 30\n",
    "v = ['in in in', 'kab bo', 'so kal']\n",
    "encoded_docs = [hashing_trick(d, vocab_size, hash_function='md5') for d in v]\n",
    "encoded_docs\n",
    "v1 = ['in in bo']\n",
    "encoded_docs1 = [hashing_trick(d, vocab_size, hash_function='md5') for d in v1]\n",
    "print(encoded_docs1)\n",
    "print(encoded_docs)"
   ]
  },
  {
   "cell_type": "code",
   "execution_count": 11,
   "metadata": {},
   "outputs": [],
   "source": [
    "from keras.models import Sequential\n",
    "from keras.layers import Dense, Embedding, LSTM\n",
    "from keras.regularizers import l2"
   ]
  },
  {
   "cell_type": "code",
   "execution_count": 12,
   "metadata": {},
   "outputs": [],
   "source": [
    "def datalabel(dataset):\n",
    "    '''function to label words 'K' or 'B' for Korean and Bangla resp. '''\n",
    "    wvec = []\n",
    "    actualwvec = []\n",
    "    lvec = [] \n",
    "    for td in dataset:\n",
    "        tw, tl = td.split(\" : \")\n",
    "        #One hot encoding: [1,0] : Bangla, [0,1] : Korean\n",
    "        l = [1, 0] if tl.strip() == \"B\" else [0,1] \n",
    "        wvec.append(tw)\n",
    "        lvec.append(l)\n",
    "        actualwvec.append( \"\".join(tw.split()) )\n",
    "    return wvec, np.array(lvec), actualwvec"
   ]
  },
  {
   "cell_type": "markdown",
   "metadata": {},
   "source": [
    "Pipeline to integer encode phonetic syllables and pad words to a max of 10 syllables:"
   ]
  },
  {
   "cell_type": "code",
   "execution_count": 13,
   "metadata": {},
   "outputs": [],
   "source": [
    "vocab_size = 200000\n",
    "max_length = 10\n",
    "def IntEncodeWords(wordlist):\n",
    "    #integer encoding the syllables\n",
    "    encoded_words = [hashing_trick(d, vocab_size, hash_function='md5') for d in wordlist]\n",
    "    #padding to a max length of 10\n",
    "    padded_words = pad_sequences(encoded_words, maxlen=max_length, padding='post')\n",
    "    return padded_words"
   ]
  },
  {
   "cell_type": "code",
   "execution_count": 525,
   "metadata": {},
   "outputs": [],
   "source": [
    "def IntEncodeWordsControl(wordlist):\n",
    "    #integer encoding the syllables\n",
    "    encoded_words = [[ord(_) - 96 for _ in d] for d in wordlist]\n",
    "    #padding to a max length of 10\n",
    "    padded_words = pad_sequences(encoded_words, maxlen=max_length, padding='post')\n",
    "    return padded_words"
   ]
  },
  {
   "cell_type": "markdown",
   "metadata": {},
   "source": [
    "Processing the training and testing data with the above pipeline"
   ]
  },
  {
   "cell_type": "code",
   "execution_count": 15,
   "metadata": {},
   "outputs": [
    {
     "name": "stdout",
     "output_type": "stream",
     "text": [
      "['to mar', 'ha te', 'eka']\n",
      "[[1 0]\n",
      " [0 1]\n",
      " [1 0]]\n",
      "100000 100000\n",
      "['ja lhae', 'aniya', 'lu te', 'tu mi', 'ra ter']\n",
      "[[ 16354 124261      0      0      0      0      0      0      0      0]\n",
      " [118636      0      0      0      0      0      0      0      0      0]\n",
      " [ 82884 183478      0      0      0      0      0      0      0      0]\n",
      " [  1475 127222      0      0      0      0      0      0      0      0]\n",
      " [ 20670 109451      0      0      0      0      0      0      0      0]]\n",
      "['jalhae', 'aniya', 'lute', 'tumi', 'rater']\n",
      "[[10  1 12  8  1  5  0  0  0  0]\n",
      " [ 1 14  9 25  1  0  0  0  0  0]\n",
      " [12 21 20  5  0  0  0  0  0  0]\n",
      " [20 21 13  9  0  0  0  0  0  0]\n",
      " [18  1 20  5 18  0  0  0  0  0]]\n"
     ]
    }
   ],
   "source": [
    "#training data\n",
    "wordvec, labelvec, actualwordvec = datalabel(TrainingVal_data)\n",
    "print(wordvec[:3])\n",
    "print(labelvec[:3])\n",
    "padded_docs = IntEncodeWords(wordvec)\n",
    "padded_docsControl = IntEncodeWordsControl(actualwordvec)\n",
    "print(len(padded_docs), len(padded_docsControl))\n",
    "\n",
    "#testing data\n",
    "wordvec_test, labelvec_test, actualwordvec_test = datalabel(Testing_data)\n",
    "padded_docs_test = IntEncodeWords(wordvec_test)\n",
    "padded_docs_testControl = IntEncodeWordsControl(actualwordvec_test)\n",
    "print(wordvec_test[:5])\n",
    "print(padded_docs_test[:5])\n",
    "print(actualwordvec_test[:5])\n",
    "print(padded_docs_testControl[:5])"
   ]
  },
  {
   "cell_type": "markdown",
   "metadata": {},
   "source": [
    "I train an LSTM to classify Korean and Bangla words, defined below:"
   ]
  },
  {
   "cell_type": "code",
   "execution_count": 16,
   "metadata": {},
   "outputs": [
    {
     "name": "stdout",
     "output_type": "stream",
     "text": [
      "WARNING:tensorflow:From /home/sourav/.local/lib/python3.6/site-packages/keras/backend/tensorflow_backend.py:66: The name tf.get_default_graph is deprecated. Please use tf.compat.v1.get_default_graph instead.\n",
      "\n",
      "WARNING:tensorflow:From /home/sourav/.local/lib/python3.6/site-packages/keras/backend/tensorflow_backend.py:541: The name tf.placeholder is deprecated. Please use tf.compat.v1.placeholder instead.\n",
      "\n",
      "WARNING:tensorflow:From /home/sourav/.local/lib/python3.6/site-packages/keras/backend/tensorflow_backend.py:4432: The name tf.random_uniform is deprecated. Please use tf.random.uniform instead.\n",
      "\n",
      "WARNING:tensorflow:From /home/sourav/.local/lib/python3.6/site-packages/keras/backend/tensorflow_backend.py:148: The name tf.placeholder_with_default is deprecated. Please use tf.compat.v1.placeholder_with_default instead.\n",
      "\n",
      "WARNING:tensorflow:From /home/sourav/.local/lib/python3.6/site-packages/keras/backend/tensorflow_backend.py:3733: calling dropout (from tensorflow.python.ops.nn_ops) with keep_prob is deprecated and will be removed in a future version.\n",
      "Instructions for updating:\n",
      "Please use `rate` instead of `keep_prob`. Rate should be set to `rate = 1 - keep_prob`.\n",
      "WARNING:tensorflow:From /home/sourav/.local/lib/python3.6/site-packages/keras/optimizers.py:793: The name tf.train.Optimizer is deprecated. Please use tf.compat.v1.train.Optimizer instead.\n",
      "\n",
      "WARNING:tensorflow:From /home/sourav/.local/lib/python3.6/site-packages/keras/backend/tensorflow_backend.py:3576: The name tf.log is deprecated. Please use tf.math.log instead.\n",
      "\n",
      "Model: \"sequential_1\"\n",
      "_________________________________________________________________\n",
      "Layer (type)                 Output Shape              Param #   \n",
      "=================================================================\n",
      "embedding_1 (Embedding)      (None, 10, 8)             1600000   \n",
      "_________________________________________________________________\n",
      "lstm_1 (LSTM)                (None, 5)                 280       \n",
      "_________________________________________________________________\n",
      "dense_1 (Dense)              (None, 2)                 12        \n",
      "=================================================================\n",
      "Total params: 1,600,292\n",
      "Trainable params: 1,600,292\n",
      "Non-trainable params: 0\n",
      "_________________________________________________________________\n",
      "None\n"
     ]
    }
   ],
   "source": [
    "lstm_out = 5\n",
    "vocab_size = 200000\n",
    "max_length = 10\n",
    "# define the model\n",
    "model = Sequential()\n",
    "model.add(Embedding(vocab_size, 8, input_length=max_length))\n",
    "model.add(LSTM(lstm_out, recurrent_initializer=\"random_uniform\", bias_initializer=\"zeros\", dropout=0.2, recurrent_dropout=0.2, kernel_regularizer=l2(0.01), recurrent_regularizer=l2(0.01), bias_regularizer=l2(0.01)))\n",
    "model.add(Dense(2, activation='softmax'))\n",
    "\n",
    "# compile the model\n",
    "model.compile(optimizer='adam', loss='categorical_crossentropy', metrics=['accuracy'])\n",
    "# summarize the model\n",
    "print(model.summary())"
   ]
  },
  {
   "cell_type": "markdown",
   "metadata": {},
   "source": [
    "Early stopping the training if validation loss starts to converge (wait for 50 epochs to make sure validation loss is indeed converging). "
   ]
  },
  {
   "cell_type": "code",
   "execution_count": 17,
   "metadata": {},
   "outputs": [],
   "source": [
    "from keras.callbacks import EarlyStopping\n",
    "class ThresholdEarlyStopping(EarlyStopping):\n",
    "    def __init__(self, monitor='val_loss', min_epochs=10,\n",
    "                 threshold=0.995, increase=1.75, verbose=0, mode='auto'):\n",
    "\n",
    "        super(ThresholdEarlyStopping, self).__init__(\n",
    "            monitor=monitor,\n",
    "            patience=min_epochs,\n",
    "            verbose=verbose,\n",
    "            mode=mode\n",
    "        )\n",
    "\n",
    "        self.threshold = threshold\n",
    "        self.increase = increase\n",
    "\n",
    "    def on_epoch_end(self, epoch, logs={}):\n",
    "        if epoch < self.patience:\n",
    "            current = logs.get(self.monitor)\n",
    "            if current is None:\n",
    "                warnings.warn('Early stopping requires %s to be available!'\n",
    "                              % (self.monitor), RuntimeWarning)\n",
    "\n",
    "            if self.monitor_op(current, self.best):\n",
    "                # if current val_loss within 0.5% margin of the best(min) val_loss, \n",
    "                # add some grace to the patience to monitor if val_loss is indeed converging \n",
    "                if self.monitor_op(current, self.threshold*self.best):\n",
    "                    self.patience = max(self.patience, epoch*self.increase)\n",
    "                self.best = current\n",
    "\n",
    "        else:\n",
    "            if self.verbose > 0:\n",
    "                print('Epoch %05d: early stopping' % (epoch))\n",
    "\n",
    "            self.model.stop_training = True"
   ]
  },
  {
   "cell_type": "code",
   "execution_count": 18,
   "metadata": {},
   "outputs": [
    {
     "name": "stdout",
     "output_type": "stream",
     "text": [
      "[[1 0]\n",
      " [0 1]\n",
      " [1 0]\n",
      " [1 0]\n",
      " [0 1]]\n",
      "WARNING:tensorflow:From /home/sourav/.local/lib/python3.6/site-packages/tensorflow/python/ops/math_grad.py:1250: add_dispatch_support.<locals>.wrapper (from tensorflow.python.ops.array_ops) is deprecated and will be removed in a future version.\n",
      "Instructions for updating:\n",
      "Use tf.where in 2.0, which has the same broadcast rule as np.where\n",
      "Train on 90000 samples, validate on 10000 samples\n",
      "Epoch 1/500\n",
      "90000/90000 [==============================] - 5s 51us/step - loss: 0.8426 - acc: 0.5185 - val_loss: 0.8250 - val_acc: 0.5169\n",
      "Epoch 2/500\n",
      "90000/90000 [==============================] - 3s 28us/step - loss: 0.8103 - acc: 0.5866 - val_loss: 0.7953 - val_acc: 0.7273\n",
      "Epoch 3/500\n",
      "90000/90000 [==============================] - 2s 26us/step - loss: 0.7740 - acc: 0.7062 - val_loss: 0.7360 - val_acc: 0.8385\n",
      "Epoch 4/500\n",
      "90000/90000 [==============================] - 2s 24us/step - loss: 0.6140 - acc: 0.8353 - val_loss: 0.4487 - val_acc: 0.9015\n",
      "Epoch 5/500\n",
      "90000/90000 [==============================] - 2s 21us/step - loss: 0.4115 - acc: 0.9062 - val_loss: 0.3514 - val_acc: 0.9201\n",
      "Epoch 6/500\n",
      "90000/90000 [==============================] - 2s 22us/step - loss: 0.3527 - acc: 0.9282 - val_loss: 0.3242 - val_acc: 0.9216\n",
      "Epoch 7/500\n",
      "90000/90000 [==============================] - 2s 20us/step - loss: 0.3274 - acc: 0.9344 - val_loss: 0.3066 - val_acc: 0.9250\n",
      "Epoch 8/500\n",
      "90000/90000 [==============================] - 2s 21us/step - loss: 0.3101 - acc: 0.9377 - val_loss: 0.2959 - val_acc: 0.9281\n",
      "Epoch 9/500\n",
      "90000/90000 [==============================] - 2s 21us/step - loss: 0.2967 - acc: 0.9394 - val_loss: 0.2891 - val_acc: 0.9295\n",
      "Epoch 10/500\n",
      "90000/90000 [==============================] - 2s 20us/step - loss: 0.2864 - acc: 0.9404 - val_loss: 0.2815 - val_acc: 0.9294\n",
      "Epoch 11/500\n",
      "90000/90000 [==============================] - 2s 20us/step - loss: 0.2804 - acc: 0.9416 - val_loss: 0.2765 - val_acc: 0.9312\n",
      "Epoch 12/500\n",
      "90000/90000 [==============================] - 2s 21us/step - loss: 0.2752 - acc: 0.9418 - val_loss: 0.2721 - val_acc: 0.9307\n",
      "Epoch 13/500\n",
      "90000/90000 [==============================] - 2s 23us/step - loss: 0.2703 - acc: 0.9419 - val_loss: 0.2695 - val_acc: 0.9312\n",
      "Epoch 14/500\n",
      "90000/90000 [==============================] - 2s 21us/step - loss: 0.2647 - acc: 0.9427 - val_loss: 0.2657 - val_acc: 0.9311\n",
      "Epoch 15/500\n",
      "90000/90000 [==============================] - 2s 22us/step - loss: 0.2625 - acc: 0.9430 - val_loss: 0.2628 - val_acc: 0.9314\n",
      "Epoch 16/500\n",
      "90000/90000 [==============================] - 2s 22us/step - loss: 0.2587 - acc: 0.9435 - val_loss: 0.2593 - val_acc: 0.9332\n",
      "Epoch 17/500\n",
      "90000/90000 [==============================] - 2s 27us/step - loss: 0.2560 - acc: 0.9432 - val_loss: 0.2576 - val_acc: 0.9319\n",
      "Epoch 18/500\n",
      "90000/90000 [==============================] - 2s 23us/step - loss: 0.2531 - acc: 0.9437 - val_loss: 0.2557 - val_acc: 0.9308\n",
      "Epoch 19/500\n",
      "90000/90000 [==============================] - 2s 23us/step - loss: 0.2528 - acc: 0.9434 - val_loss: 0.2546 - val_acc: 0.9322\n",
      "Epoch 20/500\n",
      "90000/90000 [==============================] - 2s 24us/step - loss: 0.2516 - acc: 0.9431 - val_loss: 0.2520 - val_acc: 0.9324\n",
      "Epoch 21/500\n",
      "90000/90000 [==============================] - 2s 24us/step - loss: 0.2478 - acc: 0.9440 - val_loss: 0.2508 - val_acc: 0.9315\n",
      "Epoch 22/500\n",
      "90000/90000 [==============================] - 2s 22us/step - loss: 0.2477 - acc: 0.9437 - val_loss: 0.2491 - val_acc: 0.9315\n",
      "Epoch 23/500\n",
      "90000/90000 [==============================] - 2s 21us/step - loss: 0.2462 - acc: 0.9437 - val_loss: 0.2477 - val_acc: 0.9326\n",
      "Epoch 24/500\n",
      "90000/90000 [==============================] - 2s 20us/step - loss: 0.2452 - acc: 0.9433 - val_loss: 0.2466 - val_acc: 0.9317\n",
      "Epoch 25/500\n",
      "90000/90000 [==============================] - 2s 21us/step - loss: 0.2434 - acc: 0.9438 - val_loss: 0.2455 - val_acc: 0.9315\n",
      "Epoch 26/500\n",
      "90000/90000 [==============================] - 2s 20us/step - loss: 0.2420 - acc: 0.9434 - val_loss: 0.2441 - val_acc: 0.9325\n",
      "Epoch 27/500\n",
      "90000/90000 [==============================] - 2s 21us/step - loss: 0.2402 - acc: 0.9441 - val_loss: 0.2440 - val_acc: 0.9317\n",
      "Epoch 28/500\n",
      "90000/90000 [==============================] - 2s 21us/step - loss: 0.2407 - acc: 0.9438 - val_loss: 0.2433 - val_acc: 0.9313\n",
      "Epoch 29/500\n",
      "90000/90000 [==============================] - 2s 21us/step - loss: 0.2398 - acc: 0.9441 - val_loss: 0.2419 - val_acc: 0.9296\n",
      "Epoch 30/500\n",
      "90000/90000 [==============================] - 2s 21us/step - loss: 0.2386 - acc: 0.9428 - val_loss: 0.2415 - val_acc: 0.9306\n",
      "Epoch 31/500\n",
      "90000/90000 [==============================] - 2s 20us/step - loss: 0.2374 - acc: 0.9439 - val_loss: 0.2409 - val_acc: 0.9309\n",
      "Epoch 32/500\n",
      "90000/90000 [==============================] - 2s 20us/step - loss: 0.2374 - acc: 0.9433 - val_loss: 0.2401 - val_acc: 0.9316\n",
      "Epoch 33/500\n",
      "90000/90000 [==============================] - 2s 20us/step - loss: 0.2369 - acc: 0.9438 - val_loss: 0.2398 - val_acc: 0.9299\n",
      "Epoch 34/500\n",
      "90000/90000 [==============================] - 2s 21us/step - loss: 0.2344 - acc: 0.9437 - val_loss: 0.2390 - val_acc: 0.9305\n",
      "Epoch 35/500\n",
      "90000/90000 [==============================] - 2s 21us/step - loss: 0.2345 - acc: 0.9436 - val_loss: 0.2386 - val_acc: 0.9321\n",
      "Epoch 36/500\n",
      "90000/90000 [==============================] - 2s 21us/step - loss: 0.2341 - acc: 0.9436 - val_loss: 0.2379 - val_acc: 0.9315\n",
      "Epoch 37/500\n",
      "90000/90000 [==============================] - 2s 20us/step - loss: 0.2328 - acc: 0.9434 - val_loss: 0.2378 - val_acc: 0.9312\n",
      "Epoch 38/500\n",
      "90000/90000 [==============================] - 2s 20us/step - loss: 0.2317 - acc: 0.9434 - val_loss: 0.2372 - val_acc: 0.9305\n",
      "Epoch 39/500\n",
      "90000/90000 [==============================] - 2s 21us/step - loss: 0.2317 - acc: 0.9441 - val_loss: 0.2372 - val_acc: 0.9304\n",
      "Epoch 40/500\n",
      "90000/90000 [==============================] - 2s 21us/step - loss: 0.2321 - acc: 0.9439 - val_loss: 0.2362 - val_acc: 0.9298\n",
      "Epoch 41/500\n",
      "90000/90000 [==============================] - 2s 20us/step - loss: 0.2305 - acc: 0.9429 - val_loss: 0.2358 - val_acc: 0.9289\n",
      "Epoch 42/500\n",
      "90000/90000 [==============================] - 2s 20us/step - loss: 0.2295 - acc: 0.9431 - val_loss: 0.2355 - val_acc: 0.9297\n",
      "Epoch 43/500\n",
      "90000/90000 [==============================] - 2s 20us/step - loss: 0.2294 - acc: 0.9430 - val_loss: 0.2352 - val_acc: 0.9308\n",
      "Epoch 44/500\n",
      "90000/90000 [==============================] - 2s 21us/step - loss: 0.2293 - acc: 0.9433 - val_loss: 0.2356 - val_acc: 0.9297\n",
      "Epoch 45/500\n",
      "90000/90000 [==============================] - 2s 20us/step - loss: 0.2272 - acc: 0.9434 - val_loss: 0.2346 - val_acc: 0.9302\n",
      "Epoch 46/500\n",
      "90000/90000 [==============================] - 2s 21us/step - loss: 0.2289 - acc: 0.9432 - val_loss: 0.2343 - val_acc: 0.9294\n",
      "Epoch 47/500\n",
      "90000/90000 [==============================] - 2s 21us/step - loss: 0.2282 - acc: 0.9437 - val_loss: 0.2335 - val_acc: 0.9298\n",
      "Epoch 48/500\n",
      "90000/90000 [==============================] - 2s 20us/step - loss: 0.2271 - acc: 0.9431 - val_loss: 0.2340 - val_acc: 0.9295\n",
      "Epoch 49/500\n",
      "90000/90000 [==============================] - 2s 20us/step - loss: 0.2272 - acc: 0.9427 - val_loss: 0.2329 - val_acc: 0.9315\n",
      "Epoch 50/500\n",
      "90000/90000 [==============================] - 2s 21us/step - loss: 0.2262 - acc: 0.9429 - val_loss: 0.2322 - val_acc: 0.9291\n",
      "Epoch 51/500\n",
      "90000/90000 [==============================] - 2s 21us/step - loss: 0.2269 - acc: 0.9427 - val_loss: 0.2332 - val_acc: 0.9295\n",
      "Epoch 00050: early stopping\n"
     ]
    }
   ],
   "source": [
    "# fit the model\n",
    "print(labelvec[:5])\n",
    "history = model.fit(padded_docs, labelvec, batch_size=2000, validation_split=0.1, epochs=500, verbose=1, callbacks=[ThresholdEarlyStopping(verbose=1, min_epochs=50)])"
   ]
  },
  {
   "cell_type": "markdown",
   "metadata": {},
   "source": [
    "check for overfitting by comparing the validation loss with training loss:"
   ]
  },
  {
   "cell_type": "code",
   "execution_count": 19,
   "metadata": {},
   "outputs": [
    {
     "data": {
      "image/png": "[encoded data removed]",
      "text/plain": [
       "<Figure size 432x288 with 1 Axes>"
      ]
     },
     "metadata": {
      "needs_background": "light"
     },
     "output_type": "display_data"
    }
   ],
   "source": [
    "plt.plot(history.history['loss'])\n",
    "plt.plot(history.history['val_loss'])\n",
    "plt.ylabel('loss')\n",
    "plt.xlabel('epoch')\n",
    "plt.legend(['training loss', 'validation loss'], loc='best')\n",
    "plt.show()"
   ]
  },
  {
   "cell_type": "markdown",
   "metadata": {},
   "source": [
    "The model is trained."
   ]
  },
  {
   "cell_type": "markdown",
   "metadata": {},
   "source": [
    "evaluating the LSTM language classifier with testing data (with default decision boundary = 0.5):"
   ]
  },
  {
   "cell_type": "code",
   "execution_count": 20,
   "metadata": {},
   "outputs": [
    {
     "name": "stdout",
     "output_type": "stream",
     "text": [
      "Accuracy: 93.66 %\n"
     ]
    }
   ],
   "source": [
    "# evaluate the model\n",
    "loss, accuracy = model.evaluate(padded_docs_test, labelvec_test, verbose=0)\n",
    "print('Accuracy: %.2f %%' % (accuracy*100))"
   ]
  },
  {
   "cell_type": "markdown",
   "metadata": {},
   "source": [
    "Optimizing the decision boundary of the LSTM classifier for best accuracy using ROC curve:"
   ]
  },
  {
   "cell_type": "code",
   "execution_count": 21,
   "metadata": {},
   "outputs": [],
   "source": [
    "from sklearn.metrics import roc_curve, auc\n",
    "labelvec_pred = model.predict(padded_docs_test)\n",
    "fpr, tpr, cut = roc_curve(labelvec_test.ravel(), labelvec_pred.ravel())\n",
    "AUC = auc(fpr, tpr)"
   ]
  },
  {
   "cell_type": "code",
   "execution_count": 422,
   "metadata": {},
   "outputs": [
    {
     "data": {
      "text/plain": [
       "(array([[0.00796575, 0.99203426],\n",
       "        [0.00676834, 0.99323165],\n",
       "        [0.9926233 , 0.00737673],\n",
       "        [0.99385345, 0.00614658],\n",
       "        [0.99088216, 0.00911789]], dtype=float32), array([[0, 1],\n",
       "        [0, 1],\n",
       "        [1, 0],\n",
       "        [1, 0],\n",
       "        [1, 0]]))"
      ]
     },
     "execution_count": 422,
     "metadata": {},
     "output_type": "execute_result"
    }
   ],
   "source": [
    "labelvec_pred[:5], labelvec_test[:5]"
   ]
  },
  {
   "cell_type": "markdown",
   "metadata": {},
   "source": [
    "## Perturbation analysis begins"
   ]
  },
  {
   "cell_type": "code",
   "execution_count": 574,
   "metadata": {},
   "outputs": [],
   "source": [
    "def vowelperturb(s, N):\n",
    "    def vowelvarsim(s,N):\n",
    "        d = {'a', 'e', 'i', 'o', 'u'}\n",
    "\n",
    "\n",
    "        p = \"\"\n",
    "        for _ in s:\n",
    "            if _ in d:\n",
    "                vowelfreq = np.random.randint(N, size=1)[0]\n",
    "                p += _*vowelfreq\n",
    "            else:\n",
    "                p += _\n",
    "        return p\n",
    "    newstr = vowelvarsim(s, N)\n",
    "    while not newstr:\n",
    "        newstr = vowelvarsim(s, N)\n",
    "    return newstr"
   ]
  },
  {
   "cell_type": "code",
   "execution_count": 557,
   "metadata": {},
   "outputs": [],
   "source": [
    "def histmaker(S):\n",
    "    D = S*1\n",
    "    D.sort()\n",
    "    h_BinCenter = []\n",
    "    h_BinContent = []\n",
    "    i = 0\n",
    "    while (i < len(D)):\n",
    "        h_BinCenter.append(D[i])\n",
    "        h_BinContent.append(D.count(h_BinCenter[-1]))\n",
    "        i = i + h_BinContent[-1]\n",
    "    return h_BinCenter, h_BinContent\n",
    "\n",
    "\n",
    "def mannWUrawdat(S1, S2): #for raw python lists\n",
    "    h1_BinCenter, h1_BinContent = histmaker(S1)\n",
    "    h2_BinCenter, h2_BinContent = histmaker(S2)\n",
    "    I1 = len(S1)\n",
    "    I2 = len(S2)\n",
    "    U = -0.5*I1*(I1 + 1)\n",
    "    irank = 0\n",
    "    for i in range(len(h1_BinCenter)):\n",
    "        rank = irank\n",
    "        for j in range(len(h2_BinCenter)):\n",
    "            if (h1_BinCenter[i] > h2_BinCenter[j]): rank = rank + h2_BinContent[j]\n",
    "            else:\n",
    "                rank = rank + 0.5*h2_BinContent[j]*int(h1_BinCenter[i] == h2_BinCenter[j])\n",
    "                break\n",
    "        rank = rank + 0.5*(h1_BinContent[i] + 1)\n",
    "        U = U + rank*h1_BinContent[i]\n",
    "        irank =  irank + h1_BinContent[i]\n",
    "    return U/(I1*I2)"
   ]
  },
  {
   "cell_type": "markdown",
   "metadata": {},
   "source": [
    "### My model"
   ]
  },
  {
   "cell_type": "code",
   "execution_count": 544,
   "metadata": {},
   "outputs": [
    {
     "data": {
      "image/png": "[encoded data removed]",
      "text/plain": [
       "<Figure size 432x288 with 1 Axes>"
      ]
     },
     "metadata": {
      "needs_background": "light"
     },
     "output_type": "display_data"
    }
   ],
   "source": [
    "correctclassscore = []\n",
    "for i in range(len(labelvec_test)):\n",
    "    correctclassscore.append(  np.dot(labelvec_pred[i], labelvec_test[i])  )\n",
    "correctclassscore = np.array(correctclassscore)\n",
    "plt.text(0, 6000, r'$\\mu=%.2f, \\sigma=%.2f, median=%.2f$'%(correctclassscore.mean(), \n",
    "                                                           correctclassscore.std(), \n",
    "                                                           np.median(correctclassscore)))\n",
    "n, bins, patches = plt.hist(x=correctclassscore, bins=50, color='#0504aa',\n",
    "                            alpha=0.7, rwidth=0.85)"
   ]
  },
  {
   "cell_type": "code",
   "execution_count": 513,
   "metadata": {},
   "outputs": [
    {
     "data": {
      "text/plain": [
       "5.246442834168921"
      ]
     },
     "execution_count": 513,
     "metadata": {},
     "output_type": "execute_result"
    }
   ],
   "source": [
    "modifiedCV = np.median(correctclassscore)/np.std(correctclassscore)\n",
    "modifiedCV"
   ]
  },
  {
   "cell_type": "markdown",
   "metadata": {},
   "source": [
    "#### <font color = 'blue'>N = 2"
   ]
  },
  {
   "cell_type": "code",
   "execution_count": 587,
   "metadata": {},
   "outputs": [
    {
     "data": {
      "image/png": "[encoded data removed]",
      "text/plain": [
       "<Figure size 432x288 with 1 Axes>"
      ]
     },
     "metadata": {
      "needs_background": "light"
     },
     "output_type": "display_data"
    }
   ],
   "source": [
    "N = 2\n",
    "wordvec_test_perturbed = [vowelperturb(_, N) for _ in wordvec_test]\n",
    "padded_docs_test_perturbed = IntEncodeWords(wordvec_test_perturbed)\n",
    "#print(wordvec_test[:2])\n",
    "#print(wordvec_test_perturbed[:2])\n",
    "#print(padded_docs_test[:2])\n",
    "#print(padded_docs_test_perturbed[:2])\n",
    "\n",
    "labelvec_pred_perturbed = model.predict(padded_docs_test_perturbed)\n",
    "#print(labelvec_pred_perturbed[:2])\n",
    "#print(labelvec_pred[:2])\n",
    "\n",
    "correctclassscorepert = []\n",
    "for i in range(len(labelvec_test)):\n",
    "    correctclassscorepert.append(  np.dot(labelvec_pred_perturbed[i], labelvec_test[i])  )\n",
    "correctclassscorepert = np.array(correctclassscorepert)\n",
    "plt.text(0, 6000, r'$\\mu=%.2f, \\sigma=%.2f, median=%.2f$'%(correctclassscorepert.mean(), \n",
    "                                                           correctclassscorepert.std(), \n",
    "                                                           np.median(correctclassscorepert)))\n",
    "n, bins, patches = plt.hist(x=correctclassscorepert, bins=50, color='#0504aa',\n",
    "                            alpha=0.7, rwidth=0.85)"
   ]
  },
  {
   "cell_type": "code",
   "execution_count": 588,
   "metadata": {},
   "outputs": [
    {
     "data": {
      "image/png": "[encoded data removed]",
      "text/plain": [
       "<Figure size 432x288 with 1 Axes>"
      ]
     },
     "metadata": {
      "needs_background": "light"
     },
     "output_type": "display_data"
    }
   ],
   "source": [
    "correctclassscorepert\n",
    "correctclassscore\n",
    "fractionalvar = []\n",
    "for i in range(len(labelvec_test)):\n",
    "    if correctclassscore[i]:\n",
    "        fractionalvar.append((correctclassscorepert[i]-correctclassscore[i])/correctclassscore[i])\n",
    "fractionalvar = np.array(fractionalvar)\n",
    "fractionalvar.min(), fractionalvar.max()\n",
    "\n",
    "plt.text(20, 800, r'$\\mu=%.2f, \\sigma=%.2f, median=%.2f$'%(fractionalvar.mean(), \n",
    "                                                           fractionalvar.std(), \n",
    "                                                           np.median(fractionalvar)))\n",
    "n, bins, patches = plt.hist(x=fractionalvar, range = (-7, 7), bins=50, color='#0504aa',\n",
    "                            alpha=0.7, rwidth=0.85)\n",
    "maxfreq = n.max()\n",
    "#print(maxfreq)\n",
    "# Set a clean upper y-axis limit.\n",
    "#plt.ylim(ymax=1000)"
   ]
  },
  {
   "cell_type": "code",
   "execution_count": 589,
   "metadata": {},
   "outputs": [
    {
     "name": "stdout",
     "output_type": "stream",
     "text": [
      "spell_pert_sensitivity:  0.43113892874499715\n",
      "U:  0.307645815\n"
     ]
    }
   ],
   "source": [
    "spell_pert_sensitivity = fractionalvar.std()/modifiedCV\n",
    "\n",
    "U1 = mannWUrawdat(list(correctclassscorepert), list(correctclassscore) )\n",
    "U2 = mannWUrawdat(list(correctclassscore), list(correctclassscorepert) )\n",
    "print(\"spell_pert_sensitivity: \", spell_pert_sensitivity)\n",
    "print(\"U: \", min(U1,U2))"
   ]
  },
  {
   "cell_type": "markdown",
   "metadata": {},
   "source": [
    "#### <font color = 'blue'>N = 3"
   ]
  },
  {
   "cell_type": "code",
   "execution_count": 590,
   "metadata": {},
   "outputs": [
    {
     "data": {
      "image/png": "[encoded data removed]",
      "text/plain": [
       "<Figure size 432x288 with 1 Axes>"
      ]
     },
     "metadata": {
      "needs_background": "light"
     },
     "output_type": "display_data"
    }
   ],
   "source": [
    "N = 3\n",
    "wordvec_test_perturbed = [vowelperturb(_, N) for _ in wordvec_test]\n",
    "padded_docs_test_perturbed = IntEncodeWords(wordvec_test_perturbed)\n",
    "#print(wordvec_test[:2])\n",
    "#print(wordvec_test_perturbed[:2])\n",
    "#print(padded_docs_test[:2])\n",
    "#print(padded_docs_test_perturbed[:2])\n",
    "\n",
    "labelvec_pred_perturbed = model.predict(padded_docs_test_perturbed)\n",
    "#print(labelvec_pred_perturbed[:2])\n",
    "#print(labelvec_pred[:2])\n",
    "\n",
    "correctclassscorepert = []\n",
    "for i in range(len(labelvec_test)):\n",
    "    correctclassscorepert.append(  np.dot(labelvec_pred_perturbed[i], labelvec_test[i])  )\n",
    "correctclassscorepert = np.array(correctclassscorepert)\n",
    "plt.text(0, 6000, r'$\\mu=%.2f, \\sigma=%.2f, median=%.2f$'%(correctclassscorepert.mean(), \n",
    "                                                           correctclassscorepert.std(), \n",
    "                                                           np.median(correctclassscorepert)))\n",
    "n, bins, patches = plt.hist(x=correctclassscorepert, bins=50, color='#0504aa',\n",
    "                            alpha=0.7, rwidth=0.85)"
   ]
  },
  {
   "cell_type": "code",
   "execution_count": 591,
   "metadata": {},
   "outputs": [
    {
     "data": {
      "image/png": "[encoded data removed]",
      "text/plain": [
       "<Figure size 432x288 with 1 Axes>"
      ]
     },
     "metadata": {
      "needs_background": "light"
     },
     "output_type": "display_data"
    }
   ],
   "source": [
    "correctclassscorepert\n",
    "correctclassscore\n",
    "fractionalvar = []\n",
    "for i in range(len(labelvec_test)):\n",
    "    if correctclassscore[i]:\n",
    "        fractionalvar.append((correctclassscorepert[i]-correctclassscore[i])/correctclassscore[i])\n",
    "fractionalvar = np.array(fractionalvar)\n",
    "fractionalvar.min(), fractionalvar.max()\n",
    "\n",
    "plt.text(20, 800, r'$\\mu=%.2f, \\sigma=%.2f, median=%.2f$'%(fractionalvar.mean(), \n",
    "                                                           fractionalvar.std(), \n",
    "                                                           np.median(fractionalvar)))\n",
    "n, bins, patches = plt.hist(x=fractionalvar, range = (-7, 7), bins=50, color='#0504aa',\n",
    "                            alpha=0.7, rwidth=0.85)\n",
    "maxfreq = n.max()\n",
    "#print(maxfreq)\n",
    "# Set a clean upper y-axis limit.\n",
    "#plt.ylim(ymax=1000)"
   ]
  },
  {
   "cell_type": "code",
   "execution_count": 592,
   "metadata": {
    "scrolled": true
   },
   "outputs": [
    {
     "name": "stdout",
     "output_type": "stream",
     "text": [
      "spell_pert_sensitivity:  0.43841262364646255\n",
      "U:  0.252185435\n"
     ]
    }
   ],
   "source": [
    "spell_pert_sensitivity = fractionalvar.std()/modifiedCV\n",
    "\n",
    "U1 = mannWUrawdat(list(correctclassscorepert), list(correctclassscore) )\n",
    "U2 = mannWUrawdat(list(correctclassscore), list(correctclassscorepert) )\n",
    "print(\"spell_pert_sensitivity: \", spell_pert_sensitivity)\n",
    "print(\"U: \", min(U1,U2))"
   ]
  },
  {
   "cell_type": "markdown",
   "metadata": {},
   "source": [
    "#### <font color = 'blue'>N = 4"
   ]
  },
  {
   "cell_type": "code",
   "execution_count": 605,
   "metadata": {},
   "outputs": [
    {
     "data": {
      "image/png": "[encoded data removed]",
      "text/plain": [
       "<Figure size 432x288 with 1 Axes>"
      ]
     },
     "metadata": {
      "needs_background": "light"
     },
     "output_type": "display_data"
    }
   ],
   "source": [
    "N = 4\n",
    "wordvec_test_perturbed = [vowelperturb(_, N) for _ in wordvec_test]\n",
    "padded_docs_test_perturbed = IntEncodeWords(wordvec_test_perturbed)\n",
    "#print(wordvec_test[:2])\n",
    "#print(wordvec_test_perturbed[:2])\n",
    "#print(padded_docs_test[:2])\n",
    "#print(padded_docs_test_perturbed[:2])\n",
    "\n",
    "labelvec_pred_perturbed = model.predict(padded_docs_test_perturbed)\n",
    "#print(labelvec_pred_perturbed[:2])\n",
    "#print(labelvec_pred[:2])\n",
    "\n",
    "correctclassscorepert = []\n",
    "for i in range(len(labelvec_test)):\n",
    "    correctclassscorepert.append(  np.dot(labelvec_pred_perturbed[i], labelvec_test[i])  )\n",
    "correctclassscorepert = np.array(correctclassscorepert)\n",
    "plt.text(0, 6000, r'$\\mu=%.2f, \\sigma=%.2f, median=%.2f$'%(correctclassscorepert.mean(), \n",
    "                                                           correctclassscorepert.std(), \n",
    "                                                           np.median(correctclassscorepert)))\n",
    "n, bins, patches = plt.hist(x=correctclassscorepert, bins=50, color='#0504aa',\n",
    "                            alpha=0.7, rwidth=0.85)"
   ]
  },
  {
   "cell_type": "code",
   "execution_count": 606,
   "metadata": {},
   "outputs": [
    {
     "data": {
      "image/png": "[encoded data removed]",
      "text/plain": [
       "<Figure size 432x288 with 1 Axes>"
      ]
     },
     "metadata": {
      "needs_background": "light"
     },
     "output_type": "display_data"
    }
   ],
   "source": [
    "correctclassscorepert\n",
    "correctclassscore\n",
    "fractionalvar = []\n",
    "for i in range(len(labelvec_test)):\n",
    "    if correctclassscore[i]:\n",
    "        fractionalvar.append((correctclassscorepert[i]-correctclassscore[i])/correctclassscore[i])\n",
    "fractionalvar = np.array(fractionalvar)\n",
    "fractionalvar.min(), fractionalvar.max()\n",
    "\n",
    "plt.text(20, 800, r'$\\mu=%.2f, \\sigma=%.2f, median=%.2f$'%(fractionalvar.mean(), \n",
    "                                                           fractionalvar.std(), \n",
    "                                                           np.median(fractionalvar)))\n",
    "n, bins, patches = plt.hist(x=fractionalvar, range = (-7, 7), bins=50, color='#0504aa',\n",
    "                            alpha=0.7, rwidth=0.85)\n",
    "maxfreq = n.max()\n",
    "#print(maxfreq)\n",
    "# Set a clean upper y-axis limit.\n",
    "#plt.ylim(ymax=1000)"
   ]
  },
  {
   "cell_type": "code",
   "execution_count": 607,
   "metadata": {
    "scrolled": true
   },
   "outputs": [
    {
     "name": "stdout",
     "output_type": "stream",
     "text": [
      "spell_pert_sensitivity:  0.45934682132651866\n",
      "U:  0.20817315625\n"
     ]
    }
   ],
   "source": [
    "spell_pert_sensitivity = fractionalvar.std()/modifiedCV\n",
    "\n",
    "U1 = mannWUrawdat(list(correctclassscorepert), list(correctclassscore) )\n",
    "U2 = mannWUrawdat(list(correctclassscore), list(correctclassscorepert) )\n",
    "print(\"spell_pert_sensitivity: \", spell_pert_sensitivity)\n",
    "print(\"U: \", min(U1,U2))"
   ]
  },
  {
   "cell_type": "markdown",
   "metadata": {},
   "source": [
    "#### <font color = 'blue'>N = 5"
   ]
  },
  {
   "cell_type": "code",
   "execution_count": 602,
   "metadata": {},
   "outputs": [
    {
     "data": {
      "image/png": "[encoded data removed]",
      "text/plain": [
       "<Figure size 432x288 with 1 Axes>"
      ]
     },
     "metadata": {
      "needs_background": "light"
     },
     "output_type": "display_data"
    }
   ],
   "source": [
    "N = 5\n",
    "wordvec_test_perturbed = [vowelperturb(_, N) for _ in wordvec_test]\n",
    "padded_docs_test_perturbed = IntEncodeWords(wordvec_test_perturbed)\n",
    "#print(wordvec_test[:2])\n",
    "#print(wordvec_test_perturbed[:2])\n",
    "#print(padded_docs_test[:2])\n",
    "#print(padded_docs_test_perturbed[:2])\n",
    "\n",
    "labelvec_pred_perturbed = model.predict(padded_docs_test_perturbed)\n",
    "#print(labelvec_pred_perturbed[:2])\n",
    "#print(labelvec_pred[:2])\n",
    "\n",
    "correctclassscorepert = []\n",
    "for i in range(len(labelvec_test)):\n",
    "    correctclassscorepert.append(  np.dot(labelvec_pred_perturbed[i], labelvec_test[i])  )\n",
    "correctclassscorepert = np.array(correctclassscorepert)\n",
    "plt.text(0, 6000, r'$\\mu=%.2f, \\sigma=%.2f, median=%.2f$'%(correctclassscorepert.mean(), \n",
    "                                                           correctclassscorepert.std(), \n",
    "                                                           np.median(correctclassscorepert)))\n",
    "n, bins, patches = plt.hist(x=correctclassscorepert, bins=50, color='#0504aa',\n",
    "                            alpha=0.7, rwidth=0.85)"
   ]
  },
  {
   "cell_type": "code",
   "execution_count": 603,
   "metadata": {},
   "outputs": [
    {
     "data": {
      "image/png": "[encoded data removed]",
      "text/plain": [
       "<Figure size 432x288 with 1 Axes>"
      ]
     },
     "metadata": {
      "needs_background": "light"
     },
     "output_type": "display_data"
    }
   ],
   "source": [
    "fractionalvar = []\n",
    "for i in range(len(labelvec_test)):\n",
    "    if correctclassscore[i]:\n",
    "        fractionalvar.append((correctclassscorepert[i]-correctclassscore[i])/correctclassscore[i])\n",
    "fractionalvar = np.array(fractionalvar)\n",
    "fractionalvar.min(), fractionalvar.max()\n",
    "\n",
    "plt.text(20, 800, r'$\\mu=%.2f, \\sigma=%.2f, median=%.2f$'%(fractionalvar.mean(), \n",
    "                                                           fractionalvar.std(), \n",
    "                                                           np.median(fractionalvar)))\n",
    "n, bins, patches = plt.hist(x=fractionalvar, range = (-7, 7), bins=50, color='#0504aa',\n",
    "                            alpha=0.7, rwidth=0.85)\n",
    "maxfreq = n.max()\n",
    "#print(maxfreq)\n",
    "# Set a clean upper y-axis limit.\n",
    "#plt.ylim(ymax=1000)"
   ]
  },
  {
   "cell_type": "code",
   "execution_count": 604,
   "metadata": {},
   "outputs": [
    {
     "name": "stdout",
     "output_type": "stream",
     "text": [
      "spell_pert_sensitivity:  0.5260822789782542\n",
      "U:  0.18399685875\n"
     ]
    }
   ],
   "source": [
    "spell_pert_sensitivity = fractionalvar.std()/modifiedCV\n",
    "\n",
    "U1 = mannWUrawdat(list(correctclassscorepert), list(correctclassscore) )\n",
    "U2 = mannWUrawdat(list(correctclassscore), list(correctclassscorepert) )\n",
    "print(\"spell_pert_sensitivity: \", spell_pert_sensitivity)\n",
    "print(\"U: \", min(U1,U2))"
   ]
  },
  {
   "cell_type": "markdown",
   "metadata": {},
   "source": [
    "## caomparisons"
   ]
  },
  {
   "cell_type": "code",
   "execution_count": 626,
   "metadata": {},
   "outputs": [
    {
     "name": "stdout",
     "output_type": "stream",
     "text": [
      "N:  2 \t toy:  0\n",
      "N:  2 \t toy:  1\n",
      "N:  2 \t toy:  2\n",
      "N:  2 \t toy:  3\n",
      "N:  2 \t toy:  4\n",
      "N:  2 \t toy:  5\n",
      "N:  2 \t toy:  6\n",
      "N:  2 \t toy:  7\n",
      "N:  2 \t toy:  8\n",
      "N:  2 \t toy:  9\n",
      "N:  2 \t toy:  10\n",
      "N:  2 \t toy:  11\n",
      "N:  2 \t toy:  12\n",
      "N:  2 \t toy:  13\n",
      "N:  2 \t toy:  14\n",
      "N:  2 \t toy:  15\n",
      "N:  2 \t toy:  16\n",
      "N:  2 \t toy:  17\n",
      "N:  2 \t toy:  18\n",
      "N:  2 \t toy:  19\n",
      "N:  2 \t toy:  20\n",
      "N:  2 \t toy:  21\n",
      "N:  2 \t toy:  22\n",
      "N:  2 \t toy:  23\n",
      "N:  2 \t toy:  24\n",
      "N:  2 \t toy:  25\n",
      "N:  2 \t toy:  26\n",
      "N:  2 \t toy:  27\n",
      "N:  2 \t toy:  28\n",
      "N:  2 \t toy:  29\n",
      "N:  3 \t toy:  0\n",
      "N:  3 \t toy:  1\n",
      "N:  3 \t toy:  2\n",
      "N:  3 \t toy:  3\n",
      "N:  3 \t toy:  4\n",
      "N:  3 \t toy:  5\n",
      "N:  3 \t toy:  6\n",
      "N:  3 \t toy:  7\n",
      "N:  3 \t toy:  8\n",
      "N:  3 \t toy:  9\n",
      "N:  3 \t toy:  10\n",
      "N:  3 \t toy:  11\n",
      "N:  3 \t toy:  12\n",
      "N:  3 \t toy:  13\n",
      "N:  3 \t toy:  14\n",
      "N:  3 \t toy:  15\n",
      "N:  3 \t toy:  16\n",
      "N:  3 \t toy:  17\n",
      "N:  3 \t toy:  18\n",
      "N:  3 \t toy:  19\n",
      "N:  3 \t toy:  20\n",
      "N:  3 \t toy:  21\n",
      "N:  3 \t toy:  22\n",
      "N:  3 \t toy:  23\n",
      "N:  3 \t toy:  24\n",
      "N:  3 \t toy:  25\n",
      "N:  3 \t toy:  26\n",
      "N:  3 \t toy:  27\n",
      "N:  3 \t toy:  28\n",
      "N:  3 \t toy:  29\n",
      "N:  4 \t toy:  0\n",
      "N:  4 \t toy:  1\n",
      "N:  4 \t toy:  2\n",
      "N:  4 \t toy:  3\n",
      "N:  4 \t toy:  4\n",
      "N:  4 \t toy:  5\n",
      "N:  4 \t toy:  6\n",
      "N:  4 \t toy:  7\n",
      "N:  4 \t toy:  8\n",
      "N:  4 \t toy:  9\n",
      "N:  4 \t toy:  10\n",
      "N:  4 \t toy:  11\n",
      "N:  4 \t toy:  12\n",
      "N:  4 \t toy:  13\n",
      "N:  4 \t toy:  14\n",
      "N:  4 \t toy:  15\n",
      "N:  4 \t toy:  16\n",
      "N:  4 \t toy:  17\n",
      "N:  4 \t toy:  18\n",
      "N:  4 \t toy:  19\n",
      "N:  4 \t toy:  20\n",
      "N:  4 \t toy:  21\n",
      "N:  4 \t toy:  22\n",
      "N:  4 \t toy:  23\n",
      "N:  4 \t toy:  24\n",
      "N:  4 \t toy:  25\n",
      "N:  4 \t toy:  26\n",
      "N:  4 \t toy:  27\n",
      "N:  4 \t toy:  28\n",
      "N:  4 \t toy:  29\n",
      "N:  5 \t toy:  0\n",
      "N:  5 \t toy:  1\n",
      "N:  5 \t toy:  2\n",
      "N:  5 \t toy:  3\n",
      "N:  5 \t toy:  4\n",
      "N:  5 \t toy:  5\n",
      "N:  5 \t toy:  6\n",
      "N:  5 \t toy:  7\n",
      "N:  5 \t toy:  8\n",
      "N:  5 \t toy:  9\n",
      "N:  5 \t toy:  10\n",
      "N:  5 \t toy:  11\n",
      "N:  5 \t toy:  12\n",
      "N:  5 \t toy:  13\n",
      "N:  5 \t toy:  14\n",
      "N:  5 \t toy:  15\n",
      "N:  5 \t toy:  16\n",
      "N:  5 \t toy:  17\n",
      "N:  5 \t toy:  18\n",
      "N:  5 \t toy:  19\n",
      "N:  5 \t toy:  20\n",
      "N:  5 \t toy:  21\n",
      "N:  5 \t toy:  22\n",
      "N:  5 \t toy:  23\n",
      "N:  5 \t toy:  24\n",
      "N:  5 \t toy:  25\n",
      "N:  5 \t toy:  26\n",
      "N:  5 \t toy:  27\n",
      "N:  5 \t toy:  28\n",
      "N:  5 \t toy:  29\n"
     ]
    }
   ],
   "source": [
    "spell_per_senlist = []\n",
    "spell_per_senerrlist = []\n",
    "Ulist = []\n",
    "Uerrlist = []\n",
    "for N in range(2,6):\n",
    "    sp = []\n",
    "    u = []\n",
    "    for toy in range(30):\n",
    "        print(\"N: \", N, \"\\t toy: \", toy)\n",
    "        wordvec_test_perturbed = [vowelperturb(_, N) for _ in wordvec_test]\n",
    "        padded_docs_test_perturbed = IntEncodeWords(wordvec_test_perturbed)\n",
    "        labelvec_pred_perturbed = model.predict(padded_docs_test_perturbed)\n",
    "        correctclassscorepert = []\n",
    "        for i in range(len(labelvec_test)):\n",
    "            correctclassscorepert.append(  np.dot(labelvec_pred_perturbed[i], labelvec_test[i])  )\n",
    "        correctclassscorepert = np.array(correctclassscorepert)\n",
    "        fractionalvar = []\n",
    "        for i in range(len(labelvec_test)):\n",
    "            if correctclassscore[i]:\n",
    "                fractionalvar.append((correctclassscorepert[i]-correctclassscore[i])/correctclassscore[i])\n",
    "        fractionalvar = np.array(fractionalvar)\n",
    "        spell_pert_sensitivity = fractionalvar.std()/modifiedCV\n",
    "        U1 = mannWUrawdat(list(correctclassscorepert), list(correctclassscore) )\n",
    "        sp.append(spell_pert_sensitivity)\n",
    "        u.append(min(U1, 1-U1))\n",
    "    u = np.array(u)\n",
    "    sp = np.array(sp)\n",
    "    spell_per_senlist.append(sp.mean())\n",
    "    spell_per_senerrlist.append(sp.std())\n",
    "    Ulist.append(u.mean())\n",
    "    Uerrlist.append(u.std())"
   ]
  },
  {
   "cell_type": "code",
   "execution_count": 627,
   "metadata": {},
   "outputs": [
    {
     "data": {
      "text/plain": [
       "([0.434475004267213,\n",
       "  0.4797634329206408,\n",
       "  0.5072419162506241,\n",
       "  0.5057155608240084],\n",
       " [0.047351817880947285,\n",
       "  0.04304581227749528,\n",
       "  0.04066863543254349,\n",
       "  0.042617625675763736],\n",
       " [0.30567948250000004,\n",
       "  0.2491217607083333,\n",
       "  0.20858713950000002,\n",
       "  0.18267546229166667],\n",
       " [0.0012517607182398883,\n",
       "  0.0012929338254487111,\n",
       "  0.0012746116433258142,\n",
       "  0.0011236219458495803])"
      ]
     },
     "execution_count": 627,
     "metadata": {},
     "output_type": "execute_result"
    }
   ],
   "source": [
    "#spell_per_senlist = [0.43113892874499715, 0.43841262364646255, 0.45934682132651866, 0.5260822789782542]\n",
    "#Ulist = [0.307645815, 0.252185435, 0.20817315625, 0.18399685875]\n",
    "spell_per_senlist, spell_per_senerrlist, Ulist, Uerrlist"
   ]
  },
  {
   "cell_type": "code",
   "execution_count": 630,
   "metadata": {},
   "outputs": [
    {
     "data": {
      "image/png": "[encoded data removed]",
      "text/plain": [
       "<Figure size 432x288 with 1 Axes>"
      ]
     },
     "metadata": {
      "needs_background": "light"
     },
     "output_type": "display_data"
    }
   ],
   "source": [
    "plt.errorbar([2, 3, 4, 5], spell_per_senlist, spell_per_senerrlist, fmt='o', ecolor='g', capthick=2)#, 'ro')\n",
    "plt.axis([1, 6, 0.35, 0.6])\n",
    "plt.show()"
   ]
  },
  {
   "cell_type": "code",
   "execution_count": 635,
   "metadata": {},
   "outputs": [
    {
     "data": {
      "image/png": "[encoded data removed]",
      "text/plain": [
       "<Figure size 432x288 with 1 Axes>"
      ]
     },
     "metadata": {
      "needs_background": "light"
     },
     "output_type": "display_data"
    }
   ],
   "source": [
    "#plt.plot([2, 3, 4, 5], Ulist, 'ro')\n",
    "plt.errorbar([2, 3, 4, 5], Ulist, Uerrlist, fmt='.', ecolor='g', capthick=2)\n",
    "plt.axis([1, 6, 0.1, 0.4])\n",
    "plt.show()"
   ]
  },
  {
   "cell_type": "code",
   "execution_count": 637,
   "metadata": {},
   "outputs": [
    {
     "data": {
      "text/plain": [
       "0.5"
      ]
     },
     "execution_count": 637,
     "metadata": {},
     "output_type": "execute_result"
    }
   ],
   "source": [
    "mannWUrawdat([1,2,3], [1,2,3])"
   ]
  },
  {
   "cell_type": "markdown",
   "metadata": {},
   "source": [
    "## Perturbation analyis ends"
   ]
  },
  {
   "cell_type": "code",
   "execution_count": 23,
   "metadata": {},
   "outputs": [
    {
     "data": {
      "image/png": "[encoded data removed]",
      "text/plain": [
       "<Figure size 432x288 with 1 Axes>"
      ]
     },
     "metadata": {
      "needs_background": "light"
     },
     "output_type": "display_data"
    }
   ],
   "source": [
    "plt.figure(1)\n",
    "plt.plot([0, 1], [0, 1], 'k--')\n",
    "plt.plot(fpr, tpr, label='(AUC = {:.3f})'.format(AUC))\n",
    "plt.xlabel('False positive rate')\n",
    "plt.ylabel('True positive rate')\n",
    "plt.title('ROC curve')\n",
    "plt.legend(loc='best')\n",
    "plt.show()"
   ]
  },
  {
   "cell_type": "markdown",
   "metadata": {},
   "source": [
    "Closest point to (0,1) on the ROC above will have the optimal threshold (which reduces error conributed from both type I and II errors):"
   ]
  },
  {
   "cell_type": "code",
   "execution_count": 24,
   "metadata": {},
   "outputs": [
    {
     "data": {
      "text/plain": [
       "0.48099634"
      ]
     },
     "execution_count": 24,
     "metadata": {},
     "output_type": "execute_result"
    }
   ],
   "source": [
    "tprDist = np.square(tpr-1)\n",
    "fprDist = np.square(fpr)\n",
    "DistFromPerfectEff = tprDist + fprDist\n",
    "\n",
    "Optimum_cut = cut[DistFromPerfectEff.argmin()]\n",
    "Optimum_cut"
   ]
  },
  {
   "cell_type": "markdown",
   "metadata": {},
   "source": [
    "Optimal threshold at 0.5 (default cut for accuracy)."
   ]
  },
  {
   "cell_type": "markdown",
   "metadata": {},
   "source": [
    "## Storing the model"
   ]
  },
  {
   "cell_type": "code",
   "execution_count": 27,
   "metadata": {},
   "outputs": [
    {
     "name": "stdout",
     "output_type": "stream",
     "text": [
      "model saved to disk\n"
     ]
    }
   ],
   "source": [
    "from keras.models import model_from_json\n",
    "\n",
    "#model to json\n",
    "model_json = model.to_json()\n",
    "json_file = open(\"translit.json\", \"w\")\n",
    "json_file.write(model_json)\n",
    "#weights to h5\n",
    "model.save_weights(\"translit.h5\")\n",
    "print(\"model saved to disk\")"
   ]
  },
  {
   "cell_type": "markdown",
   "metadata": {},
   "source": [
    "## Loading the model"
   ]
  },
  {
   "cell_type": "code",
   "execution_count": 28,
   "metadata": {},
   "outputs": [
    {
     "name": "stdout",
     "output_type": "stream",
     "text": [
      "Loaded model from disk\n"
     ]
    }
   ],
   "source": [
    "# load model\n",
    "jfile = open('translit.json', 'r')\n",
    "loaded_model_json = jfile.read()\n",
    "jfile.close()\n",
    "loaded_model = model_from_json(loaded_model_json)\n",
    "# load weights\n",
    "loaded_model.load_weights(\"translit.h5\")\n",
    "print(\"Loaded model from disk\")\n",
    "# compile the loaded model\n",
    "loaded_model.compile(optimizer='adam', loss='categorical_crossentropy', metrics=['accuracy'])"
   ]
  },
  {
   "cell_type": "markdown",
   "metadata": {},
   "source": [
    "The loaded model reproduces the accuracy for transliterated words:"
   ]
  },
  {
   "cell_type": "code",
   "execution_count": 29,
   "metadata": {},
   "outputs": [
    {
     "name": "stdout",
     "output_type": "stream",
     "text": [
      "Accuracy: 93.66 %\n"
     ]
    }
   ],
   "source": [
    "# evaluate the loaded model\n",
    "loaded_loss, loaded_accuracy = loaded_model.evaluate(padded_docs_test, labelvec_test, verbose=0)\n",
    "print('Accuracy: %.2f %%' % (loaded_accuracy*100))"
   ]
  },
  {
   "cell_type": "markdown",
   "metadata": {},
   "source": [
    "Using Maximum Likelihood Estimator to predict the language of an entire transliterated sentence, from the individual scores of the words in that sentence:"
   ]
  },
  {
   "cell_type": "markdown",
   "metadata": {},
   "source": [
    "$$Prediced\\ Language = \\underset{l}{\\operatorname{argmax}} \\sum_{i=1}^{all\\ words\\ in\\ sentence} log(P(word_{i}|l))$$"
   ]
  },
  {
   "cell_type": "markdown",
   "metadata": {},
   "source": [
    "   \n",
    "   where $l \\in \\{ Korean, Bengali \\} $\n",
    "   \n",
    "   and $P(word|l)$ is output score of the word from the LSTM classifier for language $l$\n",
    "   "
   ]
  },
  {
   "cell_type": "code",
   "execution_count": 30,
   "metadata": {},
   "outputs": [],
   "source": [
    "import string\n",
    "\n",
    "def TextToInput(text):\n",
    "    text = text.translate(str.maketrans('', '', string.punctuation)).split()\n",
    "    text = [PhoneticWordSplit(w) for w in text]\n",
    "    return IntEncodeWords(text)"
   ]
  },
  {
   "cell_type": "code",
   "execution_count": 31,
   "metadata": {},
   "outputs": [],
   "source": [
    "def PredictLanguage(text):\n",
    "    lstminput = TextToInput(text)\n",
    "    p = model.predict(lstminput)\n",
    "    langdict = {0:\"Bengali\", 1:\"Korean\"}\n",
    "    mle = np.log(p)\n",
    "    mle = np.sum(mle, axis=0)\n",
    "    return langdict[np.argmax(mle)]"
   ]
  },
  {
   "cell_type": "code",
   "execution_count": 32,
   "metadata": {},
   "outputs": [
    {
     "data": {
      "text/plain": [
       "'Korean'"
      ]
     },
     "execution_count": 32,
     "metadata": {},
     "output_type": "execute_result"
    }
   ],
   "source": [
    "inputtext = \"cheoeumbuteo geudaeyeossjyo \\\n",
    "naege dagaol han saram \\\n",
    "dan han beonui seuchimedo \\\n",
    "nae nunbicci mareul hajyo\"\n",
    "\n",
    "#\"Amake naam~ #ki?!@\"\n",
    "PredictLanguage(inputtext)"
   ]
  },
  {
   "cell_type": "markdown",
   "metadata": {},
   "source": [
    "## Results\n",
    "   \n",
    "   The LSTM classifier using phonetic syllables as input features is able to give an optimum accuracy of ~93 % with AUC = 0.985."
   ]
  },
  {
   "cell_type": "markdown",
   "metadata": {},
   "source": [
    "### Next steps:"
   ]
  },
  {
   "cell_type": "markdown",
   "metadata": {},
   "source": [
    " * Create a web-app to run the NLP model and host on google cloud.\n",
    "\n",
    " * Perform k-fold cross-validation to better estimate classifier's performance\n",
    " * Should test vanilla RNN too since the input string of phonetic syllables are not too long\n",
    " * Improve cleaning to get rid of non-lexical vocables in the corpus to train a better discriminator\n",
    " * Try to find other sources (than song lyrics) for Korean and Bangla transliterated texts\n",
    " * Think of a better way to reduce even further English words that are contaminating the corpuses\n",
    " * Add other non-roman langauges"
   ]
  },
  {
   "cell_type": "markdown",
   "metadata": {},
   "source": [
    "## Control Training"
   ]
  },
  {
   "cell_type": "code",
   "execution_count": 33,
   "metadata": {},
   "outputs": [
    {
     "name": "stdout",
     "output_type": "stream",
     "text": [
      "Model: \"sequential_2\"\n",
      "_________________________________________________________________\n",
      "Layer (type)                 Output Shape              Param #   \n",
      "=================================================================\n",
      "embedding_2 (Embedding)      (None, 10, 8)             1600000   \n",
      "_________________________________________________________________\n",
      "lstm_2 (LSTM)                (None, 5)                 280       \n",
      "_________________________________________________________________\n",
      "dense_2 (Dense)              (None, 2)                 12        \n",
      "=================================================================\n",
      "Total params: 1,600,292\n",
      "Trainable params: 1,600,292\n",
      "Non-trainable params: 0\n",
      "_________________________________________________________________\n",
      "None\n"
     ]
    }
   ],
   "source": [
    "lstm_out = 5\n",
    "vocab_size = 200000\n",
    "max_length = 10\n",
    "# define the model\n",
    "modelControl = Sequential()\n",
    "modelControl.add(Embedding(vocab_size, 8, input_length=max_length))\n",
    "modelControl.add(LSTM(lstm_out, recurrent_initializer=\"random_uniform\", bias_initializer=\"zeros\", dropout=0.2, recurrent_dropout=0.2, kernel_regularizer=l2(0.01), recurrent_regularizer=l2(0.01), bias_regularizer=l2(0.01)))\n",
    "modelControl.add(Dense(2, activation='softmax'))\n",
    "\n",
    "# compile the model\n",
    "modelControl.compile(optimizer='adam', loss='categorical_crossentropy', metrics=['accuracy'])\n",
    "# summarize the model\n",
    "print(modelControl.summary())"
   ]
  },
  {
   "cell_type": "code",
   "execution_count": 34,
   "metadata": {},
   "outputs": [],
   "source": [
    "from keras.callbacks import EarlyStopping\n",
    "class ThresholdEarlyStopping(EarlyStopping):\n",
    "    def __init__(self, monitor='val_loss', min_epochs=10,\n",
    "                 threshold=0.995, increase=1.75, verbose=0, mode='auto'):\n",
    "\n",
    "        super(ThresholdEarlyStopping, self).__init__(\n",
    "            monitor=monitor,\n",
    "            patience=min_epochs,\n",
    "            verbose=verbose,\n",
    "            mode=mode\n",
    "        )\n",
    "\n",
    "        self.threshold = threshold\n",
    "        self.increase = increase\n",
    "\n",
    "    def on_epoch_end(self, epoch, logs={}):\n",
    "        if epoch < self.patience:\n",
    "            current = logs.get(self.monitor)\n",
    "            if current is None:\n",
    "                warnings.warn('Early stopping requires %s to be available!'\n",
    "                              % (self.monitor), RuntimeWarning)\n",
    "\n",
    "            if self.monitor_op(current, self.best):\n",
    "                # if current val_loss within 0.5% margin of the best(min) val_loss, \n",
    "                # add some grace to the patience to monitor if val_loss is indeed converging \n",
    "                if self.monitor_op(current, self.threshold*self.best):\n",
    "                    self.patience = max(self.patience, epoch*self.increase)\n",
    "                self.best = current\n",
    "\n",
    "        else:\n",
    "            if self.verbose > 0:\n",
    "                print('Epoch %05d: early stopping' % (epoch))\n",
    "\n",
    "            self.model.stop_training = True"
   ]
  },
  {
   "cell_type": "code",
   "execution_count": 35,
   "metadata": {},
   "outputs": [
    {
     "name": "stdout",
     "output_type": "stream",
     "text": [
      "[[1 0]\n",
      " [0 1]\n",
      " [1 0]\n",
      " [1 0]\n",
      " [0 1]]\n",
      "Train on 90000 samples, validate on 10000 samples\n",
      "Epoch 1/500\n",
      "90000/90000 [==============================] - 3s 31us/step - loss: 0.8363 - acc: 0.5932 - val_loss: 0.8139 - val_acc: 0.6337\n",
      "Epoch 2/500\n",
      "90000/90000 [==============================] - 2s 20us/step - loss: 0.7933 - acc: 0.6277 - val_loss: 0.7705 - val_acc: 0.6480\n",
      "Epoch 3/500\n",
      "90000/90000 [==============================] - 2s 27us/step - loss: 0.7461 - acc: 0.6531 - val_loss: 0.7162 - val_acc: 0.6666\n",
      "Epoch 4/500\n",
      "90000/90000 [==============================] - 2s 24us/step - loss: 0.6915 - acc: 0.6882 - val_loss: 0.6551 - val_acc: 0.7297\n",
      "Epoch 5/500\n",
      "90000/90000 [==============================] - 2s 25us/step - loss: 0.6522 - acc: 0.7203 - val_loss: 0.6268 - val_acc: 0.7340\n",
      "Epoch 6/500\n",
      "90000/90000 [==============================] - 2s 26us/step - loss: 0.6310 - acc: 0.7258 - val_loss: 0.6116 - val_acc: 0.7384\n",
      "Epoch 7/500\n",
      "90000/90000 [==============================] - 2s 21us/step - loss: 0.6184 - acc: 0.7286 - val_loss: 0.5996 - val_acc: 0.7413\n",
      "Epoch 8/500\n",
      "90000/90000 [==============================] - 2s 21us/step - loss: 0.6078 - acc: 0.7303 - val_loss: 0.5907 - val_acc: 0.7391\n",
      "Epoch 9/500\n",
      "90000/90000 [==============================] - 2s 22us/step - loss: 0.6004 - acc: 0.7301 - val_loss: 0.5843 - val_acc: 0.7422\n",
      "Epoch 10/500\n",
      "90000/90000 [==============================] - 2s 27us/step - loss: 0.5934 - acc: 0.7312 - val_loss: 0.5795 - val_acc: 0.7442\n",
      "Epoch 11/500\n",
      "90000/90000 [==============================] - 2s 26us/step - loss: 0.5881 - acc: 0.7326 - val_loss: 0.5741 - val_acc: 0.7435\n",
      "Epoch 12/500\n",
      "90000/90000 [==============================] - 2s 22us/step - loss: 0.5842 - acc: 0.7329 - val_loss: 0.5699 - val_acc: 0.7409\n",
      "Epoch 13/500\n",
      "90000/90000 [==============================] - 2s 25us/step - loss: 0.5807 - acc: 0.7336 - val_loss: 0.5663 - val_acc: 0.7422\n",
      "Epoch 14/500\n",
      "90000/90000 [==============================] - 2s 26us/step - loss: 0.5771 - acc: 0.7334 - val_loss: 0.5638 - val_acc: 0.7433\n",
      "Epoch 15/500\n",
      "90000/90000 [==============================] - 2s 23us/step - loss: 0.5739 - acc: 0.7341 - val_loss: 0.5613 - val_acc: 0.7442\n",
      "Epoch 16/500\n",
      "90000/90000 [==============================] - 2s 25us/step - loss: 0.5729 - acc: 0.7333 - val_loss: 0.5597 - val_acc: 0.7431\n",
      "Epoch 17/500\n",
      "90000/90000 [==============================] - 2s 23us/step - loss: 0.5700 - acc: 0.7336 - val_loss: 0.5569 - val_acc: 0.7438\n",
      "Epoch 18/500\n",
      "90000/90000 [==============================] - 2s 25us/step - loss: 0.5683 - acc: 0.7339 - val_loss: 0.5554 - val_acc: 0.7436\n",
      "Epoch 19/500\n",
      "90000/90000 [==============================] - 3s 29us/step - loss: 0.5669 - acc: 0.7337 - val_loss: 0.5534 - val_acc: 0.7442\n",
      "Epoch 20/500\n",
      "90000/90000 [==============================] - 2s 27us/step - loss: 0.5644 - acc: 0.7335 - val_loss: 0.5527 - val_acc: 0.7419\n",
      "Epoch 21/500\n",
      "90000/90000 [==============================] - 2s 24us/step - loss: 0.5640 - acc: 0.7337 - val_loss: 0.5522 - val_acc: 0.7444\n",
      "Epoch 22/500\n",
      "90000/90000 [==============================] - 2s 22us/step - loss: 0.5622 - acc: 0.7353 - val_loss: 0.5496 - val_acc: 0.7442\n",
      "Epoch 23/500\n",
      "90000/90000 [==============================] - 2s 25us/step - loss: 0.5609 - acc: 0.7354 - val_loss: 0.5490 - val_acc: 0.7398\n",
      "Epoch 24/500\n",
      "90000/90000 [==============================] - 2s 26us/step - loss: 0.5593 - acc: 0.7333 - val_loss: 0.5486 - val_acc: 0.7429\n",
      "Epoch 25/500\n",
      "90000/90000 [==============================] - 2s 25us/step - loss: 0.5593 - acc: 0.7343 - val_loss: 0.5476 - val_acc: 0.7432\n",
      "Epoch 26/500\n",
      "90000/90000 [==============================] - 3s 28us/step - loss: 0.5581 - acc: 0.7327 - val_loss: 0.5460 - val_acc: 0.7429\n",
      "Epoch 27/500\n",
      "90000/90000 [==============================] - 2s 25us/step - loss: 0.5570 - acc: 0.7332 - val_loss: 0.5453 - val_acc: 0.7409\n",
      "Epoch 28/500\n",
      "90000/90000 [==============================] - 2s 23us/step - loss: 0.5562 - acc: 0.7335 - val_loss: 0.5443 - val_acc: 0.7412\n",
      "Epoch 29/500\n",
      "90000/90000 [==============================] - 2s 24us/step - loss: 0.5551 - acc: 0.7339 - val_loss: 0.5438 - val_acc: 0.7418\n",
      "Epoch 30/500\n",
      "90000/90000 [==============================] - 2s 22us/step - loss: 0.5546 - acc: 0.7330 - val_loss: 0.5418 - val_acc: 0.7447\n",
      "Epoch 31/500\n",
      "90000/90000 [==============================] - 2s 21us/step - loss: 0.5537 - acc: 0.7336 - val_loss: 0.5420 - val_acc: 0.7430\n",
      "Epoch 32/500\n",
      "90000/90000 [==============================] - 2s 21us/step - loss: 0.5529 - acc: 0.7336 - val_loss: 0.5414 - val_acc: 0.7495\n",
      "Epoch 33/500\n",
      "90000/90000 [==============================] - 2s 21us/step - loss: 0.5518 - acc: 0.7336 - val_loss: 0.5415 - val_acc: 0.7496\n",
      "Epoch 34/500\n",
      "90000/90000 [==============================] - 2s 21us/step - loss: 0.5514 - acc: 0.7339 - val_loss: 0.5398 - val_acc: 0.7441\n",
      "Epoch 35/500\n",
      "90000/90000 [==============================] - 2s 27us/step - loss: 0.5513 - acc: 0.7333 - val_loss: 0.5395 - val_acc: 0.7495\n",
      "Epoch 36/500\n",
      "90000/90000 [==============================] - 2s 27us/step - loss: 0.5503 - acc: 0.7340 - val_loss: 0.5386 - val_acc: 0.7419\n",
      "Epoch 37/500\n",
      "90000/90000 [==============================] - 3s 29us/step - loss: 0.5494 - acc: 0.7337 - val_loss: 0.5385 - val_acc: 0.7513\n",
      "Epoch 38/500\n",
      "90000/90000 [==============================] - 2s 25us/step - loss: 0.5494 - acc: 0.7340 - val_loss: 0.5378 - val_acc: 0.7408\n",
      "Epoch 39/500\n",
      "90000/90000 [==============================] - 2s 24us/step - loss: 0.5495 - acc: 0.7334 - val_loss: 0.5382 - val_acc: 0.7474\n",
      "Epoch 40/500\n",
      "90000/90000 [==============================] - 2s 22us/step - loss: 0.5482 - acc: 0.7339 - val_loss: 0.5355 - val_acc: 0.7413\n",
      "Epoch 41/500\n",
      "90000/90000 [==============================] - 2s 22us/step - loss: 0.5476 - acc: 0.7336 - val_loss: 0.5357 - val_acc: 0.7410\n",
      "Epoch 42/500\n",
      "90000/90000 [==============================] - 2s 22us/step - loss: 0.5473 - acc: 0.7343 - val_loss: 0.5354 - val_acc: 0.7529\n",
      "Epoch 43/500\n",
      "90000/90000 [==============================] - 2s 22us/step - loss: 0.5470 - acc: 0.7341 - val_loss: 0.5348 - val_acc: 0.7485\n",
      "Epoch 44/500\n",
      "90000/90000 [==============================] - 2s 22us/step - loss: 0.5461 - acc: 0.7354 - val_loss: 0.5349 - val_acc: 0.7502\n",
      "Epoch 45/500\n",
      "90000/90000 [==============================] - 2s 22us/step - loss: 0.5454 - acc: 0.7334 - val_loss: 0.5336 - val_acc: 0.7528\n",
      "Epoch 46/500\n",
      "90000/90000 [==============================] - 2s 22us/step - loss: 0.5452 - acc: 0.7336 - val_loss: 0.5337 - val_acc: 0.7415\n",
      "Epoch 47/500\n",
      "90000/90000 [==============================] - 2s 22us/step - loss: 0.5442 - acc: 0.7348 - val_loss: 0.5332 - val_acc: 0.7532\n",
      "Epoch 48/500\n",
      "90000/90000 [==============================] - 2s 23us/step - loss: 0.5446 - acc: 0.7342 - val_loss: 0.5326 - val_acc: 0.7456\n",
      "Epoch 49/500\n",
      "90000/90000 [==============================] - 2s 22us/step - loss: 0.5434 - acc: 0.7355 - val_loss: 0.5332 - val_acc: 0.7520\n",
      "Epoch 50/500\n",
      "90000/90000 [==============================] - 2s 21us/step - loss: 0.5429 - acc: 0.7346 - val_loss: 0.5322 - val_acc: 0.7481\n",
      "Epoch 51/500\n",
      "90000/90000 [==============================] - 2s 21us/step - loss: 0.5428 - acc: 0.7337 - val_loss: 0.5313 - val_acc: 0.7479\n",
      "Epoch 00050: early stopping\n"
     ]
    }
   ],
   "source": [
    "# fit the model\n",
    "print(labelvec[:5])\n",
    "historyControl = modelControl.fit(padded_docsControl, labelvec, batch_size=2000, validation_split=0.1, epochs=500, verbose=1, callbacks=[ThresholdEarlyStopping(verbose=1, min_epochs=50)])"
   ]
  },
  {
   "cell_type": "code",
   "execution_count": 36,
   "metadata": {},
   "outputs": [
    {
     "data": {
      "image/png": "[encoded data removed]",
      "text/plain": [
       "<Figure size 432x288 with 1 Axes>"
      ]
     },
     "metadata": {
      "needs_background": "light"
     },
     "output_type": "display_data"
    }
   ],
   "source": [
    "plt.plot(historyControl.history['loss'])\n",
    "plt.plot(history.history['loss'])\n",
    "plt.plot(historyControl.history['val_loss'])\n",
    "plt.plot(history.history['val_loss'])\n",
    "plt.ylabel('loss')\n",
    "plt.xlabel('epoch')\n",
    "plt.legend(['training loss (Control)', 'training loss', 'validation loss (Control)', 'validation loss'], loc='best')\n",
    "plt.show()"
   ]
  },
  {
   "cell_type": "code",
   "execution_count": 37,
   "metadata": {},
   "outputs": [
    {
     "name": "stdout",
     "output_type": "stream",
     "text": [
      "Accuracy:\n",
      " (Control) 52.23 %  \n",
      " (test) 93.66 %\n"
     ]
    }
   ],
   "source": [
    "# evaluate the model\n",
    "lossControl, accuracyControl = model.evaluate(padded_docs_testControl, labelvec_test, verbose=0)\n",
    "print('Accuracy:\\n (Control) %.2f %%  \\n (test) %.2f %%' % ((accuracyControl*100), (accuracy*100)))"
   ]
  },
  {
   "cell_type": "code",
   "execution_count": 38,
   "metadata": {},
   "outputs": [],
   "source": [
    "from sklearn.metrics import roc_curve, auc\n",
    "labelvec_predControl = model.predict(padded_docs_testControl)\n",
    "fprControl, tprControl, cutControl = roc_curve(labelvec_test.ravel(), labelvec_predControl.ravel())\n",
    "AUCControl = auc(fprControl, tprControl)"
   ]
  },
  {
   "cell_type": "code",
   "execution_count": 39,
   "metadata": {},
   "outputs": [
    {
     "data": {
      "text/plain": [
       "(array([[0.00796575, 0.99203426],\n",
       "        [0.00676834, 0.99323165],\n",
       "        [0.9926233 , 0.00737673],\n",
       "        [0.99385345, 0.00614658],\n",
       "        [0.99088216, 0.00911789]], dtype=float32), array([0, 0, 1, 1, 1]))"
      ]
     },
     "execution_count": 39,
     "metadata": {},
     "output_type": "execute_result"
    }
   ],
   "source": [
    "labelvec_pred[:5], labelvec_test[:5, 0]"
   ]
  },
  {
   "cell_type": "code",
   "execution_count": 40,
   "metadata": {},
   "outputs": [
    {
     "data": {
      "image/png": "[encoded data removed]",
      "text/plain": [
       "<Figure size 432x288 with 1 Axes>"
      ]
     },
     "metadata": {
      "needs_background": "light"
     },
     "output_type": "display_data"
    }
   ],
   "source": [
    "plt.figure(1)\n",
    "plt.plot([0, 1], [0, 1], 'k--')\n",
    "plt.plot(fprControl, tprControl, label='(AUC (Control) = {:.3f})'.format(AUCControl))\n",
    "plt.plot(fpr, tpr, label='(AUC = {:.3f})'.format(AUC))\n",
    "plt.xlabel('False positive rate')\n",
    "plt.ylabel('True positive rate')\n",
    "plt.title('ROC curve')\n",
    "plt.legend(loc='best')\n",
    "plt.show()"
   ]
  },
  {
   "cell_type": "code",
   "execution_count": 41,
   "metadata": {},
   "outputs": [
    {
     "data": {
      "text/plain": [
       "0.052821357"
      ]
     },
     "execution_count": 41,
     "metadata": {},
     "output_type": "execute_result"
    }
   ],
   "source": [
    "tprDistControl = np.square(tprControl-1)\n",
    "fprDistControl = np.square(fprControl)\n",
    "DistFromPerfectEffControl = tprDistControl + fprDistControl\n",
    "\n",
    "Optimum_cutControl = cut[DistFromPerfectEffControl.argmin()]\n",
    "Optimum_cutControl"
   ]
  },
  {
   "cell_type": "markdown",
   "metadata": {},
   "source": [
    "## Alternate Model (bidirectional-LSTM)"
   ]
  },
  {
   "cell_type": "code",
   "execution_count": 42,
   "metadata": {},
   "outputs": [
    {
     "name": "stdout",
     "output_type": "stream",
     "text": [
      "Model: \"sequential_3\"\n",
      "_________________________________________________________________\n",
      "Layer (type)                 Output Shape              Param #   \n",
      "=================================================================\n",
      "embedding_3 (Embedding)      (None, 10, 8)             1600000   \n",
      "_________________________________________________________________\n",
      "bidirectional_1 (Bidirection (None, 10)                560       \n",
      "_________________________________________________________________\n",
      "dense_3 (Dense)              (None, 2)                 22        \n",
      "=================================================================\n",
      "Total params: 1,600,582\n",
      "Trainable params: 1,600,582\n",
      "Non-trainable params: 0\n",
      "_________________________________________________________________\n",
      "None\n"
     ]
    }
   ],
   "source": [
    "from keras.layers import Bidirectional\n",
    "lstm_out = 5\n",
    "vocab_size = 200000\n",
    "max_length = 10\n",
    "# define the model\n",
    "modelAlt = Sequential()\n",
    "modelAlt.add( Embedding(vocab_size, 8, input_length=max_length) )\n",
    "modelAlt.add( Bidirectional(LSTM(lstm_out, recurrent_initializer=\"random_uniform\", bias_initializer=\"zeros\", dropout=0.2, recurrent_dropout=0.2, kernel_regularizer=l2(0.01), recurrent_regularizer=l2(0.01), bias_regularizer=l2(0.01) )) )\n",
    "modelAlt.add( Dense(2, activation='softmax') )\n",
    "\n",
    "# compile the model\n",
    "modelAlt.compile(optimizer='adam', loss='categorical_crossentropy', metrics=['accuracy'])\n",
    "# summarize the model\n",
    "print(modelAlt.summary())"
   ]
  },
  {
   "cell_type": "code",
   "execution_count": 43,
   "metadata": {},
   "outputs": [
    {
     "name": "stdout",
     "output_type": "stream",
     "text": [
      "[[1 0]\n",
      " [0 1]\n",
      " [1 0]\n",
      " [1 0]\n",
      " [0 1]]\n",
      "Train on 90000 samples, validate on 10000 samples\n",
      "Epoch 1/500\n",
      "90000/90000 [==============================] - 5s 54us/step - loss: 1.0011 - acc: 0.6911 - val_loss: 0.9585 - val_acc: 0.7159\n",
      "Epoch 2/500\n",
      "90000/90000 [==============================] - 3s 33us/step - loss: 0.9184 - acc: 0.8027 - val_loss: 0.8743 - val_acc: 0.8722\n",
      "Epoch 3/500\n",
      "90000/90000 [==============================] - 3s 30us/step - loss: 0.8233 - acc: 0.8637 - val_loss: 0.7613 - val_acc: 0.8787\n",
      "Epoch 4/500\n",
      "90000/90000 [==============================] - 3s 28us/step - loss: 0.6767 - acc: 0.8878 - val_loss: 0.5712 - val_acc: 0.9041\n",
      "Epoch 5/500\n",
      "90000/90000 [==============================] - 2s 27us/step - loss: 0.4911 - acc: 0.9142 - val_loss: 0.4284 - val_acc: 0.9168\n",
      "Epoch 6/500\n",
      "90000/90000 [==============================] - 3s 28us/step - loss: 0.4108 - acc: 0.9293 - val_loss: 0.3828 - val_acc: 0.9215\n",
      "Epoch 7/500\n",
      "90000/90000 [==============================] - 2s 27us/step - loss: 0.3715 - acc: 0.9354 - val_loss: 0.3528 - val_acc: 0.9242\n",
      "Epoch 8/500\n",
      "90000/90000 [==============================] - 2s 28us/step - loss: 0.3445 - acc: 0.9374 - val_loss: 0.3325 - val_acc: 0.9284\n",
      "Epoch 9/500\n",
      "90000/90000 [==============================] - 2s 27us/step - loss: 0.3237 - acc: 0.9403 - val_loss: 0.3183 - val_acc: 0.9276\n",
      "Epoch 10/500\n",
      "90000/90000 [==============================] - 2s 27us/step - loss: 0.3085 - acc: 0.9418 - val_loss: 0.3045 - val_acc: 0.9301\n",
      "Epoch 11/500\n",
      "90000/90000 [==============================] - 2s 27us/step - loss: 0.2980 - acc: 0.9420 - val_loss: 0.2940 - val_acc: 0.9302\n",
      "Epoch 12/500\n",
      "90000/90000 [==============================] - 2s 27us/step - loss: 0.2875 - acc: 0.9428 - val_loss: 0.2858 - val_acc: 0.9303\n",
      "Epoch 13/500\n",
      "90000/90000 [==============================] - 2s 27us/step - loss: 0.2803 - acc: 0.9429 - val_loss: 0.2804 - val_acc: 0.9318\n",
      "Epoch 14/500\n",
      "90000/90000 [==============================] - 2s 27us/step - loss: 0.2732 - acc: 0.9434 - val_loss: 0.2743 - val_acc: 0.9302\n",
      "Epoch 15/500\n",
      "90000/90000 [==============================] - 2s 27us/step - loss: 0.2678 - acc: 0.9434 - val_loss: 0.2703 - val_acc: 0.9311\n",
      "Epoch 16/500\n",
      "90000/90000 [==============================] - 3s 31us/step - loss: 0.2643 - acc: 0.9431 - val_loss: 0.2649 - val_acc: 0.9310\n",
      "Epoch 17/500\n",
      "90000/90000 [==============================] - 3s 36us/step - loss: 0.2599 - acc: 0.9431 - val_loss: 0.2622 - val_acc: 0.9316\n",
      "Epoch 18/500\n",
      "90000/90000 [==============================] - 3s 30us/step - loss: 0.2565 - acc: 0.9438 - val_loss: 0.2599 - val_acc: 0.9306\n",
      "Epoch 19/500\n",
      "90000/90000 [==============================] - 3s 32us/step - loss: 0.2527 - acc: 0.9434 - val_loss: 0.2565 - val_acc: 0.9316\n",
      "Epoch 20/500\n",
      "90000/90000 [==============================] - 3s 28us/step - loss: 0.2497 - acc: 0.9432 - val_loss: 0.2540 - val_acc: 0.9315\n",
      "Epoch 21/500\n",
      "90000/90000 [==============================] - 3s 33us/step - loss: 0.2479 - acc: 0.9439 - val_loss: 0.2516 - val_acc: 0.9307\n",
      "Epoch 22/500\n",
      "90000/90000 [==============================] - 3s 34us/step - loss: 0.2453 - acc: 0.9436 - val_loss: 0.2496 - val_acc: 0.9311\n",
      "Epoch 23/500\n",
      "90000/90000 [==============================] - 3s 30us/step - loss: 0.2436 - acc: 0.9435 - val_loss: 0.2479 - val_acc: 0.9313\n",
      "Epoch 24/500\n",
      "90000/90000 [==============================] - 3s 29us/step - loss: 0.2402 - acc: 0.9437 - val_loss: 0.2475 - val_acc: 0.9313\n",
      "Epoch 25/500\n",
      "90000/90000 [==============================] - 3s 31us/step - loss: 0.2397 - acc: 0.9434 - val_loss: 0.2445 - val_acc: 0.9312\n",
      "Epoch 26/500\n",
      "90000/90000 [==============================] - 3s 28us/step - loss: 0.2382 - acc: 0.9439 - val_loss: 0.2437 - val_acc: 0.9316\n",
      "Epoch 27/500\n",
      "90000/90000 [==============================] - 2s 27us/step - loss: 0.2371 - acc: 0.9434 - val_loss: 0.2419 - val_acc: 0.9316\n",
      "Epoch 28/500\n",
      "90000/90000 [==============================] - 3s 29us/step - loss: 0.2341 - acc: 0.9439 - val_loss: 0.2406 - val_acc: 0.9313\n",
      "Epoch 29/500\n",
      "90000/90000 [==============================] - 3s 29us/step - loss: 0.2326 - acc: 0.9435 - val_loss: 0.2397 - val_acc: 0.9324\n",
      "Epoch 30/500\n",
      "90000/90000 [==============================] - 3s 30us/step - loss: 0.2318 - acc: 0.9439 - val_loss: 0.2389 - val_acc: 0.9317\n",
      "Epoch 31/500\n",
      "90000/90000 [==============================] - 3s 29us/step - loss: 0.2307 - acc: 0.9433 - val_loss: 0.2380 - val_acc: 0.9315\n",
      "Epoch 32/500\n",
      "90000/90000 [==============================] - 2s 27us/step - loss: 0.2296 - acc: 0.9438 - val_loss: 0.2367 - val_acc: 0.9318\n",
      "Epoch 33/500\n",
      "90000/90000 [==============================] - 2s 27us/step - loss: 0.2284 - acc: 0.9438 - val_loss: 0.2356 - val_acc: 0.9292\n",
      "Epoch 34/500\n",
      "90000/90000 [==============================] - 3s 29us/step - loss: 0.2269 - acc: 0.9433 - val_loss: 0.2346 - val_acc: 0.9302\n",
      "Epoch 35/500\n",
      "90000/90000 [==============================] - 3s 30us/step - loss: 0.2252 - acc: 0.9429 - val_loss: 0.2340 - val_acc: 0.9304\n",
      "Epoch 36/500\n",
      "90000/90000 [==============================] - 3s 31us/step - loss: 0.2248 - acc: 0.9431 - val_loss: 0.2333 - val_acc: 0.9304\n",
      "Epoch 37/500\n",
      "90000/90000 [==============================] - 3s 33us/step - loss: 0.2237 - acc: 0.9428 - val_loss: 0.2326 - val_acc: 0.9297\n",
      "Epoch 38/500\n",
      "90000/90000 [==============================] - 3s 28us/step - loss: 0.2232 - acc: 0.9433 - val_loss: 0.2325 - val_acc: 0.9297\n",
      "Epoch 39/500\n",
      "90000/90000 [==============================] - 2s 28us/step - loss: 0.2215 - acc: 0.9432 - val_loss: 0.2310 - val_acc: 0.9301\n",
      "Epoch 40/500\n",
      "90000/90000 [==============================] - 3s 29us/step - loss: 0.2202 - acc: 0.9431 - val_loss: 0.2304 - val_acc: 0.9305\n",
      "Epoch 41/500\n",
      "90000/90000 [==============================] - 3s 29us/step - loss: 0.2198 - acc: 0.9430 - val_loss: 0.2295 - val_acc: 0.9290\n",
      "Epoch 42/500\n",
      "90000/90000 [==============================] - 3s 30us/step - loss: 0.2187 - acc: 0.9429 - val_loss: 0.2291 - val_acc: 0.9296\n",
      "Epoch 43/500\n",
      "90000/90000 [==============================] - 3s 32us/step - loss: 0.2174 - acc: 0.9420 - val_loss: 0.2287 - val_acc: 0.9284\n",
      "Epoch 44/500\n",
      "90000/90000 [==============================] - 3s 28us/step - loss: 0.2163 - acc: 0.9423 - val_loss: 0.2278 - val_acc: 0.9282\n",
      "Epoch 45/500\n",
      "90000/90000 [==============================] - 3s 29us/step - loss: 0.2156 - acc: 0.9428 - val_loss: 0.2271 - val_acc: 0.9294\n",
      "Epoch 46/500\n",
      "90000/90000 [==============================] - 3s 31us/step - loss: 0.2160 - acc: 0.9427 - val_loss: 0.2266 - val_acc: 0.9295\n",
      "Epoch 47/500\n",
      "90000/90000 [==============================] - 3s 31us/step - loss: 0.2131 - acc: 0.9426 - val_loss: 0.2258 - val_acc: 0.9289\n",
      "Epoch 48/500\n",
      "90000/90000 [==============================] - 3s 31us/step - loss: 0.2137 - acc: 0.9427 - val_loss: 0.2256 - val_acc: 0.9288\n",
      "Epoch 49/500\n",
      "90000/90000 [==============================] - 3s 31us/step - loss: 0.2115 - acc: 0.9421 - val_loss: 0.2246 - val_acc: 0.9277\n",
      "Epoch 50/500\n",
      "90000/90000 [==============================] - 3s 31us/step - loss: 0.2107 - acc: 0.9415 - val_loss: 0.2240 - val_acc: 0.9271\n",
      "Epoch 51/500\n",
      "90000/90000 [==============================] - 3s 30us/step - loss: 0.2083 - acc: 0.9415 - val_loss: 0.2228 - val_acc: 0.9279\n",
      "Epoch 52/500\n",
      "90000/90000 [==============================] - 3s 28us/step - loss: 0.2084 - acc: 0.9412 - val_loss: 0.2223 - val_acc: 0.9290\n",
      "Epoch 53/500\n",
      "90000/90000 [==============================] - 3s 30us/step - loss: 0.2067 - acc: 0.9408 - val_loss: 0.2220 - val_acc: 0.9285\n",
      "Epoch 54/500\n",
      "90000/90000 [==============================] - 3s 30us/step - loss: 0.2063 - acc: 0.9414 - val_loss: 0.2212 - val_acc: 0.9285\n",
      "Epoch 55/500\n",
      "90000/90000 [==============================] - 3s 28us/step - loss: 0.2043 - acc: 0.9405 - val_loss: 0.2203 - val_acc: 0.9279\n",
      "Epoch 56/500\n",
      "90000/90000 [==============================] - 3s 28us/step - loss: 0.2033 - acc: 0.9407 - val_loss: 0.2206 - val_acc: 0.9278\n",
      "Epoch 57/500\n",
      "90000/90000 [==============================] - 3s 28us/step - loss: 0.2028 - acc: 0.9411 - val_loss: 0.2195 - val_acc: 0.9286\n",
      "Epoch 58/500\n",
      "90000/90000 [==============================] - 3s 28us/step - loss: 0.2015 - acc: 0.9402 - val_loss: 0.2183 - val_acc: 0.9275\n",
      "Epoch 59/500\n"
     ]
    },
    {
     "name": "stdout",
     "output_type": "stream",
     "text": [
      "90000/90000 [==============================] - 2s 26us/step - loss: 0.2005 - acc: 0.9398 - val_loss: 0.2177 - val_acc: 0.9274\n",
      "Epoch 60/500\n",
      "90000/90000 [==============================] - 2s 26us/step - loss: 0.1997 - acc: 0.9401 - val_loss: 0.2173 - val_acc: 0.9278\n",
      "Epoch 61/500\n",
      "90000/90000 [==============================] - 2s 26us/step - loss: 0.1989 - acc: 0.9402 - val_loss: 0.2169 - val_acc: 0.9283\n",
      "Epoch 62/500\n",
      "90000/90000 [==============================] - 2s 27us/step - loss: 0.1972 - acc: 0.9399 - val_loss: 0.2160 - val_acc: 0.9279\n",
      "Epoch 63/500\n",
      "90000/90000 [==============================] - 2s 26us/step - loss: 0.1962 - acc: 0.9396 - val_loss: 0.2151 - val_acc: 0.9273\n",
      "Epoch 64/500\n",
      "90000/90000 [==============================] - 2s 27us/step - loss: 0.1946 - acc: 0.9396 - val_loss: 0.2147 - val_acc: 0.9281\n",
      "Epoch 65/500\n",
      "90000/90000 [==============================] - 3s 30us/step - loss: 0.1945 - acc: 0.9395 - val_loss: 0.2141 - val_acc: 0.9283\n",
      "Epoch 66/500\n",
      "90000/90000 [==============================] - 3s 33us/step - loss: 0.1929 - acc: 0.9388 - val_loss: 0.2130 - val_acc: 0.9265\n",
      "Epoch 67/500\n",
      "90000/90000 [==============================] - 3s 30us/step - loss: 0.1919 - acc: 0.9391 - val_loss: 0.2123 - val_acc: 0.9277\n",
      "Epoch 68/500\n",
      "90000/90000 [==============================] - 3s 31us/step - loss: 0.1908 - acc: 0.9388 - val_loss: 0.2116 - val_acc: 0.9266\n",
      "Epoch 69/500\n",
      "90000/90000 [==============================] - 3s 32us/step - loss: 0.1901 - acc: 0.9389 - val_loss: 0.2113 - val_acc: 0.9274\n",
      "Epoch 70/500\n",
      "90000/90000 [==============================] - 3s 28us/step - loss: 0.1887 - acc: 0.9390 - val_loss: 0.2102 - val_acc: 0.9260\n",
      "Epoch 71/500\n",
      "90000/90000 [==============================] - 3s 30us/step - loss: 0.1878 - acc: 0.9389 - val_loss: 0.2095 - val_acc: 0.9271\n",
      "Epoch 72/500\n",
      "90000/90000 [==============================] - 3s 31us/step - loss: 0.1861 - acc: 0.9386 - val_loss: 0.2084 - val_acc: 0.9264\n",
      "Epoch 73/500\n",
      "90000/90000 [==============================] - 3s 28us/step - loss: 0.1851 - acc: 0.9388 - val_loss: 0.2078 - val_acc: 0.9275\n",
      "Epoch 74/500\n",
      "90000/90000 [==============================] - 2s 27us/step - loss: 0.1835 - acc: 0.9388 - val_loss: 0.2066 - val_acc: 0.9270\n",
      "Epoch 75/500\n",
      "90000/90000 [==============================] - 2s 27us/step - loss: 0.1829 - acc: 0.9385 - val_loss: 0.2057 - val_acc: 0.9267\n",
      "Epoch 76/500\n",
      "90000/90000 [==============================] - 2s 27us/step - loss: 0.1813 - acc: 0.9387 - val_loss: 0.2050 - val_acc: 0.9270\n",
      "Epoch 77/500\n",
      "90000/90000 [==============================] - 2s 27us/step - loss: 0.1806 - acc: 0.9386 - val_loss: 0.2042 - val_acc: 0.9277\n",
      "Epoch 78/500\n",
      "90000/90000 [==============================] - 2s 27us/step - loss: 0.1792 - acc: 0.9387 - val_loss: 0.2035 - val_acc: 0.9270\n",
      "Epoch 79/500\n",
      "90000/90000 [==============================] - 2s 27us/step - loss: 0.1783 - acc: 0.9385 - val_loss: 0.2026 - val_acc: 0.9266\n",
      "Epoch 80/500\n",
      "90000/90000 [==============================] - 3s 29us/step - loss: 0.1775 - acc: 0.9387 - val_loss: 0.2021 - val_acc: 0.9269\n",
      "Epoch 81/500\n",
      "90000/90000 [==============================] - 3s 32us/step - loss: 0.1764 - acc: 0.9389 - val_loss: 0.2016 - val_acc: 0.9273\n",
      "Epoch 82/500\n",
      "90000/90000 [==============================] - 3s 28us/step - loss: 0.1760 - acc: 0.9384 - val_loss: 0.2009 - val_acc: 0.9267\n",
      "Epoch 83/500\n",
      "90000/90000 [==============================] - 2s 27us/step - loss: 0.1749 - acc: 0.9387 - val_loss: 0.2003 - val_acc: 0.9267\n",
      "Epoch 84/500\n",
      "90000/90000 [==============================] - 2s 27us/step - loss: 0.1743 - acc: 0.9388 - val_loss: 0.1999 - val_acc: 0.9268\n",
      "Epoch 85/500\n",
      "90000/90000 [==============================] - 2s 26us/step - loss: 0.1740 - acc: 0.9384 - val_loss: 0.1994 - val_acc: 0.9262\n",
      "Epoch 86/500\n",
      "90000/90000 [==============================] - 2s 27us/step - loss: 0.1734 - acc: 0.9385 - val_loss: 0.1991 - val_acc: 0.9265\n",
      "Epoch 87/500\n",
      "90000/90000 [==============================] - 2s 28us/step - loss: 0.1731 - acc: 0.9386 - val_loss: 0.1986 - val_acc: 0.9269\n",
      "Epoch 88/500\n",
      "90000/90000 [==============================] - 2s 26us/step - loss: 0.1720 - acc: 0.9387 - val_loss: 0.1982 - val_acc: 0.9267\n",
      "Epoch 89/500\n",
      "90000/90000 [==============================] - 2s 27us/step - loss: 0.1719 - acc: 0.9391 - val_loss: 0.1980 - val_acc: 0.9272\n",
      "Epoch 90/500\n",
      "90000/90000 [==============================] - 2s 26us/step - loss: 0.1714 - acc: 0.9386 - val_loss: 0.1974 - val_acc: 0.9274\n",
      "Epoch 91/500\n",
      "90000/90000 [==============================] - 2s 26us/step - loss: 0.1707 - acc: 0.9388 - val_loss: 0.1979 - val_acc: 0.9267\n",
      "Epoch 92/500\n",
      "90000/90000 [==============================] - 2s 27us/step - loss: 0.1704 - acc: 0.9385 - val_loss: 0.1970 - val_acc: 0.9273\n",
      "Epoch 93/500\n",
      "90000/90000 [==============================] - 2s 26us/step - loss: 0.1698 - acc: 0.9387 - val_loss: 0.1968 - val_acc: 0.9269\n",
      "Epoch 94/500\n",
      "90000/90000 [==============================] - 3s 28us/step - loss: 0.1694 - acc: 0.9389 - val_loss: 0.1959 - val_acc: 0.9260\n",
      "Epoch 95/500\n",
      "90000/90000 [==============================] - 2s 28us/step - loss: 0.1690 - acc: 0.9386 - val_loss: 0.1959 - val_acc: 0.9268\n",
      "Epoch 96/500\n",
      "90000/90000 [==============================] - 2s 27us/step - loss: 0.1686 - acc: 0.9386 - val_loss: 0.1952 - val_acc: 0.9271\n",
      "Epoch 97/500\n",
      "90000/90000 [==============================] - 2s 27us/step - loss: 0.1679 - acc: 0.9383 - val_loss: 0.1946 - val_acc: 0.9272\n",
      "Epoch 98/500\n",
      "90000/90000 [==============================] - 3s 29us/step - loss: 0.1676 - acc: 0.9383 - val_loss: 0.1944 - val_acc: 0.9282\n",
      "Epoch 99/500\n",
      "90000/90000 [==============================] - 2s 27us/step - loss: 0.1670 - acc: 0.9384 - val_loss: 0.1941 - val_acc: 0.9276\n",
      "Epoch 100/500\n",
      "90000/90000 [==============================] - 2s 26us/step - loss: 0.1664 - acc: 0.9385 - val_loss: 0.1932 - val_acc: 0.9274\n",
      "Epoch 101/500\n",
      "90000/90000 [==============================] - 2s 28us/step - loss: 0.1663 - acc: 0.9384 - val_loss: 0.1935 - val_acc: 0.9261\n",
      "Epoch 102/500\n",
      "90000/90000 [==============================] - 2s 26us/step - loss: 0.1656 - acc: 0.9384 - val_loss: 0.1919 - val_acc: 0.9265\n",
      "Epoch 103/500\n",
      "90000/90000 [==============================] - 2s 26us/step - loss: 0.1647 - acc: 0.9381 - val_loss: 0.1909 - val_acc: 0.9272\n",
      "Epoch 104/500\n",
      "90000/90000 [==============================] - 2s 27us/step - loss: 0.1638 - acc: 0.9383 - val_loss: 0.1902 - val_acc: 0.9276\n",
      "Epoch 105/500\n",
      "90000/90000 [==============================] - 2s 26us/step - loss: 0.1624 - acc: 0.9382 - val_loss: 0.1892 - val_acc: 0.9262\n",
      "Epoch 106/500\n",
      "90000/90000 [==============================] - 2s 27us/step - loss: 0.1612 - acc: 0.9382 - val_loss: 0.1878 - val_acc: 0.9260\n",
      "Epoch 107/500\n",
      "90000/90000 [==============================] - 2s 27us/step - loss: 0.1600 - acc: 0.9380 - val_loss: 0.1860 - val_acc: 0.9260\n",
      "Epoch 108/500\n",
      "90000/90000 [==============================] - 2s 26us/step - loss: 0.1589 - acc: 0.9380 - val_loss: 0.1853 - val_acc: 0.9270\n",
      "Epoch 109/500\n",
      "90000/90000 [==============================] - 2s 26us/step - loss: 0.1578 - acc: 0.9385 - val_loss: 0.1849 - val_acc: 0.9261\n",
      "Epoch 110/500\n",
      "90000/90000 [==============================] - 2s 26us/step - loss: 0.1569 - acc: 0.9381 - val_loss: 0.1840 - val_acc: 0.9273\n",
      "Epoch 111/500\n",
      "90000/90000 [==============================] - 2s 26us/step - loss: 0.1564 - acc: 0.9383 - val_loss: 0.1833 - val_acc: 0.9268\n",
      "Epoch 112/500\n",
      "90000/90000 [==============================] - 2s 27us/step - loss: 0.1558 - acc: 0.9382 - val_loss: 0.1833 - val_acc: 0.9260\n",
      "Epoch 113/500\n",
      "90000/90000 [==============================] - 2s 27us/step - loss: 0.1551 - acc: 0.9383 - val_loss: 0.1830 - val_acc: 0.9272\n",
      "Epoch 114/500\n",
      "90000/90000 [==============================] - 2s 27us/step - loss: 0.1550 - acc: 0.9384 - val_loss: 0.1828 - val_acc: 0.9266\n",
      "Epoch 115/500\n",
      "90000/90000 [==============================] - 2s 27us/step - loss: 0.1551 - acc: 0.9383 - val_loss: 0.1828 - val_acc: 0.9270\n",
      "Epoch 116/500\n",
      "90000/90000 [==============================] - 2s 27us/step - loss: 0.1543 - acc: 0.9386 - val_loss: 0.1827 - val_acc: 0.9268\n",
      "Epoch 117/500\n",
      "90000/90000 [==============================] - 2s 27us/step - loss: 0.1539 - acc: 0.9384 - val_loss: 0.1817 - val_acc: 0.9262\n"
     ]
    },
    {
     "name": "stdout",
     "output_type": "stream",
     "text": [
      "Epoch 118/500\n",
      "90000/90000 [==============================] - 2s 26us/step - loss: 0.1535 - acc: 0.9383 - val_loss: 0.1820 - val_acc: 0.9271\n",
      "Epoch 119/500\n",
      "90000/90000 [==============================] - 2s 28us/step - loss: 0.1534 - acc: 0.9387 - val_loss: 0.1816 - val_acc: 0.9273\n",
      "Epoch 120/500\n",
      "90000/90000 [==============================] - 3s 30us/step - loss: 0.1533 - acc: 0.9389 - val_loss: 0.1811 - val_acc: 0.9270\n",
      "Epoch 121/500\n",
      "90000/90000 [==============================] - 2s 27us/step - loss: 0.1533 - acc: 0.9384 - val_loss: 0.1811 - val_acc: 0.9266\n",
      "Epoch 122/500\n",
      "90000/90000 [==============================] - 3s 28us/step - loss: 0.1527 - acc: 0.9382 - val_loss: 0.1814 - val_acc: 0.9260\n",
      "Epoch 123/500\n",
      "90000/90000 [==============================] - 2s 27us/step - loss: 0.1523 - acc: 0.9386 - val_loss: 0.1811 - val_acc: 0.9277\n",
      "Epoch 124/500\n",
      "90000/90000 [==============================] - 2s 27us/step - loss: 0.1521 - acc: 0.9385 - val_loss: 0.1808 - val_acc: 0.9277\n",
      "Epoch 125/500\n",
      "90000/90000 [==============================] - 2s 26us/step - loss: 0.1520 - acc: 0.9385 - val_loss: 0.1807 - val_acc: 0.9270\n",
      "Epoch 126/500\n",
      "90000/90000 [==============================] - 2s 27us/step - loss: 0.1519 - acc: 0.9383 - val_loss: 0.1810 - val_acc: 0.9267\n",
      "Epoch 127/500\n",
      "90000/90000 [==============================] - 2s 27us/step - loss: 0.1517 - acc: 0.9386 - val_loss: 0.1805 - val_acc: 0.9267\n",
      "Epoch 128/500\n",
      "90000/90000 [==============================] - 2s 27us/step - loss: 0.1514 - acc: 0.9386 - val_loss: 0.1804 - val_acc: 0.9278\n",
      "Epoch 129/500\n",
      "90000/90000 [==============================] - 2s 27us/step - loss: 0.1515 - acc: 0.9385 - val_loss: 0.1805 - val_acc: 0.9269\n",
      "Epoch 130/500\n",
      "90000/90000 [==============================] - 2s 26us/step - loss: 0.1509 - acc: 0.9383 - val_loss: 0.1801 - val_acc: 0.9267\n",
      "Epoch 131/500\n",
      "90000/90000 [==============================] - 2s 27us/step - loss: 0.1510 - acc: 0.9386 - val_loss: 0.1802 - val_acc: 0.9265\n",
      "Epoch 132/500\n",
      "90000/90000 [==============================] - 2s 27us/step - loss: 0.1505 - acc: 0.9386 - val_loss: 0.1795 - val_acc: 0.9263\n",
      "Epoch 133/500\n",
      "90000/90000 [==============================] - 2s 27us/step - loss: 0.1506 - acc: 0.9386 - val_loss: 0.1803 - val_acc: 0.9264\n",
      "Epoch 134/500\n",
      "90000/90000 [==============================] - 2s 27us/step - loss: 0.1505 - acc: 0.9384 - val_loss: 0.1799 - val_acc: 0.9269\n",
      "Epoch 135/500\n",
      "90000/90000 [==============================] - 2s 27us/step - loss: 0.1502 - acc: 0.9386 - val_loss: 0.1797 - val_acc: 0.9268\n",
      "Epoch 136/500\n",
      "90000/90000 [==============================] - 2s 27us/step - loss: 0.1499 - acc: 0.9387 - val_loss: 0.1798 - val_acc: 0.9268\n",
      "Epoch 137/500\n",
      "90000/90000 [==============================] - 2s 27us/step - loss: 0.1500 - acc: 0.9388 - val_loss: 0.1795 - val_acc: 0.9274\n",
      "Epoch 138/500\n",
      "90000/90000 [==============================] - 2s 27us/step - loss: 0.1496 - acc: 0.9384 - val_loss: 0.1799 - val_acc: 0.9276\n",
      "Epoch 139/500\n",
      "90000/90000 [==============================] - 2s 27us/step - loss: 0.1492 - acc: 0.9384 - val_loss: 0.1792 - val_acc: 0.9267\n",
      "Epoch 140/500\n",
      "90000/90000 [==============================] - 2s 28us/step - loss: 0.1493 - acc: 0.9385 - val_loss: 0.1800 - val_acc: 0.9269\n",
      "Epoch 141/500\n",
      "90000/90000 [==============================] - 2s 27us/step - loss: 0.1498 - acc: 0.9386 - val_loss: 0.1799 - val_acc: 0.9277\n",
      "Epoch 142/500\n",
      "90000/90000 [==============================] - 2s 27us/step - loss: 0.1492 - acc: 0.9386 - val_loss: 0.1795 - val_acc: 0.9268\n",
      "Epoch 143/500\n",
      "90000/90000 [==============================] - 2s 27us/step - loss: 0.1493 - acc: 0.9383 - val_loss: 0.1788 - val_acc: 0.9263\n",
      "Epoch 144/500\n",
      "90000/90000 [==============================] - 2s 27us/step - loss: 0.1488 - acc: 0.9386 - val_loss: 0.1789 - val_acc: 0.9265\n",
      "Epoch 145/500\n",
      "90000/90000 [==============================] - 2s 27us/step - loss: 0.1489 - acc: 0.9385 - val_loss: 0.1791 - val_acc: 0.9273\n",
      "Epoch 146/500\n",
      "90000/90000 [==============================] - 2s 27us/step - loss: 0.1484 - acc: 0.9387 - val_loss: 0.1792 - val_acc: 0.9276\n",
      "Epoch 147/500\n",
      "90000/90000 [==============================] - 2s 27us/step - loss: 0.1485 - acc: 0.9385 - val_loss: 0.1790 - val_acc: 0.9269\n",
      "Epoch 148/500\n",
      "90000/90000 [==============================] - 2s 27us/step - loss: 0.1481 - acc: 0.9387 - val_loss: 0.1799 - val_acc: 0.9275\n",
      "Epoch 149/500\n",
      "90000/90000 [==============================] - 2s 27us/step - loss: 0.1481 - acc: 0.9385 - val_loss: 0.1791 - val_acc: 0.9267\n",
      "Epoch 150/500\n",
      "90000/90000 [==============================] - 2s 27us/step - loss: 0.1480 - acc: 0.9386 - val_loss: 0.1784 - val_acc: 0.9270\n",
      "Epoch 151/500\n",
      "90000/90000 [==============================] - 2s 27us/step - loss: 0.1482 - acc: 0.9386 - val_loss: 0.1793 - val_acc: 0.9267\n",
      "Epoch 152/500\n",
      "90000/90000 [==============================] - 2s 27us/step - loss: 0.1479 - acc: 0.9387 - val_loss: 0.1789 - val_acc: 0.9279\n",
      "Epoch 153/500\n",
      "90000/90000 [==============================] - 2s 27us/step - loss: 0.1475 - acc: 0.9383 - val_loss: 0.1787 - val_acc: 0.9270\n",
      "Epoch 154/500\n",
      "90000/90000 [==============================] - 2s 27us/step - loss: 0.1477 - acc: 0.9386 - val_loss: 0.1787 - val_acc: 0.9271\n",
      "Epoch 155/500\n",
      "90000/90000 [==============================] - 2s 27us/step - loss: 0.1477 - acc: 0.9384 - val_loss: 0.1785 - val_acc: 0.9269\n",
      "Epoch 156/500\n",
      "90000/90000 [==============================] - 2s 27us/step - loss: 0.1474 - acc: 0.9384 - val_loss: 0.1784 - val_acc: 0.9274\n",
      "Epoch 157/500\n",
      "90000/90000 [==============================] - 2s 27us/step - loss: 0.1475 - acc: 0.9386 - val_loss: 0.1786 - val_acc: 0.9272\n",
      "Epoch 158/500\n",
      "90000/90000 [==============================] - 2s 27us/step - loss: 0.1474 - acc: 0.9385 - val_loss: 0.1794 - val_acc: 0.9269\n",
      "Epoch 159/500\n",
      "90000/90000 [==============================] - 2s 26us/step - loss: 0.1470 - acc: 0.9388 - val_loss: 0.1790 - val_acc: 0.9273\n",
      "Epoch 160/500\n",
      "90000/90000 [==============================] - 2s 27us/step - loss: 0.1471 - acc: 0.9386 - val_loss: 0.1788 - val_acc: 0.9274\n",
      "Epoch 161/500\n",
      "90000/90000 [==============================] - 2s 27us/step - loss: 0.1468 - acc: 0.9388 - val_loss: 0.1788 - val_acc: 0.9281\n",
      "Epoch 162/500\n",
      "90000/90000 [==============================] - 2s 27us/step - loss: 0.1466 - acc: 0.9385 - val_loss: 0.1786 - val_acc: 0.9270\n",
      "Epoch 163/500\n",
      "90000/90000 [==============================] - 3s 31us/step - loss: 0.1464 - acc: 0.9386 - val_loss: 0.1788 - val_acc: 0.9277\n",
      "Epoch 164/500\n",
      "90000/90000 [==============================] - 3s 34us/step - loss: 0.1466 - acc: 0.9385 - val_loss: 0.1781 - val_acc: 0.9274\n",
      "Epoch 165/500\n",
      "90000/90000 [==============================] - 3s 30us/step - loss: 0.1463 - acc: 0.9387 - val_loss: 0.1786 - val_acc: 0.9274\n",
      "Epoch 166/500\n",
      "90000/90000 [==============================] - 3s 30us/step - loss: 0.1463 - acc: 0.9386 - val_loss: 0.1783 - val_acc: 0.9263\n",
      "Epoch 167/500\n",
      "90000/90000 [==============================] - 3s 31us/step - loss: 0.1464 - acc: 0.9387 - val_loss: 0.1783 - val_acc: 0.9278\n",
      "Epoch 168/500\n",
      "90000/90000 [==============================] - 2s 28us/step - loss: 0.1460 - acc: 0.9388 - val_loss: 0.1786 - val_acc: 0.9264\n",
      "Epoch 169/500\n",
      "90000/90000 [==============================] - 2s 27us/step - loss: 0.1466 - acc: 0.9388 - val_loss: 0.1783 - val_acc: 0.9273\n",
      "Epoch 170/500\n",
      "90000/90000 [==============================] - 2s 27us/step - loss: 0.1460 - acc: 0.9383 - val_loss: 0.1782 - val_acc: 0.9272\n",
      "Epoch 171/500\n",
      "90000/90000 [==============================] - 3s 30us/step - loss: 0.1458 - acc: 0.9390 - val_loss: 0.1789 - val_acc: 0.9278\n",
      "Epoch 172/500\n",
      "90000/90000 [==============================] - 2s 27us/step - loss: 0.1459 - acc: 0.9386 - val_loss: 0.1788 - val_acc: 0.9276\n",
      "Epoch 173/500\n",
      "90000/90000 [==============================] - 2s 27us/step - loss: 0.1458 - acc: 0.9384 - val_loss: 0.1784 - val_acc: 0.9269\n",
      "Epoch 174/500\n",
      "90000/90000 [==============================] - 3s 28us/step - loss: 0.1455 - acc: 0.9385 - val_loss: 0.1789 - val_acc: 0.9270\n",
      "Epoch 175/500\n",
      "90000/90000 [==============================] - 2s 27us/step - loss: 0.1455 - acc: 0.9387 - val_loss: 0.1782 - val_acc: 0.9273\n",
      "Epoch 176/500\n"
     ]
    },
    {
     "name": "stdout",
     "output_type": "stream",
     "text": [
      "90000/90000 [==============================] - 2s 27us/step - loss: 0.1458 - acc: 0.9385 - val_loss: 0.1782 - val_acc: 0.9267\n",
      "Epoch 177/500\n",
      "90000/90000 [==============================] - 2s 27us/step - loss: 0.1454 - acc: 0.9388 - val_loss: 0.1778 - val_acc: 0.9272\n",
      "Epoch 178/500\n",
      "90000/90000 [==============================] - 2s 27us/step - loss: 0.1452 - acc: 0.9385 - val_loss: 0.1780 - val_acc: 0.9274\n",
      "Epoch 179/500\n",
      "90000/90000 [==============================] - 2s 27us/step - loss: 0.1458 - acc: 0.9387 - val_loss: 0.1782 - val_acc: 0.9273\n",
      "Epoch 180/500\n",
      "90000/90000 [==============================] - 2s 27us/step - loss: 0.1455 - acc: 0.9387 - val_loss: 0.1784 - val_acc: 0.9278\n",
      "Epoch 181/500\n",
      "90000/90000 [==============================] - 2s 27us/step - loss: 0.1453 - acc: 0.9389 - val_loss: 0.1783 - val_acc: 0.9270\n",
      "Epoch 182/500\n",
      "90000/90000 [==============================] - 2s 27us/step - loss: 0.1450 - acc: 0.9389 - val_loss: 0.1783 - val_acc: 0.9270\n",
      "Epoch 183/500\n",
      "90000/90000 [==============================] - 2s 27us/step - loss: 0.1453 - acc: 0.9386 - val_loss: 0.1780 - val_acc: 0.9278\n",
      "Epoch 184/500\n",
      "90000/90000 [==============================] - 2s 26us/step - loss: 0.1452 - acc: 0.9385 - val_loss: 0.1780 - val_acc: 0.9274\n",
      "Epoch 185/500\n",
      "90000/90000 [==============================] - 2s 26us/step - loss: 0.1448 - acc: 0.9388 - val_loss: 0.1789 - val_acc: 0.9274\n",
      "Epoch 186/500\n",
      "90000/90000 [==============================] - 2s 26us/step - loss: 0.1449 - acc: 0.9389 - val_loss: 0.1786 - val_acc: 0.9272\n",
      "Epoch 187/500\n",
      "90000/90000 [==============================] - 2s 27us/step - loss: 0.1448 - acc: 0.9386 - val_loss: 0.1782 - val_acc: 0.9277\n",
      "Epoch 188/500\n",
      "90000/90000 [==============================] - 2s 27us/step - loss: 0.1448 - acc: 0.9385 - val_loss: 0.1781 - val_acc: 0.9274\n",
      "Epoch 189/500\n",
      "90000/90000 [==============================] - 2s 27us/step - loss: 0.1447 - acc: 0.9385 - val_loss: 0.1791 - val_acc: 0.9270\n",
      "Epoch 190/500\n",
      "90000/90000 [==============================] - 2s 27us/step - loss: 0.1449 - acc: 0.9388 - val_loss: 0.1779 - val_acc: 0.9274\n",
      "Epoch 191/500\n",
      "90000/90000 [==============================] - 2s 27us/step - loss: 0.1442 - acc: 0.9389 - val_loss: 0.1792 - val_acc: 0.9279\n",
      "Epoch 192/500\n",
      "90000/90000 [==============================] - 2s 27us/step - loss: 0.1448 - acc: 0.9386 - val_loss: 0.1785 - val_acc: 0.9269\n",
      "Epoch 193/500\n",
      "90000/90000 [==============================] - 2s 27us/step - loss: 0.1445 - acc: 0.9391 - val_loss: 0.1792 - val_acc: 0.9275\n",
      "Epoch 194/500\n",
      "90000/90000 [==============================] - 2s 27us/step - loss: 0.1445 - acc: 0.9386 - val_loss: 0.1791 - val_acc: 0.9276\n",
      "Epoch 195/500\n",
      "90000/90000 [==============================] - 2s 27us/step - loss: 0.1442 - acc: 0.9389 - val_loss: 0.1782 - val_acc: 0.9276\n",
      "Epoch 196/500\n",
      "90000/90000 [==============================] - 2s 27us/step - loss: 0.1442 - acc: 0.9388 - val_loss: 0.1780 - val_acc: 0.9270\n",
      "Epoch 197/500\n",
      "90000/90000 [==============================] - 2s 27us/step - loss: 0.1440 - acc: 0.9385 - val_loss: 0.1776 - val_acc: 0.9269\n",
      "Epoch 198/500\n",
      "90000/90000 [==============================] - 2s 27us/step - loss: 0.1443 - acc: 0.9389 - val_loss: 0.1784 - val_acc: 0.9266\n",
      "Epoch 199/500\n",
      "90000/90000 [==============================] - 2s 27us/step - loss: 0.1442 - acc: 0.9388 - val_loss: 0.1783 - val_acc: 0.9274\n",
      "Epoch 200/500\n",
      "90000/90000 [==============================] - 2s 27us/step - loss: 0.1439 - acc: 0.9386 - val_loss: 0.1783 - val_acc: 0.9279\n",
      "Epoch 201/500\n",
      "90000/90000 [==============================] - 2s 26us/step - loss: 0.1442 - acc: 0.9387 - val_loss: 0.1779 - val_acc: 0.9275\n",
      "Epoch 202/500\n",
      "90000/90000 [==============================] - 2s 27us/step - loss: 0.1445 - acc: 0.9389 - val_loss: 0.1792 - val_acc: 0.9274\n",
      "Epoch 203/500\n",
      "90000/90000 [==============================] - 2s 27us/step - loss: 0.1441 - acc: 0.9388 - val_loss: 0.1781 - val_acc: 0.9274\n",
      "Epoch 204/500\n",
      "90000/90000 [==============================] - 2s 27us/step - loss: 0.1441 - acc: 0.9387 - val_loss: 0.1795 - val_acc: 0.9278\n",
      "Epoch 00203: early stopping\n"
     ]
    }
   ],
   "source": [
    "# fit the model\n",
    "print(labelvec[:5])\n",
    "historyAlt = modelAlt.fit(padded_docs, labelvec, batch_size=2000, validation_split=0.1, epochs=500, verbose=1, callbacks=[ThresholdEarlyStopping(verbose=1, min_epochs=50)])"
   ]
  },
  {
   "cell_type": "code",
   "execution_count": 44,
   "metadata": {},
   "outputs": [
    {
     "data": {
      "image/png": "[encoded data removed]",
      "text/plain": [
       "<Figure size 432x288 with 1 Axes>"
      ]
     },
     "metadata": {
      "needs_background": "light"
     },
     "output_type": "display_data"
    }
   ],
   "source": [
    "plt.plot(history.history['loss'])\n",
    "plt.plot(historyAlt.history['loss'])\n",
    "plt.plot(history.history['val_loss'])\n",
    "plt.plot(historyAlt.history['val_loss'])\n",
    "plt.ylabel('loss')\n",
    "plt.xlabel('epoch')\n",
    "plt.legend(['training loss', 'training loss (Bi-LSTM)', 'validation loss', 'validation loss (Bi-LSTM)'], loc='best')\n",
    "plt.show()"
   ]
  },
  {
   "cell_type": "code",
   "execution_count": 97,
   "metadata": {},
   "outputs": [
    {
     "name": "stdout",
     "output_type": "stream",
     "text": [
      "Accuracy: \n",
      " (LSTM) 93.41 % \n",
      " (bi-LSTM) 92.94 %\n"
     ]
    }
   ],
   "source": [
    "# evaluate the model\n",
    "lossAlt, accuracyAlt = modelAlt.evaluate(padded_docs_test, labelvec_test, verbose=0)\n",
    "print( 'Accuracy: \\n (LSTM) %.2f %% \\n (bi-LSTM) %.2f %%' % ((accuracy*100), (accuracyAlt*100)) )"
   ]
  },
  {
   "cell_type": "code",
   "execution_count": 105,
   "metadata": {},
   "outputs": [
    {
     "data": {
      "image/png": "[encoded data removed]",
      "text/plain": [
       "<Figure size 432x288 with 1 Axes>"
      ]
     },
     "metadata": {
      "needs_background": "light"
     },
     "output_type": "display_data"
    }
   ],
   "source": [
    "plt.plot(history.history['loss'])\n",
    "plt.plot(history.history['val_loss'])\n",
    "plt.plot(historyAlt.history['loss'])\n",
    "plt.plot(historyAlt.history['val_loss'])\n",
    "plt.ylabel('loss')\n",
    "plt.xlabel('epoch')\n",
    "plt.legend(['training loss (LSTM)', 'validation loss (LSTM)', 'training loss (bi-LSTM)', 'validation loss (bi-LSTM)'], loc='best')\n",
    "plt.show()"
   ]
  },
  {
   "cell_type": "code",
   "execution_count": 102,
   "metadata": {},
   "outputs": [],
   "source": [
    "from sklearn.metrics import roc_curve, auc\n",
    "labelvec_predAlt = modelAlt.predict(padded_docs_test)\n",
    "fprAlt, tprAlt, cutAlt = roc_curve(labelvec_test.ravel(), labelvec_predAlt.ravel())\n",
    "AUCAlt = auc(fprAlt, tprAlt)"
   ]
  },
  {
   "cell_type": "code",
   "execution_count": 103,
   "metadata": {},
   "outputs": [
    {
     "data": {
      "text/plain": [
       "(array([[9.9939573e-01, 6.0423493e-04],\n",
       "        [5.8117259e-01, 4.1882735e-01],\n",
       "        [4.0862183e-03, 9.9591380e-01],\n",
       "        [9.3209481e-01, 6.7905210e-02],\n",
       "        [7.1580522e-02, 9.2841947e-01]], dtype=float32),\n",
       " array([1, 0, 0, 1, 0]))"
      ]
     },
     "execution_count": 103,
     "metadata": {},
     "output_type": "execute_result"
    }
   ],
   "source": [
    "labelvec_predAlt[:5], labelvec_test[:5, 0]"
   ]
  },
  {
   "cell_type": "code",
   "execution_count": 104,
   "metadata": {},
   "outputs": [
    {
     "data": {
      "image/png": "[encoded data removed]",
      "text/plain": [
       "<Figure size 432x288 with 1 Axes>"
      ]
     },
     "metadata": {
      "needs_background": "light"
     },
     "output_type": "display_data"
    }
   ],
   "source": [
    "plt.figure(1)\n",
    "plt.plot([0, 1], [0, 1], 'k--')\n",
    "plt.plot(fpr, tpr, label='(AUC (LSTM) = {:.3f})'.format(AUC))\n",
    "plt.plot(fprAlt, tprAlt, label='(AUC (bi-LSTM) = {:.3f})'.format(AUCAlt))\n",
    "plt.xlabel('False positive rate')\n",
    "plt.ylabel('True positive rate')\n",
    "plt.title('ROC curve')\n",
    "plt.legend(loc='best')\n",
    "plt.show()"
   ]
  }
 ],
 "metadata": {
  "kernelspec": {
   "display_name": "Python 3",
   "language": "python",
   "name": "python3"
  },
  "language_info": {
   "codemirror_mode": {
    "name": "ipython",
    "version": 3
   },
   "file_extension": ".py",
   "mimetype": "text/x-python",
   "name": "python",
   "nbconvert_exporter": "python",
   "pygments_lexer": "ipython3",
   "version": "3.6.8"
  }
 },
 "nbformat": 4,
 "nbformat_minor": 2
}
