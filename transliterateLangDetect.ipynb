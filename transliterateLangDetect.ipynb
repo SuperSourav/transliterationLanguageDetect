{
 "cells": [
  {
   "cell_type": "markdown",
   "metadata": {},
   "source": [
    "# Language detection of transliterated text"
   ]
  },
  {
   "cell_type": "markdown",
   "metadata": {},
   "source": [
    "We can often identify a language being spoken, if we have prior experience of listening that language, even if we do not understand the language at all. Every language has some characteristic sounds (phonemes) patterns. These patterns can be used to identify a language even without understanding them. Automatic Speech/Language Recognition systems use such strings of phonemes as features to identify and understand a language.\n",
    "\n",
    "Since the keys of the keyboard are generally in English, it is often convenient for non-roman language speakers to transliterate their texts to English than typing in their native scripts. However, for people who not speak that language, it becomes even hard to identify the language without its actual script. Such transliterated content become encripted to the people who don't speak that language, say some YouTube comments etc.\n",
    "\n",
    "However, like speech if transliterated texts could be pronounced correctly (as in their native langauge), one might be able to identify the language. Fortunately, when any text is transliterated from one langauge to other, it is generally spelled out phonetically. So, if we were to phonetically pronounce the transliterated words, we might be quite closer to its actual pronounciation. \n",
    "\n",
    "In this project, I attempt to address this problem by designing an ML sytem which can detect the language of the transliterated text. Due to lack of time to invest at the moment in this project, I confine the scope of this project by just designing a classifier to classify between Korean and Bangla (Bengali) language. For full disclosure, let me explain my choice of these two non-roman languages. I had a personal interest to make machines identify Bangla as it is my mother tongue, spoken mostly in the state of West Bengal in India and in Bangladesh. Lately I have been listening to some Kpop (Korean pop) songs, and considering Kpop's international reach these days, I was tempted to choose Korean as the other langauge.\n",
    "\n",
    "In future, I might start adding other non-roman languages to the classifier."
   ]
  },
  {
   "cell_type": "markdown",
   "metadata": {},
   "source": [
    "# Scrape data\n",
    "\n",
    "Song lyrics website often transliterate songs in English (perhaps for international audiences). So, for Korean and Bangla (Bengali) sentences transliterated in English, the song lyrics on the following lyrics websites were scraped:\n",
    " - bangla lyrics: http://www.lyricsbangla.com/\n",
    " - korean lyrics: https://romanization.wordpress.com/"
   ]
  },
  {
   "cell_type": "code",
   "execution_count": 1,
   "metadata": {},
   "outputs": [],
   "source": [
    "from urllib.request import urlopen\n",
    "from bs4 import BeautifulSoup\n",
    "import re"
   ]
  },
  {
   "cell_type": "markdown",
   "metadata": {},
   "source": [
    "Since the objects in Bengal (referred as Bangla henceforth) and Korean texts might be different created two separate functions to fetch respective text. The different functions are just for cleanliness purpose."
   ]
  },
  {
   "cell_type": "markdown",
   "metadata": {},
   "source": [
    "### Functions for scraping Korean transliterated texts"
   ]
  },
  {
   "cell_type": "code",
   "execution_count": 3,
   "metadata": {},
   "outputs": [],
   "source": [
    "def fetch_korean(fname):\n",
    "    #some browsing revealed there are 1087 pages (@29th July, 2019) indexed 0 through 1086 with links to lyrics\n",
    "    #extracting the song links from each of these pages\n",
    "    npages = 1087\n",
    "    lyricsbag = open(fname, 'w')\n",
    "    count = 0\n",
    "    for pg in range(npages):\n",
    "        soup = BeautifulSoup(urlopen(\"https://romanization.wordpress.com/page/%i\"%pg), 'html.parser')\n",
    "        links = soup.find_all('a')\n",
    "        pageurls = [_.get('href') for _ in links if (_.text == 'Continue reading →')]\n",
    "        for url in pageurls:\n",
    "            b = koreanLyrics(url)\n",
    "            [lyricsbag.write(_+\"\\n\") for _ in b]\n",
    "            count += 1\n",
    "            print(count)\n",
    "    \n",
    "    return\n"
   ]
  },
  {
   "cell_type": "code",
   "execution_count": 4,
   "metadata": {},
   "outputs": [],
   "source": [
    "def koreanLyrics(url):\n",
    "    s = BeautifulSoup(urlopen(url), 'html.parser')\n",
    "    lblob = [_.text for _ in s.find_all('p')]\n",
    "    lyrics = []\n",
    "    pendown = False\n",
    "    for _ in lblob:\n",
    "        if pendown:\n",
    "            if (_ == \"//\"):\n",
    "                pendown = False\n",
    "                break\n",
    "            else:\n",
    "                lyrics += _.split(\"\\n\")\n",
    "        else:\n",
    "            if \"to see the lyrics\" in _:\n",
    "                pendown = True\n",
    "    return lyrics"
   ]
  },
  {
   "cell_type": "markdown",
   "metadata": {},
   "source": [
    "### Functions for scraping Bangla transliterated texts"
   ]
  },
  {
   "cell_type": "code",
   "execution_count": 5,
   "metadata": {},
   "outputs": [],
   "source": [
    "def fetch_bangla(fname):\n",
    "    #url = \"http://www.lyricsbangla.com/?sec=listing&lyricid=4140\"\n",
    "    url = \"file:///home/sourav/MLProjects/transliterate/Lyrics%20Search%20»%20LyricsBangla.com.html\" \n",
    "    #TODO replace the static page with dynamic link smh\n",
    "    #\"http://www.lyricsbangla.com/index.php?sec=search\"\n",
    "    html = urlopen(url)\n",
    "\n",
    "    soup = BeautifulSoup(html, 'html.parser')\n",
    "    b = soup.find('table')\n",
    "    urltable = b.find_all('td')\n",
    "    \n",
    "    #extracting songs from links in www.lyricsbangla.com index page\n",
    "    lyricsurllist = []\n",
    "    lyricsbag = open(fname, 'w')\n",
    "    count = 0\n",
    "    for u in urltable:\n",
    "        if (u.find('a') != None):\n",
    "            songlink = u.a.get('href')\n",
    "            if (\"artist\" not in songlink):\n",
    "                b = banglaLyrics(songlink)\n",
    "                [lyricsbag.write(_+\"\\n\") for _ in b]\n",
    "                count += 1\n",
    "                print(count)\n",
    "        \n",
    "    return\n",
    "    "
   ]
  },
  {
   "cell_type": "markdown",
   "metadata": {},
   "source": [
    "Bangla lyrics often have chords, so here is a list of chords to clean the text scraped from: https://www.pianochord.org/ and saved in \"chords.txt\""
   ]
  },
  {
   "cell_type": "code",
   "execution_count": 6,
   "metadata": {},
   "outputs": [],
   "source": [
    "##(source: https://www.pianochord.org/)\n",
    "def get_musicalchords():\n",
    "    chords_ = []\n",
    "    f = open(\"chords.txt\", 'r')\n",
    "    lines = f.readlines()\n",
    "    for l in lines:\n",
    "        chords_ += l.strip().split()\n",
    "\n",
    "    return chords_"
   ]
  },
  {
   "cell_type": "code",
   "execution_count": 7,
   "metadata": {},
   "outputs": [],
   "source": [
    "def banglaLyrics(url):\n",
    "    spchar = re.compile('[@_!#$%^&*()<>?/\\|}{~:]')\n",
    "\n",
    "\n",
    "    s = BeautifulSoup(urlopen(url), 'html.parser')\n",
    "    lblob = s.find('p', id='tabs-1')\n",
    "    lyrics = []\n",
    "    chord_ = get_musicalchords()\n",
    "    for line in lblob:\n",
    "        if (line.string != None):\n",
    "            l = str(line)\n",
    "            if any(chord in l for chord in chords_):\n",
    "                continue\n",
    "            elif (spchar.search(l)!=None):\n",
    "                continue\n",
    "            else:\n",
    "                l = l.strip()\n",
    "                if (l): lyrics.append(l)\n",
    "    return lyrics"
   ]
  },
  {
   "cell_type": "markdown",
   "metadata": {},
   "source": [
    "The following cell scrapes Bangla and Korean lyrics respectively using the functions defined above."
   ]
  },
  {
   "cell_type": "code",
   "execution_count": 145,
   "metadata": {},
   "outputs": [],
   "source": [
    "banglacorpus = \"banglacorpus.txt\"\n",
    "fetch_bangla(banglacorpus)\n",
    "\n",
    "\n",
    "koreancorpus = \"koreancorpus.txt\"\n",
    "fetch_korean(koreancorpus)\n"
   ]
  },
  {
   "cell_type": "markdown",
   "metadata": {},
   "source": [
    "# Data Cleaning\n",
    "\n",
    "- make all text lower case in vim for both Bangla and Korean (done in vim. Maybe do in the cleaning script itsel for later projects)\n",
    "- search for some common words like - \"you\",\"love\", \"it\", \"will\" and remove those lines\n",
    "- Also, Korean text has this block \"Fill in your details below or click an icon to log in:\n",
    "                        You are commenting using your WordPress.com account.\n",
    "                        You are commenting using your Google account.\n",
    "                        You are commenting using your Twitter account.\n",
    "                        You are commenting using your Facebook account.\" remove that\n",
    " \n",
    "- koreancorpus.txt -(cleaner_koreancopus.py)-> cleanedkoreancorpus.txt \n",
    "- banglacorpus.txt -(cleaner_banglacopus.py)-> cleanedbanglacorpus.txt\n",
    "\n",
    "\"cleanedkoreancorpus.txt\" and \"cleanedbanglacorpus.txt\" are the cleaned corpuses for Korean and Bangla transliterated text used for the analysis\n",
    "\n",
    "<div style=\"text-align: right\"> \"Cleaning is messy!!\" ~Anonymous </div>\n",
    "\n",
    "TODO:\n",
    "* later add all this cleaning to this notebook\n",
    "- should store in dataframe"
   ]
  },
  {
   "cell_type": "markdown",
   "metadata": {},
   "source": [
    "# Data Visualization for encoding"
   ]
  },
  {
   "cell_type": "markdown",
   "metadata": {},
   "source": [
    "While transliteration, words are spelled phonetically. So, if one spells the transliterated word phonetically, one might actually get quite close to the actual pronounciation in its native language.\n",
    "If the transliterated words are, therefore, split into phonetic syllables, a list of those phonetic syllables could represent the pronounciation of that word and thus information about its native language. These phonetic syllables are quite analogous to phoneme sequences used in ASR (Automatic Speech Recognition).\n",
    "\n",
    "Since English is not a phonetic language, its syllables are not phonetic. However, with we try to split the word using a phonetic language, like Italian, then the syllables would indeed be phonetic.\n",
    "\n",
    "I use a python package - 'pyphen' (https://pyphen.org) for such syllable splitting. This package provides an option to choose the language in which the user wants to split the word. As discussed above, I used Italian, a phonetic language, to split the word into syllables, so that I get phonetic syllables."
   ]
  },
  {
   "cell_type": "markdown",
   "metadata": {},
   "source": [
    "Installing pyphen:"
   ]
  },
  {
   "cell_type": "code",
   "execution_count": 8,
   "metadata": {},
   "outputs": [
    {
     "name": "stdout",
     "output_type": "stream",
     "text": [
      "Collecting pyphen\n",
      "  Using cached https://files.pythonhosted.org/packages/15/82/08a3629dce8d1f3d91db843bb36d4d7db6b6269d5067259613a0d5c8a9db/Pyphen-0.9.5-py2.py3-none-any.whl\n",
      "Installing collected packages: pyphen\n",
      "Successfully installed pyphen-0.9.5\n"
     ]
    }
   ],
   "source": [
    "# Install pyphen in the current Jupyter kernel\n",
    "import sys\n",
    "!{sys.executable} -m pip install pyphen"
   ]
  },
  {
   "cell_type": "markdown",
   "metadata": {},
   "source": [
    "The function below splits the words phonetically (as in italian) into list of syllables to be used as input features for langauge detection:"
   ]
  },
  {
   "cell_type": "code",
   "execution_count": 9,
   "metadata": {},
   "outputs": [],
   "source": [
    "def wordbagmaker(corpusfilename, label):\n",
    "   f = open(corpusfilename, 'r')\n",
    "   lines = f.readlines()\n",
    "\n",
    "   import random\n",
    "   import pyphen\n",
    "   worddict = []\n",
    "   dic = pyphen.Pyphen(lang='it_IT')\n",
    "   for l in lines:\n",
    "       words = l.split()\n",
    "       if (len(words) < 2): continue #only words present in sentences used, not single word sentences\n",
    "       for w in words:\n",
    "          if (len(w) > 1) and w.isalpha(): #words with digits not used and single letter words not used\n",
    "              worddict.append(dic.inserted(w) + \" : \" + label)\n",
    "\n",
    "   random.shuffle(worddict)   #shuffle the list\n",
    "   return worddict"
   ]
  },
  {
   "cell_type": "markdown",
   "metadata": {},
   "source": [
    "The words split into phonetic syllables are stored in koreanwordbag.txt and banglawordbag.txt for Korean and Bangla resp. and used to train and test the langauge detection model."
   ]
  },
  {
   "cell_type": "code",
   "execution_count": 10,
   "metadata": {},
   "outputs": [],
   "source": [
    "foK = open(\"koreanwordbag.txt\", 'w')\n",
    "[foK.write(wK+\"\\n\") for wK in wordbagmaker(\"cleanedkoreancorpus.txt\", \"K\")]\n",
    "foK.close()\n",
    "foB = open(\"banglawordbag.txt\", 'w')\n",
    "[foB.write(wB+\"\\n\") for wB in wordbagmaker(\"cleanedbanglacorpus.txt\", \"B\")]\n",
    "foB.close()"
   ]
  },
  {
   "cell_type": "code",
   "execution_count": 2,
   "metadata": {},
   "outputs": [],
   "source": [
    "fkor = open(\"koreanwordbag.txt\", 'r')\n",
    "fban = open(\"banglawordbag.txt\", 'r')\n",
    "datakor = fkor.readlines()\n",
    "databan = fban.readlines()"
   ]
  },
  {
   "cell_type": "markdown",
   "metadata": {},
   "source": [
    "A quick feature visualization to see if simple features, like syllable count per word,have any discriminating power."
   ]
  },
  {
   "cell_type": "code",
   "execution_count": 3,
   "metadata": {},
   "outputs": [],
   "source": [
    "import numpy as np\n",
    "import matplotlib.pyplot as plt\n",
    "%matplotlib inline"
   ]
  },
  {
   "cell_type": "code",
   "execution_count": 4,
   "metadata": {},
   "outputs": [],
   "source": [
    "syllables_per_wordKOR = []\n",
    "letters_per_syllableKOR = []\n",
    "for dK in datakor:\n",
    "    w = dK.split(\" : \")[0].split(\"-\")\n",
    "    syllables_per_wordKOR.append(len(w))\n",
    "    [letters_per_syllableKOR.append(len(_)) for _ in w]\n",
    "\n",
    "syllables_per_wordBAN = []\n",
    "letters_per_syllableBAN = []\n",
    "for dB in databan:\n",
    "    w = dB.split(\" : \")[0].split(\"-\")\n",
    "    syllables_per_wordBAN.append(len(w))\n",
    "    [letters_per_syllableBAN.append(len(_)) for _ in w]\n",
    "\n",
    "syllables_per_word = np.concatenate((syllables_per_wordKOR,syllables_per_wordBAN), axis=0)\n",
    "letters_per_syllable = np.concatenate((letters_per_syllableKOR, letters_per_syllableBAN), axis=0)"
   ]
  },
  {
   "cell_type": "code",
   "execution_count": 5,
   "metadata": {},
   "outputs": [
    {
     "data": {
      "image/png": "[encoded data removed]",
      "text/plain": [
       "<Figure size 432x288 with 1 Axes>"
      ]
     },
     "metadata": {},
     "output_type": "display_data"
    }
   ],
   "source": [
    "binsSPW = [_ - 0.5 for _ in range(1,11)]\n",
    "plt.xticks(range(1,11))\n",
    "plt.hist(syllables_per_word, binsSPW, alpha=0.3, label='both languages')\n",
    "plt.hist(syllables_per_wordKOR, binsSPW, alpha=0.3, label='Korean') \n",
    "plt.hist(syllables_per_wordBAN, binsSPW, alpha=0.3, label='Bangla')\n",
    "\n",
    "plt.xlabel('#syllables/word')\n",
    "plt.ylabel('frequency')\n",
    "plt.legend(loc='best')\n",
    "plt.show()"
   ]
  },
  {
   "cell_type": "markdown",
   "metadata": {},
   "source": [
    "Bangla words mostly have 2 syllables, Korean words can have upto 5 syllables in a word. A 10 syllable vector should be enough to encode a word from either language."
   ]
  },
  {
   "cell_type": "code",
   "execution_count": 6,
   "metadata": {},
   "outputs": [
    {
     "data": {
      "image/png": "[encoded data removed]",
      "text/plain": [
       "<Figure size 432x288 with 1 Axes>"
      ]
     },
     "metadata": {},
     "output_type": "display_data"
    }
   ],
   "source": [
    "binsLPS = [_ - 0.5 for _ in range(1,11)]\n",
    "plt.xticks(range(1,11))\n",
    "plt.hist(letters_per_syllable, binsLPS, alpha=0.3, label='both languages')\n",
    "plt.hist(letters_per_syllableKOR, binsLPS, alpha=0.3, label='Korean') \n",
    "plt.hist(letters_per_syllableBAN, binsLPS, alpha=0.3, label='Bangla')\n",
    "\n",
    "plt.xlabel('#letters/syllables')\n",
    "plt.ylabel('frequency')\n",
    "plt.legend(loc='best')\n",
    "plt.show()"
   ]
  },
  {
   "cell_type": "markdown",
   "metadata": {},
   "source": [
    "Most phonetic syllables have around 2 letters. Not a significant disciminator. Would therefore be fair to disregard the syllable length and just integer encode the syllables in both the corpuses."
   ]
  },
  {
   "cell_type": "markdown",
   "metadata": {},
   "source": [
    "# Training data"
   ]
  },
  {
   "cell_type": "markdown",
   "metadata": {},
   "source": [
    "Using 50,000 (10,000) Bangla and Korean words each randomly from the corpuses for training (testing)."
   ]
  },
  {
   "cell_type": "code",
   "execution_count": 49,
   "metadata": {},
   "outputs": [],
   "source": [
    "import random\n",
    "Ntrain = 50000\n",
    "Ntest  = 10000\n",
    "random.shuffle(datakor) #korean\n",
    "random.shuffle(databan) #bangla\n",
    "TrainingVal_data = datakor[:Ntrain] + databan[:Ntrain] \n",
    "Testing_data = datakor[Ntrain:Ntrain+Ntest] + databan[Ntrain:Ntrain+Ntest]\n",
    "random.shuffle(TrainingVal_data)\n",
    "random.shuffle(Testing_data)"
   ]
  },
  {
   "cell_type": "markdown",
   "metadata": {},
   "source": [
    "# Word and label encoding"
   ]
  },
  {
   "cell_type": "code",
   "execution_count": 44,
   "metadata": {},
   "outputs": [],
   "source": [
    "from keras.preprocessing.text import one_hot\n",
    "from keras.preprocessing.sequence import pad_sequences"
   ]
  },
  {
   "cell_type": "code",
   "execution_count": null,
   "metadata": {},
   "outputs": [],
   "source": [
    "from keras.models import Sequential\n",
    "from keras.layers import Dense, Embedding, LSTM"
   ]
  },
  {
   "cell_type": "code",
   "execution_count": 50,
   "metadata": {},
   "outputs": [
    {
     "name": "stdout",
     "output_type": "stream",
     "text": [
      "['nae ga', 'ti bro', 'ko nai']\n",
      "[[0 1]\n",
      " [1 0]\n",
      " [1 0]]\n"
     ]
    }
   ],
   "source": [
    "#training data\n",
    "wordvec = []\n",
    "labelvec = [] \n",
    "for td in TrainingVal_data:\n",
    "    wvec = []\n",
    "    tw, tl = td.split(\" : \")\n",
    "    tw = tw.replace(\"-\", \" \")\n",
    "    lvec = [1, 0] if tl.strip() == \"B\" else [0,1]                #One hot encoding: [1,0] : Bangla, [0,1] : Korean\n",
    "    wordvec.append(tw)\n",
    "    labelvec.append(lvec)\n",
    "labelvec = np.array(labelvec)\n",
    "print(wordvec[:3])\n",
    "print(labelvec[:3])\n",
    "\n",
    "\n",
    "#testing data\n",
    "wordvec_test = []\n",
    "labelvec_test = [] \n",
    "for td in Testing_data:\n",
    "    wvec = []\n",
    "    tw, tl = td.split(\" : \")\n",
    "    tw = tw.replace(\"-\", \" \")\n",
    "    lvec = [1, 0] if tl.strip() == \"B\" else [0,1]                #One hot encoding: [1,0] : Bangla, [0,1] : Korean\n",
    "    wordvec_test.append(tw)\n",
    "    labelvec_test.append(lvec)\n",
    "labelvec_test = np.array(labelvec_test)\n"
   ]
  },
  {
   "cell_type": "markdown",
   "metadata": {},
   "source": [
    "integer encode the phonetic syllables:"
   ]
  },
  {
   "cell_type": "code",
   "execution_count": 51,
   "metadata": {},
   "outputs": [
    {
     "name": "stdout",
     "output_type": "stream",
     "text": [
      "['nae ga', 'ti bro', 'ko nai', 'ka chon', 'na do']\n",
      "[[34587, 166563], [152402, 80845], [41214, 107601], [85323, 1936], [89525, 136196]]\n",
      "['na na na na na', 'mae ryeok', 'chad', 'mo tan', 'ne']\n",
      "[[89525, 89525, 89525, 89525, 89525], [133411, 101737], [117121], [97055, 1854], [122023]]\n"
     ]
    }
   ],
   "source": [
    "vocab_size = 200000\n",
    "\n",
    "#training data\n",
    "print(wordvec[:5])\n",
    "encoded_docs = [one_hot(d, vocab_size) for d in wordvec]\n",
    "print(encoded_docs[:5])\n",
    "\n",
    "#testing data\n",
    "print(wordvec_test[:5])\n",
    "encoded_docs_test = [one_hot(d, vocab_size) for d in wordvec_test]\n",
    "print(encoded_docs_test[:5])\n"
   ]
  },
  {
   "cell_type": "markdown",
   "metadata": {},
   "source": [
    "pad words to a max length of 10 syllables:"
   ]
  },
  {
   "cell_type": "code",
   "execution_count": 52,
   "metadata": {},
   "outputs": [
    {
     "name": "stdout",
     "output_type": "stream",
     "text": [
      "[[ 34587 166563      0 ...      0      0      0]\n",
      " [152402  80845      0 ...      0      0      0]\n",
      " [ 41214 107601      0 ...      0      0      0]\n",
      " ...\n",
      " [ 85144 183854      0 ...      0      0      0]\n",
      " [ 87186  70840      0 ...      0      0      0]\n",
      " [  8771 181693      0 ...      0      0      0]]\n"
     ]
    }
   ],
   "source": [
    "max_length = 10\n",
    "\n",
    "#training data\n",
    "padded_docs = pad_sequences(encoded_docs, maxlen=max_length, padding='post')\n",
    "print(padded_docs)\n",
    "\n",
    "#testing data\n",
    "padded_docs_test = pad_sequences(encoded_docs_test, maxlen=max_length, padding='post')"
   ]
  },
  {
   "cell_type": "markdown",
   "metadata": {},
   "source": [
    "I train an LSTM to classify Korean and Bangla words, defined below:"
   ]
  },
  {
   "cell_type": "code",
   "execution_count": 53,
   "metadata": {},
   "outputs": [
    {
     "name": "stderr",
     "output_type": "stream",
     "text": [
      "/usr/lib/python3/dist-packages/ipykernel_launcher.py:5: UserWarning: Update your `LSTM` call to the Keras 2 API: `LSTM(196, dropout=0.2, recurrent_dropout=0.2)`\n",
      "  \"\"\"\n"
     ]
    },
    {
     "name": "stdout",
     "output_type": "stream",
     "text": [
      "Model: \"sequential_13\"\n",
      "_________________________________________________________________\n",
      "Layer (type)                 Output Shape              Param #   \n",
      "=================================================================\n",
      "embedding_13 (Embedding)     (None, 10, 3)             600000    \n",
      "_________________________________________________________________\n",
      "lstm_7 (LSTM)                (None, 196)               156800    \n",
      "_________________________________________________________________\n",
      "dense_13 (Dense)             (None, 2)                 394       \n",
      "=================================================================\n",
      "Total params: 757,194\n",
      "Trainable params: 757,194\n",
      "Non-trainable params: 0\n",
      "_________________________________________________________________\n",
      "None\n"
     ]
    }
   ],
   "source": [
    "lstm_out = 196\n",
    "# define the model\n",
    "model = Sequential()\n",
    "model.add(Embedding(vocab_size, 3, input_length=max_length))\n",
    "model.add(LSTM(lstm_out, dropout_U=0.2, dropout_W=0.2))\n",
    "model.add(Dense(2, activation='softmax'))\n",
    "\n",
    "# compile the model\n",
    "model.compile(optimizer='adam', loss='categorical_crossentropy', metrics=['accuracy'])\n",
    "# summarize the model\n",
    "print(model.summary())"
   ]
  },
  {
   "cell_type": "markdown",
   "metadata": {},
   "source": [
    "train the LSTM:"
   ]
  },
  {
   "cell_type": "code",
   "execution_count": 70,
   "metadata": {},
   "outputs": [
    {
     "name": "stdout",
     "output_type": "stream",
     "text": [
      "[[0 1]\n",
      " [1 0]\n",
      " [1 0]\n",
      " [1 0]\n",
      " [0 1]]\n",
      "Train on 90000 samples, validate on 10000 samples\n",
      "Epoch 1/200\n",
      "Epoch 2/200\n",
      "Epoch 3/200\n",
      "Epoch 4/200\n",
      "Epoch 5/200\n",
      "Epoch 6/200\n",
      "Epoch 7/200\n",
      "Epoch 8/200\n",
      "Epoch 9/200\n",
      "Epoch 10/200\n",
      "Epoch 11/200\n",
      "Epoch 12/200\n",
      "Epoch 13/200\n",
      "Epoch 14/200\n",
      "Epoch 15/200\n",
      "Epoch 16/200\n",
      "Epoch 17/200\n",
      "Epoch 18/200\n",
      "Epoch 19/200\n",
      "Epoch 20/200\n",
      "Epoch 21/200\n",
      "Epoch 22/200\n",
      "Epoch 23/200\n",
      "Epoch 24/200\n",
      "Epoch 25/200\n",
      "Epoch 26/200\n",
      "Epoch 27/200\n",
      "Epoch 28/200\n",
      "Epoch 29/200\n",
      "Epoch 30/200\n",
      "Epoch 31/200\n",
      "Epoch 32/200\n",
      "Epoch 33/200\n",
      "Epoch 34/200\n",
      "Epoch 35/200\n",
      "Epoch 36/200\n",
      "Epoch 37/200\n",
      "Epoch 38/200\n",
      "Epoch 39/200\n",
      "Epoch 40/200\n",
      "Epoch 41/200\n",
      "Epoch 42/200\n",
      "Epoch 43/200\n",
      "Epoch 44/200\n",
      "Epoch 45/200\n",
      "Epoch 46/200\n",
      "Epoch 47/200\n",
      "Epoch 48/200\n",
      "Epoch 49/200\n",
      "Epoch 50/200\n",
      "Epoch 51/200\n",
      "Epoch 52/200\n",
      "Epoch 53/200\n",
      "Epoch 54/200\n",
      "Epoch 55/200\n",
      "Epoch 56/200\n",
      "Epoch 57/200\n",
      "Epoch 58/200\n",
      "Epoch 59/200\n",
      "Epoch 60/200\n",
      "Epoch 61/200\n",
      "Epoch 62/200\n",
      "Epoch 63/200\n",
      "Epoch 64/200\n",
      "Epoch 65/200\n",
      "Epoch 66/200\n",
      "Epoch 67/200\n",
      "Epoch 68/200\n",
      "Epoch 69/200\n",
      "Epoch 70/200\n",
      "Epoch 71/200\n",
      "Epoch 72/200\n",
      "Epoch 73/200\n",
      "Epoch 74/200\n",
      "Epoch 75/200\n",
      "Epoch 76/200\n",
      "Epoch 77/200\n",
      "Epoch 78/200\n",
      "Epoch 79/200\n",
      "Epoch 80/200\n",
      "Epoch 81/200\n",
      "Epoch 82/200\n",
      "Epoch 83/200\n",
      "Epoch 84/200\n",
      "Epoch 85/200\n",
      "Epoch 86/200\n",
      "Epoch 87/200\n",
      "Epoch 88/200\n",
      "Epoch 89/200\n",
      "Epoch 90/200\n",
      "Epoch 91/200\n",
      "Epoch 92/200\n",
      "Epoch 93/200\n",
      "Epoch 94/200\n",
      "Epoch 95/200\n",
      "Epoch 96/200\n",
      "Epoch 97/200\n",
      "Epoch 98/200\n",
      "Epoch 99/200\n",
      "Epoch 100/200\n",
      "Epoch 101/200\n",
      "Epoch 102/200\n",
      "Epoch 103/200\n",
      "Epoch 104/200\n",
      "Epoch 105/200\n",
      "Epoch 106/200\n",
      "Epoch 107/200\n",
      "Epoch 108/200\n",
      "Epoch 109/200\n",
      "Epoch 110/200\n",
      "Epoch 111/200\n",
      "Epoch 112/200\n",
      "Epoch 113/200\n",
      "Epoch 114/200\n",
      "Epoch 115/200\n",
      "Epoch 116/200\n",
      "Epoch 117/200\n",
      "Epoch 118/200\n",
      "Epoch 119/200\n",
      "Epoch 120/200\n",
      "Epoch 121/200\n",
      "Epoch 122/200\n",
      "Epoch 123/200\n",
      "Epoch 124/200\n",
      "Epoch 125/200\n",
      "Epoch 126/200\n",
      "Epoch 127/200\n",
      "Epoch 128/200\n",
      "Epoch 129/200\n",
      "Epoch 130/200\n",
      "Epoch 131/200\n",
      "Epoch 132/200\n",
      "Epoch 133/200\n",
      "Epoch 134/200\n",
      "Epoch 135/200\n",
      "Epoch 136/200\n",
      "Epoch 137/200\n",
      "Epoch 138/200\n",
      "Epoch 139/200\n",
      "Epoch 140/200\n",
      "Epoch 141/200\n",
      "Epoch 142/200\n",
      "Epoch 143/200\n",
      "Epoch 144/200\n",
      "Epoch 145/200\n",
      "Epoch 146/200\n",
      "Epoch 147/200\n",
      "Epoch 148/200\n",
      "Epoch 149/200\n",
      "Epoch 150/200\n",
      "Epoch 151/200\n",
      "Epoch 152/200\n",
      "Epoch 153/200\n",
      "Epoch 154/200\n",
      "Epoch 155/200\n",
      "Epoch 156/200\n",
      "Epoch 157/200\n",
      "Epoch 158/200\n",
      "Epoch 159/200\n",
      "Epoch 160/200\n",
      "Epoch 161/200\n",
      "Epoch 162/200\n",
      "Epoch 163/200\n",
      "Epoch 164/200\n",
      "Epoch 165/200\n",
      "Epoch 166/200\n",
      "Epoch 167/200\n",
      "Epoch 168/200\n",
      "Epoch 169/200\n",
      "Epoch 170/200\n",
      "Epoch 171/200\n",
      "Epoch 172/200\n",
      "Epoch 173/200\n",
      "Epoch 174/200\n",
      "Epoch 175/200\n",
      "Epoch 176/200\n",
      "Epoch 177/200\n",
      "Epoch 178/200\n",
      "Epoch 179/200\n",
      "Epoch 180/200\n",
      "Epoch 181/200\n",
      "Epoch 182/200\n",
      "Epoch 183/200\n",
      "Epoch 184/200\n",
      "Epoch 185/200\n",
      "Epoch 186/200\n",
      "Epoch 187/200\n",
      "Epoch 188/200\n",
      "Epoch 189/200\n",
      "Epoch 190/200\n",
      "Epoch 191/200\n",
      "Epoch 192/200\n",
      "Epoch 193/200\n",
      "Epoch 194/200\n",
      "Epoch 195/200\n",
      "Epoch 196/200\n",
      "Epoch 197/200\n",
      "Epoch 198/200\n",
      "Epoch 199/200\n",
      "Epoch 200/200\n"
     ]
    }
   ],
   "source": [
    "# fit the model\n",
    "print(labelvec[:5])\n",
    "history = model.fit(padded_docs, labelvec, validation_split=0.1, epochs=200, verbose=5)"
   ]
  },
  {
   "cell_type": "markdown",
   "metadata": {},
   "source": [
    "check for overfitting by comparing the validation loss with training loss:"
   ]
  },
  {
   "cell_type": "code",
   "execution_count": 73,
   "metadata": {},
   "outputs": [
    {
     "data": {
      "image/png": "[encoded data removed]",
      "text/plain": [
       "<Figure size 432x288 with 1 Axes>"
      ]
     },
     "metadata": {},
     "output_type": "display_data"
    }
   ],
   "source": [
    "plt.plot(history.history['loss'])\n",
    "plt.plot(history.history['val_loss'])\n",
    "plt.ylabel('loss')\n",
    "plt.xlabel('epoch')\n",
    "plt.legend(['training loss', 'validation loss'], loc='best')\n",
    "plt.show()"
   ]
  },
  {
   "cell_type": "markdown",
   "metadata": {},
   "source": [
    "The model is clearly overfitting the training data. (Need to resolve soon)"
   ]
  },
  {
   "cell_type": "markdown",
   "metadata": {},
   "source": [
    "evaluating the LSTM with testing data:"
   ]
  },
  {
   "cell_type": "code",
   "execution_count": 76,
   "metadata": {},
   "outputs": [
    {
     "name": "stdout",
     "output_type": "stream",
     "text": [
      "Accuracy: 96.330000 %\n"
     ]
    }
   ],
   "source": [
    "# evaluate the model\n",
    "loss, accuracy = model.evaluate(padded_docs_test, labelvec_test, verbose=0)\n",
    "print('Accuracy: %f %%' % (accuracy*100))"
   ]
  },
  {
   "cell_type": "markdown",
   "metadata": {},
   "source": [
    "Conclusion:\n",
    "   \n",
    "   The LSTM classifier using phonetic syllables as input features is able to give an accuracy of ~96 %. However, the model seems to be overfitting the training set."
   ]
  },
  {
   "cell_type": "markdown",
   "metadata": {},
   "source": [
    "Next steps:\n",
    " - Deal with overfitting, by playing with the number of nodes, dropout etc.\n",
    " - perform k-fold cross-validation to better estimate classifier performance\n",
    " - Draw a ROC of the discriminator output\n",
    "     - to optimize the cut (aka decision boundary) to discriminate Korean and Bangla, instead of 0.5 (default while calculating accuracy)\n",
    "     - get the area under the curve (AUROC) to assess the quality of the discriminator\n",
    " - Improve cleaning to get rid of non-lexical vocables in the corpus to train a better discriminator\n",
    " - Think of a better way to reduce even further English words that are contaminating the corpuses\n",
    " - add other non-roman langauges\n"
   ]
  }
 ],
 "metadata": {
  "kernelspec": {
   "display_name": "Python 3",
   "language": "python",
   "name": "python3"
  },
  "language_info": {
   "codemirror_mode": {
    "name": "ipython",
    "version": 3
   },
   "file_extension": ".py",
   "mimetype": "text/x-python",
   "name": "python",
   "nbconvert_exporter": "python",
   "pygments_lexer": "ipython3",
   "version": "3.6.8"
  }
 },
 "nbformat": 4,
 "nbformat_minor": 2
}
