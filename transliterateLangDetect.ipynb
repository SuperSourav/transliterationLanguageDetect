{
 "cells": [
  {
   "cell_type": "markdown",
   "metadata": {},
   "source": [
    "# Language detection of transliterated text"
   ]
  },
  {
   "cell_type": "markdown",
   "metadata": {},
   "source": [
    "We can often identify a language being spoken, if we have prior experience of listening that language, even if we do not understand the language at all. Every language has some characteristic sounds (phonemes) patterns. These patterns can be used to identify a language even without understanding them. Automatic Speech/Language Recognition systems use such strings of phonemes as features to identify and understand a language.\n",
    "\n",
    "Since the keys of the keyboard are generally in English, it is often convenient for non-roman language speakers to transliterate their texts to English than typing in their native scripts. However, for people who not speak that language, it becomes even hard to identify the language without its actual script. Such transliterated content become encripted to the people who don't speak that language, say some YouTube comments etc.\n",
    "\n",
    "However, like speech if transliterated texts could be pronounced correctly (as in their native langauge), one might be able to identify the language. Fortunately, when any text is transliterated from one langauge to other, it is generally spelled out phonetically. So, if we were to phonetically pronounce the transliterated words, we might be quite closer to its actual pronounciation. \n",
    "\n",
    "In this project, I attempt to address this problem by designing an ML sytem which can detect the language of the transliterated text. Due to lack of time to invest at the moment in this project, I confine the scope of this project by just designing a classifier to classify between Korean and Bangla (Bengali) language. For full disclosure, let me explain my choice of these two non-roman languages. I had a personal interest to make machines identify Bangla as it is my mother tongue, spoken mostly in the state of West Bengal in India and in Bangladesh. Lately I have been listening to some Kpop (Korean pop) songs, and considering Kpop's international reach these days, I was tempted to choose Korean as the other langauge.\n",
    "\n",
    "In future, I might start adding other non-roman languages to the classifier."
   ]
  },
  {
   "cell_type": "markdown",
   "metadata": {},
   "source": [
    "# Scrape data\n",
    "\n",
    "Song lyrics website often transliterate songs in English (perhaps for international audiences). So, for Korean and Bangla (Bengali) sentences transliterated in English, the song lyrics on the following lyrics websites were scraped:\n",
    " - bangla lyrics: http://www.lyricsbangla.com/\n",
    " - korean lyrics: https://romanization.wordpress.com/"
   ]
  },
  {
   "cell_type": "code",
   "execution_count": 1,
   "metadata": {},
   "outputs": [],
   "source": [
    "from urllib.request import urlopen\n",
    "from bs4 import BeautifulSoup\n",
    "import re"
   ]
  },
  {
   "cell_type": "markdown",
   "metadata": {},
   "source": [
    "Since the objects in Bengal (referred as Bangla henceforth) and Korean texts might be different created two separate functions to fetch respective text. The different functions are just for cleanliness purpose."
   ]
  },
  {
   "cell_type": "markdown",
   "metadata": {},
   "source": [
    "### Functions for scraping Korean transliterated texts"
   ]
  },
  {
   "cell_type": "code",
   "execution_count": 3,
   "metadata": {},
   "outputs": [],
   "source": [
    "def fetch_korean(fname):\n",
    "    #some browsing revealed there are 1087 pages (@29th July, 2019) indexed 0 through 1086 with links to lyrics\n",
    "    #extracting the song links from each of these pages\n",
    "    npages = 1087\n",
    "    lyricsbag = open(fname, 'w')\n",
    "    count = 0\n",
    "    for pg in range(npages):\n",
    "        soup = BeautifulSoup(urlopen(\"https://romanization.wordpress.com/page/%i\"%pg), 'html.parser')\n",
    "        links = soup.find_all('a')\n",
    "        pageurls = [_.get('href') for _ in links if (_.text == 'Continue reading →')]\n",
    "        for url in pageurls:\n",
    "            b = koreanLyrics(url)\n",
    "            [lyricsbag.write(_+\"\\n\") for _ in b]\n",
    "            count += 1\n",
    "            print(count)\n",
    "    \n",
    "    return\n"
   ]
  },
  {
   "cell_type": "code",
   "execution_count": 4,
   "metadata": {},
   "outputs": [],
   "source": [
    "def koreanLyrics(url):\n",
    "    s = BeautifulSoup(urlopen(url), 'html.parser')\n",
    "    lblob = [_.text for _ in s.find_all('p')]\n",
    "    lyrics = []\n",
    "    pendown = False\n",
    "    for _ in lblob:\n",
    "        if pendown:\n",
    "            if (_ == \"//\"):\n",
    "                pendown = False\n",
    "                break\n",
    "            else:\n",
    "                lyrics += _.split(\"\\n\")\n",
    "        else:\n",
    "            if \"to see the lyrics\" in _:\n",
    "                pendown = True\n",
    "    return lyrics"
   ]
  },
  {
   "cell_type": "markdown",
   "metadata": {},
   "source": [
    "### Functions for scraping Bangla transliterated texts"
   ]
  },
  {
   "cell_type": "code",
   "execution_count": 5,
   "metadata": {},
   "outputs": [],
   "source": [
    "def fetch_bangla(fname):\n",
    "    #url = \"http://www.lyricsbangla.com/?sec=listing&lyricid=4140\"\n",
    "    url = \"file:///home/sourav/MLProjects/transliterate/Lyrics%20Search%20»%20LyricsBangla.com.html\" \n",
    "    #TODO replace the static page with dynamic link smh\n",
    "    #\"http://www.lyricsbangla.com/index.php?sec=search\"\n",
    "    html = urlopen(url)\n",
    "\n",
    "    soup = BeautifulSoup(html, 'html.parser')\n",
    "    b = soup.find('table')\n",
    "    urltable = b.find_all('td')\n",
    "    \n",
    "    #extracting songs from links in www.lyricsbangla.com index page\n",
    "    lyricsurllist = []\n",
    "    lyricsbag = open(fname, 'w')\n",
    "    count = 0\n",
    "    for u in urltable:\n",
    "        if (u.find('a') != None):\n",
    "            songlink = u.a.get('href')\n",
    "            if (\"artist\" not in songlink):\n",
    "                b = banglaLyrics(songlink)\n",
    "                [lyricsbag.write(_+\"\\n\") for _ in b]\n",
    "                count += 1\n",
    "                print(count)\n",
    "        \n",
    "    return\n",
    "    "
   ]
  },
  {
   "cell_type": "markdown",
   "metadata": {},
   "source": [
    "Bangla lyrics often have chords, so here is a list of chords to clean the text scraped from: https://www.pianochord.org/ and saved in \"chords.txt\""
   ]
  },
  {
   "cell_type": "code",
   "execution_count": 6,
   "metadata": {},
   "outputs": [],
   "source": [
    "##(source: https://www.pianochord.org/)\n",
    "def get_musicalchords():\n",
    "    chords_ = []\n",
    "    f = open(\"chords.txt\", 'r')\n",
    "    lines = f.readlines()\n",
    "    for l in lines:\n",
    "        chords_ += l.strip().split()\n",
    "\n",
    "    return chords_"
   ]
  },
  {
   "cell_type": "code",
   "execution_count": 7,
   "metadata": {},
   "outputs": [],
   "source": [
    "def banglaLyrics(url):\n",
    "    spchar = re.compile('[@_!#$%^&*()<>?/\\|}{~:]')\n",
    "\n",
    "\n",
    "    s = BeautifulSoup(urlopen(url), 'html.parser')\n",
    "    lblob = s.find('p', id='tabs-1')\n",
    "    lyrics = []\n",
    "    chord_ = get_musicalchords()\n",
    "    for line in lblob:\n",
    "        if (line.string != None):\n",
    "            l = str(line)\n",
    "            if any(chord in l for chord in chords_):\n",
    "                continue\n",
    "            elif (spchar.search(l)!=None):\n",
    "                continue\n",
    "            else:\n",
    "                l = l.strip()\n",
    "                if (l): lyrics.append(l)\n",
    "    return lyrics"
   ]
  },
  {
   "cell_type": "markdown",
   "metadata": {},
   "source": [
    "The following cell scrapes Bangla and Korean lyrics respectively using the functions defined above."
   ]
  },
  {
   "cell_type": "code",
   "execution_count": 145,
   "metadata": {},
   "outputs": [],
   "source": [
    "banglacorpus = \"banglacorpus.txt\"\n",
    "fetch_bangla(banglacorpus)\n",
    "\n",
    "\n",
    "koreancorpus = \"koreancorpus.txt\"\n",
    "fetch_korean(koreancorpus)\n"
   ]
  },
  {
   "cell_type": "markdown",
   "metadata": {},
   "source": [
    "# Data Cleaning\n",
    "\n",
    "- make all text lower case in vim for both Bangla and Korean (done in vim. Maybe do in the cleaning script itsel for later projects)\n",
    "- search for some common words like - \"you\",\"love\", \"it\", \"will\" and remove those lines\n",
    "- Also, Korean text has this block \"Fill in your details below or click an icon to log in:\n",
    "                        You are commenting using your WordPress.com account.\n",
    "                        You are commenting using your Google account.\n",
    "                        You are commenting using your Twitter account.\n",
    "                        You are commenting using your Facebook account.\" remove that\n",
    " \n",
    "- koreancorpus.txt -(cleaner_koreancopus.py)-> cleanedkoreancorpus.txt \n",
    "- banglacorpus.txt -(cleaner_banglacopus.py)-> cleanedbanglacorpus.txt\n",
    "\n",
    "\"cleanedkoreancorpus.txt\" and \"cleanedbanglacorpus.txt\" are the cleaned corpuses for Korean and Bangla transliterated text used for the analysis\n",
    "\n",
    "<div style=\"text-align: right\"> \"Cleaning is messy!!\" ~Anonymous </div>\n",
    "\n",
    "TODO:\n",
    "* later add all this cleaning to this notebook\n",
    "- should store in dataframe"
   ]
  },
  {
   "cell_type": "markdown",
   "metadata": {},
   "source": [
    "# Data Visualization for encoding"
   ]
  },
  {
   "cell_type": "markdown",
   "metadata": {},
   "source": [
    "While transliteration, words are spelled phonetically. So, if one spells the transliterated word phonetically, one might actually get quite close to the actual pronounciation in its native language.\n",
    "If the transliterated words are, therefore, split into phonetic syllables, a list of those phonetic syllables could represent the pronounciation of that word and thus information about its native language. These phonetic syllables are quite analogous to phoneme sequences used in ASR (Automatic Speech Recognition).\n",
    "\n",
    "Since English is not a phonetic language, its syllables are not phonetic. However, with we try to split the word using a phonetic language, like Italian, then the syllables would indeed be phonetic.\n",
    "\n",
    "I use a python package - 'pyphen' (https://pyphen.org) for such syllable splitting. This package provides an option to choose the language in which the user wants to split the word. As discussed above, I used Italian, a phonetic language, to split the word into syllables, so that I get phonetic syllables."
   ]
  },
  {
   "cell_type": "markdown",
   "metadata": {},
   "source": [
    "Installing pyphen:"
   ]
  },
  {
   "cell_type": "code",
   "execution_count": 1,
   "metadata": {},
   "outputs": [
    {
     "name": "stdout",
     "output_type": "stream",
     "text": [
      "Collecting pyphen\n",
      "  Using cached https://files.pythonhosted.org/packages/15/82/08a3629dce8d1f3d91db843bb36d4d7db6b6269d5067259613a0d5c8a9db/Pyphen-0.9.5-py2.py3-none-any.whl\n",
      "Installing collected packages: pyphen\n",
      "Successfully installed pyphen-0.9.5\n"
     ]
    }
   ],
   "source": [
    "# Install pyphen in the current Jupyter kernel\n",
    "import sys\n",
    "!{sys.executable} -m pip install pyphen"
   ]
  },
  {
   "cell_type": "markdown",
   "metadata": {},
   "source": [
    "The function below splits the words phonetically (as in italian) into list of syllables to be used as input features for langauge detection:"
   ]
  },
  {
   "cell_type": "code",
   "execution_count": 9,
   "metadata": {},
   "outputs": [],
   "source": [
    "def wordbagmaker(corpusfilename, label):\n",
    "   f = open(corpusfilename, 'r')\n",
    "   lines = f.readlines()\n",
    "\n",
    "   import random\n",
    "   import pyphen\n",
    "   worddict = []\n",
    "   dic = pyphen.Pyphen(lang='it_IT')\n",
    "   for l in lines:\n",
    "       words = l.split()\n",
    "       if (len(words) < 2): continue #only words present in sentences used, not single word sentences\n",
    "       for w in words:\n",
    "          if (len(w) > 1) and w.isalpha(): #words with digits not used and single letter words not used\n",
    "              worddict.append(dic.inserted(w) + \" : \" + label)\n",
    "\n",
    "   random.shuffle(worddict)   #shuffle the list\n",
    "   return worddict"
   ]
  },
  {
   "cell_type": "markdown",
   "metadata": {},
   "source": [
    "The words split into phonetic syllables are stored in koreanwordbag.txt and banglawordbag.txt for Korean and Bangla resp. and used to train and test the langauge detection model."
   ]
  },
  {
   "cell_type": "code",
   "execution_count": 10,
   "metadata": {},
   "outputs": [],
   "source": [
    "foK = open(\"koreanwordbag.txt\", 'w')\n",
    "[foK.write(wK+\"\\n\") for wK in wordbagmaker(\"cleanedkoreancorpus.txt\", \"K\")]\n",
    "foK.close()\n",
    "foB = open(\"banglawordbag.txt\", 'w')\n",
    "[foB.write(wB+\"\\n\") for wB in wordbagmaker(\"cleanedbanglacorpus.txt\", \"B\")]\n",
    "foB.close()"
   ]
  },
  {
   "cell_type": "code",
   "execution_count": 2,
   "metadata": {},
   "outputs": [],
   "source": [
    "fkor = open(\"koreanwordbag.txt\", 'r')\n",
    "fban = open(\"banglawordbag.txt\", 'r')\n",
    "datakor = fkor.readlines()\n",
    "databan = fban.readlines()"
   ]
  },
  {
   "cell_type": "markdown",
   "metadata": {},
   "source": [
    "A quick feature visualization to see if simple features, like syllable count per word,have any discriminating power."
   ]
  },
  {
   "cell_type": "code",
   "execution_count": 3,
   "metadata": {},
   "outputs": [],
   "source": [
    "import numpy as np\n",
    "import matplotlib.pyplot as plt\n",
    "%matplotlib inline"
   ]
  },
  {
   "cell_type": "code",
   "execution_count": 4,
   "metadata": {},
   "outputs": [],
   "source": [
    "syllables_per_wordKOR = []\n",
    "letters_per_syllableKOR = []\n",
    "for dK in datakor:\n",
    "    w = dK.split(\" : \")[0].split(\"-\")\n",
    "    syllables_per_wordKOR.append(len(w))\n",
    "    [letters_per_syllableKOR.append(len(_)) for _ in w]\n",
    "\n",
    "syllables_per_wordBAN = []\n",
    "letters_per_syllableBAN = []\n",
    "for dB in databan:\n",
    "    w = dB.split(\" : \")[0].split(\"-\")\n",
    "    syllables_per_wordBAN.append(len(w))\n",
    "    [letters_per_syllableBAN.append(len(_)) for _ in w]\n",
    "\n",
    "syllables_per_word = np.concatenate((syllables_per_wordKOR,syllables_per_wordBAN), axis=0)\n",
    "letters_per_syllable = np.concatenate((letters_per_syllableKOR, letters_per_syllableBAN), axis=0)"
   ]
  },
  {
   "cell_type": "code",
   "execution_count": 5,
   "metadata": {},
   "outputs": [
    {
     "data": {
      "image/png": "[encoded data removed]",
      "text/plain": [
       "<Figure size 432x288 with 1 Axes>"
      ]
     },
     "metadata": {},
     "output_type": "display_data"
    }
   ],
   "source": [
    "binsSPW = [_ - 0.5 for _ in range(1,11)]\n",
    "plt.xticks(range(1,11))\n",
    "plt.hist(syllables_per_word, binsSPW, alpha=0.3, label='both languages')\n",
    "plt.hist(syllables_per_wordKOR, binsSPW, alpha=0.3, label='Korean') \n",
    "plt.hist(syllables_per_wordBAN, binsSPW, alpha=0.3, label='Bangla')\n",
    "\n",
    "plt.xlabel('#syllables/word')\n",
    "plt.ylabel('frequency')\n",
    "plt.legend(loc='best')\n",
    "plt.show()"
   ]
  },
  {
   "cell_type": "markdown",
   "metadata": {},
   "source": [
    "Bangla words mostly have 2 syllables, Korean words can have upto 5 syllables in a word. A 10 syllable vector should be enough to encode a word from either language."
   ]
  },
  {
   "cell_type": "code",
   "execution_count": 6,
   "metadata": {},
   "outputs": [
    {
     "data": {
      "image/png": "[encoded data removed]",
      "text/plain": [
       "<Figure size 432x288 with 1 Axes>"
      ]
     },
     "metadata": {},
     "output_type": "display_data"
    }
   ],
   "source": [
    "binsLPS = [_ - 0.5 for _ in range(1,11)]\n",
    "plt.xticks(range(1,11))\n",
    "plt.hist(letters_per_syllable, binsLPS, alpha=0.3, label='both languages')\n",
    "plt.hist(letters_per_syllableKOR, binsLPS, alpha=0.3, label='Korean') \n",
    "plt.hist(letters_per_syllableBAN, binsLPS, alpha=0.3, label='Bangla')\n",
    "\n",
    "plt.xlabel('#letters/syllables')\n",
    "plt.ylabel('frequency')\n",
    "plt.legend(loc='best')\n",
    "plt.show()"
   ]
  },
  {
   "cell_type": "markdown",
   "metadata": {},
   "source": [
    "Most phonetic syllables have around 2 letters. Not a significant disciminator. Would therefore be fair to disregard the syllable length and just integer encode the syllables in both the corpuses."
   ]
  },
  {
   "cell_type": "markdown",
   "metadata": {},
   "source": [
    "# Training data"
   ]
  },
  {
   "cell_type": "markdown",
   "metadata": {},
   "source": [
    "Using 50,000 (10,000) Bangla and Korean words each randomly from the corpuses for training (testing)."
   ]
  },
  {
   "cell_type": "code",
   "execution_count": 7,
   "metadata": {},
   "outputs": [],
   "source": [
    "import random\n",
    "Ntrain = 50000\n",
    "Ntest  = 10000\n",
    "random.shuffle(datakor) #korean\n",
    "random.shuffle(databan) #bangla\n",
    "TrainingVal_data = datakor[:Ntrain] + databan[:Ntrain] \n",
    "Testing_data = datakor[Ntrain:Ntrain+Ntest] + databan[Ntrain:Ntrain+Ntest]\n",
    "random.shuffle(TrainingVal_data)\n",
    "random.shuffle(Testing_data)"
   ]
  },
  {
   "cell_type": "markdown",
   "metadata": {},
   "source": [
    "# Word and label encoding"
   ]
  },
  {
   "cell_type": "code",
   "execution_count": 8,
   "metadata": {},
   "outputs": [
    {
     "name": "stderr",
     "output_type": "stream",
     "text": [
      "Using TensorFlow backend.\n",
      "/home/sourav/.local/lib/python3.6/site-packages/tensorflow/python/framework/dtypes.py:516: FutureWarning: Passing (type, 1) or '1type' as a synonym of type is deprecated; in a future version of numpy, it will be understood as (type, (1,)) / '(1,)type'.\n",
      "  _np_qint8 = np.dtype([(\"qint8\", np.int8, 1)])\n",
      "/home/sourav/.local/lib/python3.6/site-packages/tensorflow/python/framework/dtypes.py:517: FutureWarning: Passing (type, 1) or '1type' as a synonym of type is deprecated; in a future version of numpy, it will be understood as (type, (1,)) / '(1,)type'.\n",
      "  _np_quint8 = np.dtype([(\"quint8\", np.uint8, 1)])\n",
      "/home/sourav/.local/lib/python3.6/site-packages/tensorflow/python/framework/dtypes.py:518: FutureWarning: Passing (type, 1) or '1type' as a synonym of type is deprecated; in a future version of numpy, it will be understood as (type, (1,)) / '(1,)type'.\n",
      "  _np_qint16 = np.dtype([(\"qint16\", np.int16, 1)])\n",
      "/home/sourav/.local/lib/python3.6/site-packages/tensorflow/python/framework/dtypes.py:519: FutureWarning: Passing (type, 1) or '1type' as a synonym of type is deprecated; in a future version of numpy, it will be understood as (type, (1,)) / '(1,)type'.\n",
      "  _np_quint16 = np.dtype([(\"quint16\", np.uint16, 1)])\n",
      "/home/sourav/.local/lib/python3.6/site-packages/tensorflow/python/framework/dtypes.py:520: FutureWarning: Passing (type, 1) or '1type' as a synonym of type is deprecated; in a future version of numpy, it will be understood as (type, (1,)) / '(1,)type'.\n",
      "  _np_qint32 = np.dtype([(\"qint32\", np.int32, 1)])\n",
      "/home/sourav/.local/lib/python3.6/site-packages/tensorflow/python/framework/dtypes.py:525: FutureWarning: Passing (type, 1) or '1type' as a synonym of type is deprecated; in a future version of numpy, it will be understood as (type, (1,)) / '(1,)type'.\n",
      "  np_resource = np.dtype([(\"resource\", np.ubyte, 1)])\n",
      "/home/sourav/.local/lib/python3.6/site-packages/tensorboard/compat/tensorflow_stub/dtypes.py:541: FutureWarning: Passing (type, 1) or '1type' as a synonym of type is deprecated; in a future version of numpy, it will be understood as (type, (1,)) / '(1,)type'.\n",
      "  _np_qint8 = np.dtype([(\"qint8\", np.int8, 1)])\n",
      "/home/sourav/.local/lib/python3.6/site-packages/tensorboard/compat/tensorflow_stub/dtypes.py:542: FutureWarning: Passing (type, 1) or '1type' as a synonym of type is deprecated; in a future version of numpy, it will be understood as (type, (1,)) / '(1,)type'.\n",
      "  _np_quint8 = np.dtype([(\"quint8\", np.uint8, 1)])\n",
      "/home/sourav/.local/lib/python3.6/site-packages/tensorboard/compat/tensorflow_stub/dtypes.py:543: FutureWarning: Passing (type, 1) or '1type' as a synonym of type is deprecated; in a future version of numpy, it will be understood as (type, (1,)) / '(1,)type'.\n",
      "  _np_qint16 = np.dtype([(\"qint16\", np.int16, 1)])\n",
      "/home/sourav/.local/lib/python3.6/site-packages/tensorboard/compat/tensorflow_stub/dtypes.py:544: FutureWarning: Passing (type, 1) or '1type' as a synonym of type is deprecated; in a future version of numpy, it will be understood as (type, (1,)) / '(1,)type'.\n",
      "  _np_quint16 = np.dtype([(\"quint16\", np.uint16, 1)])\n",
      "/home/sourav/.local/lib/python3.6/site-packages/tensorboard/compat/tensorflow_stub/dtypes.py:545: FutureWarning: Passing (type, 1) or '1type' as a synonym of type is deprecated; in a future version of numpy, it will be understood as (type, (1,)) / '(1,)type'.\n",
      "  _np_qint32 = np.dtype([(\"qint32\", np.int32, 1)])\n",
      "/home/sourav/.local/lib/python3.6/site-packages/tensorboard/compat/tensorflow_stub/dtypes.py:550: FutureWarning: Passing (type, 1) or '1type' as a synonym of type is deprecated; in a future version of numpy, it will be understood as (type, (1,)) / '(1,)type'.\n",
      "  np_resource = np.dtype([(\"resource\", np.ubyte, 1)])\n"
     ]
    }
   ],
   "source": [
    "from keras.preprocessing.text import one_hot\n",
    "from keras.preprocessing.sequence import pad_sequences"
   ]
  },
  {
   "cell_type": "code",
   "execution_count": 9,
   "metadata": {},
   "outputs": [],
   "source": [
    "from keras.models import Sequential\n",
    "from keras.layers import Dense, Embedding, LSTM"
   ]
  },
  {
   "cell_type": "code",
   "execution_count": 10,
   "metadata": {},
   "outputs": [
    {
     "name": "stdout",
     "output_type": "stream",
     "text": [
      "['amar', 'ham ni da', 'tor']\n",
      "[[1 0]\n",
      " [0 1]\n",
      " [1 0]]\n"
     ]
    }
   ],
   "source": [
    "#training data\n",
    "wordvec = []\n",
    "labelvec = [] \n",
    "for td in TrainingVal_data:\n",
    "    wvec = []\n",
    "    tw, tl = td.split(\" : \")\n",
    "    tw = tw.replace(\"-\", \" \")\n",
    "    lvec = [1, 0] if tl.strip() == \"B\" else [0,1]                #One hot encoding: [1,0] : Bangla, [0,1] : Korean\n",
    "    wordvec.append(tw)\n",
    "    labelvec.append(lvec)\n",
    "labelvec = np.array(labelvec)\n",
    "print(wordvec[:3])\n",
    "print(labelvec[:3])\n",
    "\n",
    "\n",
    "#testing data\n",
    "wordvec_test = []\n",
    "labelvec_test = [] \n",
    "for td in Testing_data:\n",
    "    wvec = []\n",
    "    tw, tl = td.split(\" : \")\n",
    "    tw = tw.replace(\"-\", \" \")\n",
    "    lvec = [1, 0] if tl.strip() == \"B\" else [0,1]                #One hot encoding: [1,0] : Bangla, [0,1] : Korean\n",
    "    wordvec_test.append(tw)\n",
    "    labelvec_test.append(lvec)\n",
    "labelvec_test = np.array(labelvec_test)\n"
   ]
  },
  {
   "cell_type": "markdown",
   "metadata": {},
   "source": [
    "integer encode the phonetic syllables:"
   ]
  },
  {
   "cell_type": "code",
   "execution_count": 11,
   "metadata": {},
   "outputs": [
    {
     "name": "stdout",
     "output_type": "stream",
     "text": [
      "['amar', 'ham ni da', 'tor', 'fic tion', 'hol lo seon']\n",
      "[[56908], [114420, 112372, 9843], [162930], [26391, 115211], [174349, 170405, 176580]]\n",
      "['dho re', 'neon', 'nah', 'na', 'yak so gi']\n",
      "[[4387, 198156], [198241], [7652], [187137], [140752, 138533, 190594]]\n"
     ]
    }
   ],
   "source": [
    "vocab_size = 200000\n",
    "\n",
    "#training data\n",
    "print(wordvec[:5])\n",
    "encoded_docs = [one_hot(d, vocab_size) for d in wordvec]\n",
    "print(encoded_docs[:5])\n",
    "\n",
    "#testing data\n",
    "print(wordvec_test[:5])\n",
    "encoded_docs_test = [one_hot(d, vocab_size) for d in wordvec_test]\n",
    "print(encoded_docs_test[:5])\n"
   ]
  },
  {
   "cell_type": "markdown",
   "metadata": {},
   "source": [
    "pad words to a max length of 10 syllables:"
   ]
  },
  {
   "cell_type": "code",
   "execution_count": 12,
   "metadata": {},
   "outputs": [
    {
     "name": "stdout",
     "output_type": "stream",
     "text": [
      "[[ 56908      0      0 ...      0      0      0]\n",
      " [114420 112372   9843 ...      0      0      0]\n",
      " [162930      0      0 ...      0      0      0]\n",
      " ...\n",
      " [121052      0      0 ...      0      0      0]\n",
      " [ 83753      0      0 ...      0      0      0]\n",
      " [ 52189      0      0 ...      0      0      0]]\n"
     ]
    }
   ],
   "source": [
    "max_length = 10\n",
    "\n",
    "#training data\n",
    "padded_docs = pad_sequences(encoded_docs, maxlen=max_length, padding='post')\n",
    "print(padded_docs)\n",
    "\n",
    "#testing data\n",
    "padded_docs_test = pad_sequences(encoded_docs_test, maxlen=max_length, padding='post')"
   ]
  },
  {
   "cell_type": "markdown",
   "metadata": {},
   "source": [
    "I train an LSTM to classify Korean and Bangla words, defined below:"
   ]
  },
  {
   "cell_type": "code",
   "execution_count": 66,
   "metadata": {},
   "outputs": [
    {
     "name": "stdout",
     "output_type": "stream",
     "text": [
      "Model: \"sequential_13\"\n",
      "_________________________________________________________________\n",
      "Layer (type)                 Output Shape              Param #   \n",
      "=================================================================\n",
      "embedding_13 (Embedding)     (None, 10, 8)             1600000   \n",
      "_________________________________________________________________\n",
      "lstm_12 (LSTM)               (None, 5)                 280       \n",
      "_________________________________________________________________\n",
      "dense_12 (Dense)             (None, 2)                 12        \n",
      "=================================================================\n",
      "Total params: 1,600,292\n",
      "Trainable params: 1,600,292\n",
      "Non-trainable params: 0\n",
      "_________________________________________________________________\n",
      "None\n"
     ]
    }
   ],
   "source": [
    "lstm_out = 5\n",
    "# define the model\n",
    "model = Sequential()\n",
    "model.add(Embedding(vocab_size, 8, input_length=max_length))\n",
    "model.add(LSTM(lstm_out, recurrent_initializer=\"random_uniform\", bias_initializer=\"zeros\", dropout=0.4, recurrent_dropout=0.4 ))\n",
    "model.add(Dense(2, activation='softmax'))\n",
    "\n",
    "# compile the model\n",
    "model.compile(optimizer='adam', loss='categorical_crossentropy', metrics=['accuracy'])\n",
    "# summarize the model\n",
    "print(model.summary())"
   ]
  },
  {
   "cell_type": "markdown",
   "metadata": {},
   "source": [
    "train the LSTM:"
   ]
  },
  {
   "cell_type": "code",
   "execution_count": 54,
   "metadata": {},
   "outputs": [],
   "source": [
    "from keras.callbacks import EarlyStopping\n",
    "class ThresholdEarlyStopping(EarlyStopping):\n",
    "    def __init__(self, monitor='val_loss', min_epochs=10,\n",
    "                 threshold=0.995, increase=1.75, verbose=0, mode='auto'):\n",
    "\n",
    "        super(ThresholdEarlyStopping, self).__init__(\n",
    "            monitor=monitor,\n",
    "            patience=min_epochs,\n",
    "            verbose=verbose,\n",
    "            mode=mode\n",
    "        )\n",
    "\n",
    "        self.threshold = threshold\n",
    "        self.increase = increase\n",
    "\n",
    "    def on_epoch_end(self, epoch, logs={}):\n",
    "        if epoch < self.patience:\n",
    "            current = logs.get(self.monitor)\n",
    "            if current is None:\n",
    "                warnings.warn('Early stopping requires %s available!' %\n",
    "                              (self.monitor), RuntimeWarning)\n",
    "\n",
    "            if self.monitor_op(current, self.best):\n",
    "                if self.monitor_op(current, self.threshold*self.best):\n",
    "                    self.patience = max(self.patience, epoch * self.increase)\n",
    "                self.best = current\n",
    "\n",
    "        else:\n",
    "            if self.verbose > 0:\n",
    "                print('Epoch %05d: early stopping' % (epoch))\n",
    "\n",
    "            self.model.stop_training = True"
   ]
  },
  {
   "cell_type": "code",
   "execution_count": 71,
   "metadata": {},
   "outputs": [
    {
     "name": "stdout",
     "output_type": "stream",
     "text": [
      "[[1 0]\n",
      " [0 1]\n",
      " [1 0]\n",
      " [0 1]\n",
      " [0 1]]\n",
      "Train on 90000 samples, validate on 10000 samples\n",
      "Epoch 1/100\n",
      "90000/90000 [==============================] - 12s 134us/step - loss: 0.1225 - acc: 0.9489 - val_loss: 0.1425 - val_acc: 0.9462\n",
      "Epoch 2/100\n",
      "90000/90000 [==============================] - 7s 77us/step - loss: 0.1224 - acc: 0.9496 - val_loss: 0.1436 - val_acc: 0.9455\n",
      "Epoch 3/100\n",
      "90000/90000 [==============================] - 6s 72us/step - loss: 0.1231 - acc: 0.9491 - val_loss: 0.1439 - val_acc: 0.9456\n",
      "Epoch 4/100\n",
      "90000/90000 [==============================] - 6s 71us/step - loss: 0.1224 - acc: 0.9491 - val_loss: 0.1414 - val_acc: 0.9451\n",
      "Epoch 5/100\n",
      "90000/90000 [==============================] - 7s 74us/step - loss: 0.1226 - acc: 0.9486 - val_loss: 0.1408 - val_acc: 0.9457\n",
      "Epoch 6/100\n",
      "90000/90000 [==============================] - 6s 72us/step - loss: 0.1231 - acc: 0.9493 - val_loss: 0.1440 - val_acc: 0.9463\n",
      "Epoch 7/100\n",
      "90000/90000 [==============================] - 7s 81us/step - loss: 0.1226 - acc: 0.9492 - val_loss: 0.1421 - val_acc: 0.9469\n",
      "Epoch 8/100\n",
      "90000/90000 [==============================] - 7s 77us/step - loss: 0.1234 - acc: 0.9486 - val_loss: 0.1406 - val_acc: 0.9444\n",
      "Epoch 9/100\n",
      "90000/90000 [==============================] - 7s 73us/step - loss: 0.1225 - acc: 0.9484 - val_loss: 0.1425 - val_acc: 0.9455\n",
      "Epoch 10/100\n",
      "90000/90000 [==============================] - 7s 72us/step - loss: 0.1229 - acc: 0.9489 - val_loss: 0.1414 - val_acc: 0.9462\n",
      "Epoch 11/100\n",
      "90000/90000 [==============================] - 7s 78us/step - loss: 0.1219 - acc: 0.9495 - val_loss: 0.1444 - val_acc: 0.9467\n",
      "Epoch 12/100\n",
      "90000/90000 [==============================] - 7s 77us/step - loss: 0.1226 - acc: 0.9487 - val_loss: 0.1430 - val_acc: 0.9449\n",
      "Epoch 13/100\n",
      "90000/90000 [==============================] - 7s 77us/step - loss: 0.1230 - acc: 0.9488 - val_loss: 0.1425 - val_acc: 0.9462\n",
      "Epoch 14/100\n",
      "90000/90000 [==============================] - 6s 72us/step - loss: 0.1229 - acc: 0.9491 - val_loss: 0.1430 - val_acc: 0.9451\n",
      "Epoch 15/100\n",
      "90000/90000 [==============================] - 7s 74us/step - loss: 0.1224 - acc: 0.9487 - val_loss: 0.1420 - val_acc: 0.9465\n",
      "Epoch 16/100\n",
      "90000/90000 [==============================] - 7s 79us/step - loss: 0.1222 - acc: 0.9491 - val_loss: 0.1435 - val_acc: 0.9471\n",
      "Epoch 17/100\n",
      "90000/90000 [==============================] - 7s 77us/step - loss: 0.1228 - acc: 0.9490 - val_loss: 0.1422 - val_acc: 0.9464\n",
      "Epoch 18/100\n",
      "90000/90000 [==============================] - 6s 72us/step - loss: 0.1221 - acc: 0.9491 - val_loss: 0.1426 - val_acc: 0.9473\n",
      "Epoch 19/100\n",
      "90000/90000 [==============================] - 7s 75us/step - loss: 0.1225 - acc: 0.9492 - val_loss: 0.1397 - val_acc: 0.9462\n",
      "Epoch 20/100\n",
      "90000/90000 [==============================] - 7s 73us/step - loss: 0.1225 - acc: 0.9487 - val_loss: 0.1409 - val_acc: 0.9452\n",
      "Epoch 21/100\n",
      "90000/90000 [==============================] - 7s 76us/step - loss: 0.1215 - acc: 0.9494 - val_loss: 0.1413 - val_acc: 0.9459\n",
      "Epoch 22/100\n",
      "90000/90000 [==============================] - 6s 68us/step - loss: 0.1209 - acc: 0.9494 - val_loss: 0.1451 - val_acc: 0.9461\n",
      "Epoch 23/100\n",
      "90000/90000 [==============================] - 6s 66us/step - loss: 0.1219 - acc: 0.9492 - val_loss: 0.1429 - val_acc: 0.9460\n",
      "Epoch 24/100\n",
      "90000/90000 [==============================] - 6s 69us/step - loss: 0.1223 - acc: 0.9492 - val_loss: 0.1442 - val_acc: 0.9464\n",
      "Epoch 25/100\n",
      "90000/90000 [==============================] - 6s 69us/step - loss: 0.1233 - acc: 0.9483 - val_loss: 0.1452 - val_acc: 0.9467\n",
      "Epoch 26/100\n",
      "90000/90000 [==============================] - 8s 91us/step - loss: 0.1214 - acc: 0.9501 - val_loss: 0.1416 - val_acc: 0.9459\n",
      "Epoch 27/100\n",
      "90000/90000 [==============================] - 6s 72us/step - loss: 0.1219 - acc: 0.9489 - val_loss: 0.1440 - val_acc: 0.9463\n",
      "Epoch 28/100\n",
      "90000/90000 [==============================] - 7s 75us/step - loss: 0.1217 - acc: 0.9488 - val_loss: 0.1416 - val_acc: 0.9463\n",
      "Epoch 29/100\n",
      "90000/90000 [==============================] - 6s 72us/step - loss: 0.1216 - acc: 0.9492 - val_loss: 0.1423 - val_acc: 0.9459\n",
      "Epoch 30/100\n",
      "90000/90000 [==============================] - 6s 66us/step - loss: 0.1224 - acc: 0.9486 - val_loss: 0.1428 - val_acc: 0.9462\n",
      "Epoch 31/100\n",
      "90000/90000 [==============================] - 6s 65us/step - loss: 0.1216 - acc: 0.9499 - val_loss: 0.1446 - val_acc: 0.9468\n",
      "Epoch 32/100\n",
      "90000/90000 [==============================] - 7s 79us/step - loss: 0.1214 - acc: 0.9497 - val_loss: 0.1445 - val_acc: 0.9464\n",
      "Epoch 33/100\n",
      "90000/90000 [==============================] - 7s 80us/step - loss: 0.1221 - acc: 0.9489 - val_loss: 0.1484 - val_acc: 0.9465\n",
      "Epoch 34/100\n",
      "90000/90000 [==============================] - 7s 77us/step - loss: 0.1219 - acc: 0.9487 - val_loss: 0.1452 - val_acc: 0.9454\n",
      "Epoch 35/100\n",
      "90000/90000 [==============================] - 6s 71us/step - loss: 0.1221 - acc: 0.9494 - val_loss: 0.1419 - val_acc: 0.9464\n",
      "Epoch 36/100\n",
      "90000/90000 [==============================] - 7s 80us/step - loss: 0.1214 - acc: 0.9496 - val_loss: 0.1434 - val_acc: 0.9468\n",
      "Epoch 37/100\n",
      "90000/90000 [==============================] - 6s 65us/step - loss: 0.1217 - acc: 0.9496 - val_loss: 0.1423 - val_acc: 0.9463\n",
      "Epoch 38/100\n",
      "90000/90000 [==============================] - 6s 70us/step - loss: 0.1213 - acc: 0.9493 - val_loss: 0.1421 - val_acc: 0.9457\n",
      "Epoch 39/100\n",
      "90000/90000 [==============================] - 6s 67us/step - loss: 0.1222 - acc: 0.9492 - val_loss: 0.1442 - val_acc: 0.9442\n",
      "Epoch 40/100\n",
      "90000/90000 [==============================] - 6s 67us/step - loss: 0.1214 - acc: 0.9485 - val_loss: 0.1420 - val_acc: 0.9450\n",
      "Epoch 41/100\n",
      "90000/90000 [==============================] - 6s 64us/step - loss: 0.1212 - acc: 0.9492 - val_loss: 0.1438 - val_acc: 0.9459\n",
      "Epoch 42/100\n",
      "90000/90000 [==============================] - 7s 76us/step - loss: 0.1202 - acc: 0.9501 - val_loss: 0.1426 - val_acc: 0.9453\n",
      "Epoch 43/100\n",
      "90000/90000 [==============================] - 6s 68us/step - loss: 0.1215 - acc: 0.9496 - val_loss: 0.1449 - val_acc: 0.9464\n",
      "Epoch 44/100\n",
      "90000/90000 [==============================] - 6s 71us/step - loss: 0.1217 - acc: 0.9490 - val_loss: 0.1461 - val_acc: 0.9462\n",
      "Epoch 45/100\n",
      "90000/90000 [==============================] - 6s 72us/step - loss: 0.1218 - acc: 0.9490 - val_loss: 0.1409 - val_acc: 0.9465\n",
      "Epoch 46/100\n",
      "90000/90000 [==============================] - 6s 68us/step - loss: 0.1218 - acc: 0.9488 - val_loss: 0.1471 - val_acc: 0.9468\n",
      "Epoch 47/100\n",
      "90000/90000 [==============================] - 7s 73us/step - loss: 0.1203 - acc: 0.9499 - val_loss: 0.1477 - val_acc: 0.9466\n",
      "Epoch 48/100\n",
      "90000/90000 [==============================] - 6s 68us/step - loss: 0.1206 - acc: 0.9493 - val_loss: 0.1434 - val_acc: 0.9456\n",
      "Epoch 49/100\n",
      "90000/90000 [==============================] - 6s 70us/step - loss: 0.1211 - acc: 0.9492 - val_loss: 0.1485 - val_acc: 0.9460\n",
      "Epoch 50/100\n",
      "90000/90000 [==============================] - 6s 66us/step - loss: 0.1207 - acc: 0.9497 - val_loss: 0.1496 - val_acc: 0.9460\n",
      "Epoch 51/100\n",
      "90000/90000 [==============================] - 8s 85us/step - loss: 0.1213 - acc: 0.9489 - val_loss: 0.1462 - val_acc: 0.9459\n",
      "Epoch 52/100\n",
      "90000/90000 [==============================] - 6s 68us/step - loss: 0.1229 - acc: 0.9485 - val_loss: 0.1422 - val_acc: 0.9462\n",
      "Epoch 53/100\n",
      "90000/90000 [==============================] - 6s 65us/step - loss: 0.1212 - acc: 0.9490 - val_loss: 0.1454 - val_acc: 0.9466\n",
      "Epoch 54/100\n",
      "90000/90000 [==============================] - 6s 64us/step - loss: 0.1209 - acc: 0.9493 - val_loss: 0.1442 - val_acc: 0.9462\n",
      "Epoch 55/100\n",
      "90000/90000 [==============================] - 6s 69us/step - loss: 0.1209 - acc: 0.9493 - val_loss: 0.1453 - val_acc: 0.9456\n",
      "Epoch 56/100\n",
      "90000/90000 [==============================] - 7s 72us/step - loss: 0.1208 - acc: 0.9501 - val_loss: 0.1437 - val_acc: 0.9443\n",
      "Epoch 57/100\n",
      "90000/90000 [==============================] - 7s 77us/step - loss: 0.1212 - acc: 0.9489 - val_loss: 0.1434 - val_acc: 0.9455\n",
      "Epoch 58/100\n",
      "90000/90000 [==============================] - 7s 83us/step - loss: 0.1209 - acc: 0.9496 - val_loss: 0.1498 - val_acc: 0.9462\n",
      "Epoch 59/100\n"
     ]
    },
    {
     "name": "stdout",
     "output_type": "stream",
     "text": [
      "90000/90000 [==============================] - 7s 75us/step - loss: 0.1207 - acc: 0.9495 - val_loss: 0.1454 - val_acc: 0.9464\n",
      "Epoch 60/100\n",
      "90000/90000 [==============================] - 7s 81us/step - loss: 0.1206 - acc: 0.9492 - val_loss: 0.1448 - val_acc: 0.9468\n",
      "Epoch 61/100\n",
      "90000/90000 [==============================] - 6s 72us/step - loss: 0.1211 - acc: 0.9494 - val_loss: 0.1420 - val_acc: 0.9459\n",
      "Epoch 62/100\n",
      "90000/90000 [==============================] - 8s 84us/step - loss: 0.1201 - acc: 0.9500 - val_loss: 0.1444 - val_acc: 0.9463\n",
      "Epoch 63/100\n",
      "90000/90000 [==============================] - 8s 84us/step - loss: 0.1210 - acc: 0.9497 - val_loss: 0.1414 - val_acc: 0.9447\n",
      "Epoch 64/100\n",
      "90000/90000 [==============================] - 6s 64us/step - loss: 0.1207 - acc: 0.9499 - val_loss: 0.1478 - val_acc: 0.9457\n",
      "Epoch 65/100\n",
      "90000/90000 [==============================] - 6s 66us/step - loss: 0.1214 - acc: 0.9501 - val_loss: 0.1439 - val_acc: 0.9462\n",
      "Epoch 66/100\n",
      "90000/90000 [==============================] - 6s 67us/step - loss: 0.1211 - acc: 0.9490 - val_loss: 0.1435 - val_acc: 0.9463\n",
      "Epoch 67/100\n",
      "90000/90000 [==============================] - 6s 71us/step - loss: 0.1207 - acc: 0.9501 - val_loss: 0.1446 - val_acc: 0.9466\n",
      "Epoch 68/100\n",
      "90000/90000 [==============================] - 8s 93us/step - loss: 0.1212 - acc: 0.9496 - val_loss: 0.1425 - val_acc: 0.9454\n",
      "Epoch 69/100\n",
      "90000/90000 [==============================] - 8s 91us/step - loss: 0.1208 - acc: 0.9492 - val_loss: 0.1462 - val_acc: 0.9455\n",
      "Epoch 70/100\n",
      "90000/90000 [==============================] - 6s 65us/step - loss: 0.1204 - acc: 0.9493 - val_loss: 0.1426 - val_acc: 0.9451\n",
      "Epoch 71/100\n",
      "90000/90000 [==============================] - 6s 66us/step - loss: 0.1212 - acc: 0.9494 - val_loss: 0.1442 - val_acc: 0.9455\n",
      "Epoch 72/100\n",
      "90000/90000 [==============================] - 7s 74us/step - loss: 0.1205 - acc: 0.9493 - val_loss: 0.1449 - val_acc: 0.9463\n",
      "Epoch 73/100\n",
      "90000/90000 [==============================] - 7s 72us/step - loss: 0.1201 - acc: 0.9498 - val_loss: 0.1454 - val_acc: 0.9454\n",
      "Epoch 74/100\n",
      "90000/90000 [==============================] - 6s 67us/step - loss: 0.1202 - acc: 0.9500 - val_loss: 0.1457 - val_acc: 0.9462\n",
      "Epoch 75/100\n",
      "90000/90000 [==============================] - 6s 70us/step - loss: 0.1199 - acc: 0.9501 - val_loss: 0.1423 - val_acc: 0.9460\n",
      "Epoch 76/100\n",
      "90000/90000 [==============================] - 7s 78us/step - loss: 0.1206 - acc: 0.9496 - val_loss: 0.1459 - val_acc: 0.9461\n",
      "Epoch 77/100\n",
      "90000/90000 [==============================] - 8s 85us/step - loss: 0.1206 - acc: 0.9498 - val_loss: 0.1463 - val_acc: 0.9459\n",
      "Epoch 78/100\n",
      "90000/90000 [==============================] - 8s 89us/step - loss: 0.1207 - acc: 0.9495 - val_loss: 0.1457 - val_acc: 0.9462\n",
      "Epoch 79/100\n",
      "90000/90000 [==============================] - 7s 83us/step - loss: 0.1210 - acc: 0.9493 - val_loss: 0.1419 - val_acc: 0.9453\n",
      "Epoch 80/100\n",
      "90000/90000 [==============================] - 7s 80us/step - loss: 0.1206 - acc: 0.9487 - val_loss: 0.1422 - val_acc: 0.9458\n",
      "Epoch 81/100\n",
      "90000/90000 [==============================] - 8s 91us/step - loss: 0.1205 - acc: 0.9497 - val_loss: 0.1430 - val_acc: 0.9459\n",
      "Epoch 82/100\n",
      "90000/90000 [==============================] - 7s 75us/step - loss: 0.1203 - acc: 0.9502 - val_loss: 0.1465 - val_acc: 0.9466\n",
      "Epoch 83/100\n",
      "90000/90000 [==============================] - 7s 83us/step - loss: 0.1205 - acc: 0.9492 - val_loss: 0.1459 - val_acc: 0.9467\n",
      "Epoch 84/100\n",
      "90000/90000 [==============================] - 7s 73us/step - loss: 0.1196 - acc: 0.9495 - val_loss: 0.1433 - val_acc: 0.9459\n",
      "Epoch 85/100\n",
      "90000/90000 [==============================] - 7s 78us/step - loss: 0.1202 - acc: 0.9495 - val_loss: 0.1459 - val_acc: 0.9467\n",
      "Epoch 86/100\n",
      "90000/90000 [==============================] - 7s 74us/step - loss: 0.1200 - acc: 0.9498 - val_loss: 0.1462 - val_acc: 0.9463\n",
      "Epoch 87/100\n",
      "90000/90000 [==============================] - 7s 78us/step - loss: 0.1198 - acc: 0.9496 - val_loss: 0.1453 - val_acc: 0.9459\n",
      "Epoch 88/100\n",
      "90000/90000 [==============================] - 7s 74us/step - loss: 0.1196 - acc: 0.9498 - val_loss: 0.1482 - val_acc: 0.9458\n",
      "Epoch 89/100\n",
      "90000/90000 [==============================] - 6s 66us/step - loss: 0.1203 - acc: 0.9498 - val_loss: 0.1447 - val_acc: 0.9465\n",
      "Epoch 90/100\n",
      "90000/90000 [==============================] - 6s 66us/step - loss: 0.1203 - acc: 0.9502 - val_loss: 0.1453 - val_acc: 0.9466\n",
      "Epoch 91/100\n",
      "90000/90000 [==============================] - 7s 75us/step - loss: 0.1193 - acc: 0.9506 - val_loss: 0.1476 - val_acc: 0.9467\n",
      "Epoch 92/100\n",
      "90000/90000 [==============================] - 7s 79us/step - loss: 0.1201 - acc: 0.9492 - val_loss: 0.1464 - val_acc: 0.9464\n",
      "Epoch 93/100\n",
      "90000/90000 [==============================] - 9s 95us/step - loss: 0.1199 - acc: 0.9491 - val_loss: 0.1458 - val_acc: 0.9462\n",
      "Epoch 94/100\n",
      "90000/90000 [==============================] - 8s 84us/step - loss: 0.1209 - acc: 0.9496 - val_loss: 0.1431 - val_acc: 0.9470\n",
      "Epoch 95/100\n",
      "90000/90000 [==============================] - 6s 66us/step - loss: 0.1201 - acc: 0.9493 - val_loss: 0.1412 - val_acc: 0.9461\n",
      "Epoch 96/100\n",
      "90000/90000 [==============================] - 6s 66us/step - loss: 0.1198 - acc: 0.9506 - val_loss: 0.1446 - val_acc: 0.9455\n",
      "Epoch 97/100\n",
      "90000/90000 [==============================] - 6s 67us/step - loss: 0.1200 - acc: 0.9501 - val_loss: 0.1447 - val_acc: 0.9452\n",
      "Epoch 98/100\n",
      "90000/90000 [==============================] - 6s 71us/step - loss: 0.1204 - acc: 0.9497 - val_loss: 0.1440 - val_acc: 0.9449\n",
      "Epoch 99/100\n",
      "90000/90000 [==============================] - 7s 75us/step - loss: 0.1200 - acc: 0.9502 - val_loss: 0.1481 - val_acc: 0.9466\n",
      "Epoch 100/100\n",
      "90000/90000 [==============================] - 7s 76us/step - loss: 0.1193 - acc: 0.9506 - val_loss: 0.1458 - val_acc: 0.9460\n"
     ]
    }
   ],
   "source": [
    "# fit the model\n",
    "print(labelvec[:5])\n",
    "history = model.fit(padded_docs, labelvec, batch_size=500, validation_split=0.1, epochs=100, verbose=1)\n",
    "#, callbacks=[ThresholdEarlyStopping(verbose=1, min_epochs=50)])"
   ]
  },
  {
   "cell_type": "markdown",
   "metadata": {},
   "source": [
    "check for overfitting by comparing the validation loss with training loss:"
   ]
  },
  {
   "cell_type": "code",
   "execution_count": 72,
   "metadata": {},
   "outputs": [
    {
     "data": {
      "image/png": "[encoded data removed]",
      "text/plain": [
       "<Figure size 432x288 with 1 Axes>"
      ]
     },
     "metadata": {},
     "output_type": "display_data"
    }
   ],
   "source": [
    "plt.plot(history.history['loss'])\n",
    "plt.plot(history.history['val_loss'])\n",
    "plt.ylabel('loss')\n",
    "plt.xlabel('epoch')\n",
    "plt.legend(['training loss', 'validation loss'], loc='best')\n",
    "plt.show()"
   ]
  },
  {
   "cell_type": "code",
   "execution_count": 68,
   "metadata": {},
   "outputs": [
    {
     "data": {
      "image/png": "[encoded data removed]",
      "text/plain": [
       "<Figure size 432x288 with 1 Axes>"
      ]
     },
     "metadata": {},
     "output_type": "display_data"
    }
   ],
   "source": [
    "plt.plot(history.history['loss'])\n",
    "plt.plot(history.history['val_loss'])\n",
    "plt.ylabel('loss')\n",
    "plt.xlabel('epoch')\n",
    "plt.legend(['training loss', 'validation loss'], loc='best')\n",
    "plt.show()"
   ]
  },
  {
   "cell_type": "markdown",
   "metadata": {},
   "source": [
    "The model is clearly overfitting the training data. (Need to resolve soon)"
   ]
  },
  {
   "cell_type": "markdown",
   "metadata": {},
   "source": [
    "evaluating the LSTM with testing data:"
   ]
  },
  {
   "cell_type": "code",
   "execution_count": 69,
   "metadata": {},
   "outputs": [
    {
     "name": "stdout",
     "output_type": "stream",
     "text": [
      "Accuracy: 94.365000 %\n"
     ]
    }
   ],
   "source": [
    "# evaluate the model\n",
    "loss, accuracy = model.evaluate(padded_docs_test, labelvec_test, verbose=0)\n",
    "print('Accuracy: %f %%' % (accuracy*100))"
   ]
  },
  {
   "cell_type": "markdown",
   "metadata": {},
   "source": [
    "Conclusion:\n",
    "   \n",
    "   The LSTM classifier using phonetic syllables as input features is able to give an accuracy of ~96 %. However, the model seems to be overfitting the training set."
   ]
  },
  {
   "cell_type": "markdown",
   "metadata": {},
   "source": [
    "Next steps:\n",
    " - Deal with overfitting, by playing with the number of nodes, dropout etc.\n",
    " - perform k-fold cross-validation to better estimate classifier performance\n",
    " - Draw a ROC of the discriminator output\n",
    "     - to optimize the cut (aka decision boundary) to discriminate Korean and Bangla, instead of 0.5 (default while calculating accuracy)\n",
    "     - get the area under the curve (AUROC) to assess the quality of the discriminator\n",
    " - Improve cleaning to get rid of non-lexical vocables in the corpus to train a better discriminator\n",
    " - Think of a better way to reduce even further English words that are contaminating the corpuses\n",
    " - add other non-roman langauges\n"
   ]
  }
 ],
 "metadata": {
  "kernelspec": {
   "display_name": "Python 3",
   "language": "python",
   "name": "python3"
  },
  "language_info": {
   "codemirror_mode": {
    "name": "ipython",
    "version": 3
   },
   "file_extension": ".py",
   "mimetype": "text/x-python",
   "name": "python",
   "nbconvert_exporter": "python",
   "pygments_lexer": "ipython3",
   "version": "3.6.8"
  }
 },
 "nbformat": 4,
 "nbformat_minor": 2
}
