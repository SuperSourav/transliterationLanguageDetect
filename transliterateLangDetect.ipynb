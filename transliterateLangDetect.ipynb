{
 "cells": [
  {
   "cell_type": "markdown",
   "metadata": {},
   "source": [
    "# Language detection of transliterated text"
   ]
  },
  {
   "cell_type": "markdown",
   "metadata": {},
   "source": [
    "### The problem\n",
    "Below is a text transliterated in English:"
   ]
  },
  {
   "cell_type": "markdown",
   "metadata": {},
   "source": [
    "| \"aaj ka mausam achchha hai\" | \"The weather is good today\" |\n",
    "| --- | --- |\n",
    "| (transliterated text) | (translated text) |"
   ]
  },
  {
   "cell_type": "markdown",
   "metadata": {},
   "source": [
    "One might be curious about what language is this transliterated text actually in (unless one knows that language already). Happens to me quite often, when I'm reading Youtube or Facebook or other social media threads.\n",
    "\n",
    "Well, the above text is in Hindi:"
   ]
  },
  {
   "cell_type": "markdown",
   "metadata": {},
   "source": [
    "| \"aaj ka mausam achchha hai\" | \"आज का मौसम अच्छा है\" |\n",
    "| --- | --- |\n",
    "| (transliterated text) | (original script) |"
   ]
  },
  {
   "cell_type": "markdown",
   "metadata": {},
   "source": [
    "Since computer and phone keyboards are generally in English, it is often convenient for non-roman language speakers to transliterate their texts to English while typing than to use the original script (writing system) of their language. Since the transliterated text does not have the information about its original language, it becomes hard for others (who do not speak that language) to even decipher the language and further understand the meaning of the text.\n",
    "\n",
    "It would be convenient if machines could fill this gap by telling us the language of those transliterated texts, which we very often encounter in social media threads etc., so that we don't have to ask other people if they can identify the language of a transliterated text."
   ]
  },
  {
   "cell_type": "markdown",
   "metadata": {},
   "source": [
    "### Scope of the project\n",
    "\n",
    "In this project, I therefore attempt to address this problem by designing an NLP model which can detect the language of a transliterated text. Due to lack of time at the moment, I confine the scope of this project to just classify texts transliterated from Korean and Bangla (Bengali) languages. \n",
    "\n",
    "Although not important, but the reason for choosing these two non-roman languages in particular for the project is because:  \n",
    "* Bangla is my mother tongue so it would be fun to teach the machine my language. Bangla (or Bengali) is spoken mostly in the state of West Bengal in India and in Bangladesh. \n",
    "* Korean pop songs are popular lately, so considering their international reach, I thought, Korean transliteration might be relevant to people.\n",
    "* I shall be including other non-roman languages in the future."
   ]
  },
  {
   "cell_type": "markdown",
   "metadata": {},
   "source": [
    "### Solution approach\n",
    "\n",
    "We can often identify a language being spoken, if we have prior experience of hearing that language, even if we may not understand the language at all. Every language has some characteristic sounds patterns. These patterns can be used to identify a language even without understanding them. So, like speech, if we know the correct pronounciation of transliterated texts (ie pronounciation in their original langauge), we might be able to identify the language, given we have some prior familiarity with how the language generally sounds.\n",
    "\n",
    "Automatic Speech Recognition (ASR) systems are pretty decent in identifying language from speech audio inputs. ASRs use spectrograms (shown below) to learn features of a speech input such as its language."
   ]
  },
  {
   "cell_type": "markdown",
   "metadata": {},
   "source": [
    "<img src=\"https://www.researchgate.net/profile/Phillip_Lobel/publication/267827408/figure/fig2/AS:295457826852866@1447454043380/Spectrograms-and-Oscillograms-This-is-an-oscillogram-and-spectrogram-of-the-boatwhistle.png\"  width=\"400\">\n",
    "\n",
    "[Image source: Kovitvongsa, Kathryn & Lobel, Phillip. (2019). Convenient Fish Acoustic Data Collection in the Digital Age.]"
   ]
  },
  {
   "cell_type": "markdown",
   "metadata": {},
   "source": [
    "In spectrograms, audio files are chopped into thin time slices (in the abscissa), and for each time slice, all the frequencies present in it are plotted (in the ordinate) with their corresponding intensities are represented in the heat map, obtained using Fourier transform. The frequencies tell us about the nature of the source that produced that sound, e.g., you can identify musical instruments by the pattern of their overtones (multiples of fundamental frequency).\n",
    "\n",
    "So, in spectrograms of human speech audio files, the frequencies in a particular time slice should indicate the part of buccal cavity that produced it. It would be ideal if one knew the time span of each characteristic sound that create the words in a language. However, since that is not known, in spectrograms, the time is sliced into very small intervals, so that the NLP model can join a few of those small time slices and learn the actual length of a particular characteristic sound.\n",
    "\n",
    "If we could split our transliterated words into fragments which represent the characteristic sounds, a string of those word fragments would be analogous to spectrograms for audio speech. We can then use those word fragment strings as inputs to an NLP model to identify the language of the transliterated text.\n",
    "\n",
    "Fortunately, when a text is transliterated from one langauge to other, it is generally spelled out phonetically (even if the original language is not strictly phonetic). So, if we were to phonetically pronounce the transliterated words, we might be quite closer to its actual pronounciation.\n",
    "\n",
    "To get the phonetic pronounciation, we assumed that the texts were transliterated from some unknown language to Italian, a strictly phonetic language which also uses the Latin script as English. We then divide the transliterated words into syllables according to the  Italian language, ie phonetically. We used those (phonetic) syllables as inputs to our NLP model."
   ]
  },
  {
   "cell_type": "markdown",
   "metadata": {},
   "source": [
    "# Data scraping\n",
    "\n",
    "Song lyrics website often transliterate songs in English (perhaps for international audiences). So, for Korean and Bangla (Bengali) sentences transliterated in English, the song lyrics on the following lyrics websites were scraped:\n",
    " - bangla lyrics: http://www.lyricsbangla.com/\n",
    " - korean lyrics: https://romanization.wordpress.com/"
   ]
  },
  {
   "cell_type": "code",
   "execution_count": 1,
   "metadata": {},
   "outputs": [],
   "source": [
    "from urllib.request import urlopen\n",
    "from bs4 import BeautifulSoup\n",
    "import re"
   ]
  },
  {
   "cell_type": "markdown",
   "metadata": {},
   "source": [
    "Since the objects in Bengali (referred as Bangla henceforth) and Korean texts might be different created two separate functions to fetch respective text. The different functions are just for cleanliness purpose."
   ]
  },
  {
   "cell_type": "markdown",
   "metadata": {},
   "source": [
    "### Functions for scraping Korean transliterated texts"
   ]
  },
  {
   "cell_type": "code",
   "execution_count": 3,
   "metadata": {},
   "outputs": [],
   "source": [
    "def fetch_korean(fname):\n",
    "    #some browsing revealed there are 1087 pages (@29th July, 2019) indexed 0 through 1086 with links to lyrics\n",
    "    #extracting the song links from each of these pages\n",
    "    npages = 1087\n",
    "    lyricsbag = open(fname, 'w')\n",
    "    count = 0\n",
    "    for pg in range(npages):\n",
    "        soup = BeautifulSoup(urlopen(\"https://romanization.wordpress.com/page/%i\"%pg), 'html.parser')\n",
    "        links = soup.find_all('a')\n",
    "        pageurls = [_.get('href') for _ in links if (_.text == 'Continue reading →')]\n",
    "        for url in pageurls:\n",
    "            b = koreanLyrics(url)\n",
    "            [lyricsbag.write(_+\"\\n\") for _ in b]\n",
    "            count += 1\n",
    "            print(count)\n",
    "    \n",
    "    return\n"
   ]
  },
  {
   "cell_type": "code",
   "execution_count": 4,
   "metadata": {},
   "outputs": [],
   "source": [
    "def koreanLyrics(url):\n",
    "    s = BeautifulSoup(urlopen(url), 'html.parser')\n",
    "    lblob = [_.text for _ in s.find_all('p')]\n",
    "    lyrics = []\n",
    "    pendown = False\n",
    "    for _ in lblob:\n",
    "        if pendown:\n",
    "            if (_ == \"//\"):\n",
    "                pendown = False\n",
    "                break\n",
    "            else:\n",
    "                lyrics += _.split(\"\\n\")\n",
    "        else:\n",
    "            if \"to see the lyrics\" in _:\n",
    "                pendown = True\n",
    "    return lyrics"
   ]
  },
  {
   "cell_type": "markdown",
   "metadata": {},
   "source": [
    "### Functions for scraping Bangla transliterated texts"
   ]
  },
  {
   "cell_type": "code",
   "execution_count": 5,
   "metadata": {},
   "outputs": [],
   "source": [
    "def fetch_bangla(fname):\n",
    "    #url = \"http://www.lyricsbangla.com/?sec=listing&lyricid=4140\"\n",
    "    url = \"file:///home/sourav/MLProjects/transliterate/Lyrics%20Search%20»%20LyricsBangla.com.html\" \n",
    "    #TODO replace the static page with dynamic link smh\n",
    "    #\"http://www.lyricsbangla.com/index.php?sec=search\"\n",
    "    html = urlopen(url)\n",
    "\n",
    "    soup = BeautifulSoup(html, 'html.parser')\n",
    "    b = soup.find('table')\n",
    "    urltable = b.find_all('td')\n",
    "    \n",
    "    #extracting songs from links in www.lyricsbangla.com index page\n",
    "    lyricsurllist = []\n",
    "    lyricsbag = open(fname, 'w')\n",
    "    count = 0\n",
    "    for u in urltable:\n",
    "        if (u.find('a') != None):\n",
    "            songlink = u.a.get('href')\n",
    "            if (\"artist\" not in songlink):\n",
    "                b = banglaLyrics(songlink)\n",
    "                [lyricsbag.write(_+\"\\n\") for _ in b]\n",
    "                count += 1\n",
    "                print(count)\n",
    "        \n",
    "    return\n",
    "    "
   ]
  },
  {
   "cell_type": "markdown",
   "metadata": {},
   "source": [
    "Bangla lyrics often have chords, so here is a list of chords to clean the text scraped from: https://www.pianochord.org/ and saved in \"chords.txt\""
   ]
  },
  {
   "cell_type": "code",
   "execution_count": 6,
   "metadata": {},
   "outputs": [],
   "source": [
    "##(source: https://www.pianochord.org/)\n",
    "def get_musicalchords():\n",
    "    chords_ = []\n",
    "    f = open(\"chords.txt\", 'r')\n",
    "    lines = f.readlines()\n",
    "    for l in lines:\n",
    "        chords_ += l.strip().split()\n",
    "\n",
    "    return chords_"
   ]
  },
  {
   "cell_type": "code",
   "execution_count": 7,
   "metadata": {},
   "outputs": [],
   "source": [
    "def banglaLyrics(url):\n",
    "    spchar = re.compile('[@_!#$%^&*()<>?/\\|}{~:]')\n",
    "\n",
    "\n",
    "    s = BeautifulSoup(urlopen(url), 'html.parser')\n",
    "    lblob = s.find('p', id='tabs-1')\n",
    "    lyrics = []\n",
    "    chord_ = get_musicalchords()\n",
    "    for line in lblob:\n",
    "        if (line.string != None):\n",
    "            l = str(line)\n",
    "            if any(chord in l for chord in chords_):\n",
    "                continue\n",
    "            elif (spchar.search(l)!=None):\n",
    "                continue\n",
    "            else:\n",
    "                l = l.strip()\n",
    "                if (l): lyrics.append(l)\n",
    "    return lyrics"
   ]
  },
  {
   "cell_type": "markdown",
   "metadata": {},
   "source": [
    "The following cell scrapes Bangla and Korean lyrics respectively using the functions defined above."
   ]
  },
  {
   "cell_type": "code",
   "execution_count": 145,
   "metadata": {},
   "outputs": [],
   "source": [
    "banglacorpus = \"banglacorpus.txt\"\n",
    "fetch_bangla(banglacorpus)\n",
    "\n",
    "\n",
    "koreancorpus = \"koreancorpus.txt\"\n",
    "fetch_korean(koreancorpus)\n"
   ]
  },
  {
   "cell_type": "markdown",
   "metadata": {},
   "source": [
    "# Data Cleaning\n",
    "\n",
    "\"cleanedkoreancorpus.txt\" and \"cleanedbanglacorpus.txt\" are the cleaned corpuses for Korean and Bangla transliterated text used for the analysis\n",
    "\n",
    "<div style=\"text-align: right\"> \"Cleaning is messy!!\" ~Anonymous </div>"
   ]
  },
  {
   "cell_type": "markdown",
   "metadata": {},
   "source": [
    "# Data Visualization for encoding"
   ]
  },
  {
   "cell_type": "code",
   "execution_count": 166,
   "metadata": {},
   "outputs": [],
   "source": [
    "import numpy as np\n",
    "import matplotlib.pyplot as plt\n",
    "%matplotlib inline\n",
    "import random\n",
    "import pyphen"
   ]
  },
  {
   "cell_type": "markdown",
   "metadata": {},
   "source": [
    "While transliteration, words are spelled phonetically. So, if one spells the transliterated word phonetically, one might actually get quite close to the actual pronounciation in its native language.\n",
    "If the transliterated words are, therefore, split into phonetic syllables, a list of those phonetic syllables could represent the pronounciation of that word and thus information about its native language. These phonetic syllables are quite analogous to phoneme sequences used in ASR (Automatic Speech Recognition).\n",
    "\n",
    "Since English is not a phonetic language, its syllables are not phonetic. However, with we try to split the word using a phonetic language, like Italian, then the syllables would indeed be phonetic.\n",
    "\n",
    "I use a python package - 'pyphen' (https://pyphen.org) for such syllable splitting. This package provides an option to choose the language in which the user wants to split the word. As discussed above, I used Italian, a phonetic language, to split the word into syllables, so that I get phonetic syllables."
   ]
  },
  {
   "cell_type": "markdown",
   "metadata": {},
   "source": [
    "The function below splits the words phonetically (as in italian) into list of syllables using Pyphen:"
   ]
  },
  {
   "cell_type": "code",
   "execution_count": 169,
   "metadata": {},
   "outputs": [],
   "source": [
    "def PhoneticWordSplit(word):\n",
    "    dic = pyphen.Pyphen(lang='it_IT')\n",
    "    splitword = dic.inserted(word)\n",
    "    splitword = splitword.replace(\"-\", \" \")\n",
    "    return splitword"
   ]
  },
  {
   "cell_type": "markdown",
   "metadata": {},
   "source": [
    "The words split into phonetic syllables are stored in koreanwordbag.txt and banglawordbag.txt for Korean and Bangla resp. and used to train and test the langauge detection model."
   ]
  },
  {
   "cell_type": "code",
   "execution_count": 170,
   "metadata": {},
   "outputs": [],
   "source": [
    "def WordBagMaker(corpusfilename, label):\n",
    "    f = open(corpusfilename, 'r')\n",
    "    lines = f.readlines()\n",
    "\n",
    "    import random\n",
    "    worddict = []\n",
    "    for l in lines:\n",
    "        words = l.split()\n",
    "        #only words present in sentences used, not single word sentences\n",
    "        if (len(words) < 2): continue \n",
    "        for w in words:\n",
    "            #words with digits not used and single letter words not used\n",
    "            if (len(w) > 1) and w.isalpha(): \n",
    "                worddict.append(PhoneticWordSplit(w) + \" : \" + label)\n",
    "    #shuffle the list\n",
    "    random.shuffle(worddict)   \n",
    "    return worddict\n",
    "\n",
    "for lang in ['korean', 'bangla']:\n",
    "    fl = open(\"%swordbag.txt\"%lang, 'w')\n",
    "    [fl.write(_+\"\\n\") for _ in WordBagMaker(\"cleaned%scorpus.txt\"%lang, \"K\" if lang=='korean' else \"B\" )]\n",
    "    fl.close()"
   ]
  },
  {
   "cell_type": "code",
   "execution_count": 100,
   "metadata": {},
   "outputs": [],
   "source": [
    "datakor = open(\"koreanwordbag.txt\", 'r').readlines()\n",
    "databan = open(\"banglawordbag.txt\", 'r').readlines()"
   ]
  },
  {
   "cell_type": "markdown",
   "metadata": {},
   "source": [
    "A quick feature visualization to see if simple features, like syllable count per word,have any discriminating power."
   ]
  },
  {
   "cell_type": "code",
   "execution_count": 102,
   "metadata": {},
   "outputs": [],
   "source": [
    "def getfeatures(langcorpus):\n",
    "    syllables_per_word = []\n",
    "    letters_per_syllable = []\n",
    "    for d in langcorpus:\n",
    "        splitword = d.split(\" : \")[0].split(\" \")\n",
    "        syllables_per_word.append(len(splitword))\n",
    "        [letters_per_syllable.append(len(_)) for _ in splitword]\n",
    "    return syllables_per_word, letters_per_syllable\n",
    "\n",
    "syllables_per_wordKOR, letters_per_syllableKOR = getfeatures(datakor)\n",
    "\n",
    "syllables_per_wordBAN, letters_per_syllableBAN = getfeatures(databan)\n",
    "\n",
    "syllables_per_word = np.concatenate((syllables_per_wordKOR,syllables_per_wordBAN), axis=0)\n",
    "letters_per_syllable = np.concatenate((letters_per_syllableKOR, letters_per_syllableBAN), axis=0)"
   ]
  },
  {
   "cell_type": "code",
   "execution_count": 103,
   "metadata": {},
   "outputs": [
    {
     "data": {
      "image/png": "[encoded data removed]",
      "text/plain": [
       "<Figure size 432x288 with 1 Axes>"
      ]
     },
     "metadata": {
      "needs_background": "light"
     },
     "output_type": "display_data"
    }
   ],
   "source": [
    "binsSPW = [_ - 0.5 for _ in range(1,11)]\n",
    "plt.xticks(range(1,11))\n",
    "plt.hist(syllables_per_word, binsSPW, alpha=0.3, label='both languages')\n",
    "plt.hist(syllables_per_wordKOR, binsSPW, alpha=0.3, label='Korean') \n",
    "plt.hist(syllables_per_wordBAN, binsSPW, alpha=0.3, label='Bangla')\n",
    "\n",
    "plt.xlabel('#syllables/word')\n",
    "plt.ylabel('frequency')\n",
    "plt.legend(loc='best')\n",
    "plt.show()"
   ]
  },
  {
   "cell_type": "markdown",
   "metadata": {},
   "source": [
    "Bangla words mostly have 2 syllables, Korean words can have upto 5 syllables in a word. A 10 syllable vector should be enough to encode a word from either language."
   ]
  },
  {
   "cell_type": "code",
   "execution_count": 104,
   "metadata": {},
   "outputs": [
    {
     "data": {
      "image/png": "[encoded data removed]",
      "text/plain": [
       "<Figure size 432x288 with 1 Axes>"
      ]
     },
     "metadata": {
      "needs_background": "light"
     },
     "output_type": "display_data"
    }
   ],
   "source": [
    "binsLPS = [_ - 0.5 for _ in range(1,11)]\n",
    "plt.xticks(range(1,11))\n",
    "plt.hist(letters_per_syllable, binsLPS, alpha=0.3, label='both languages')\n",
    "plt.hist(letters_per_syllableKOR, binsLPS, alpha=0.3, label='Korean') \n",
    "plt.hist(letters_per_syllableBAN, binsLPS, alpha=0.3, label='Bangla')\n",
    "\n",
    "plt.xlabel('#letters/syllables')\n",
    "plt.ylabel('frequency')\n",
    "plt.legend(loc='best')\n",
    "plt.show()"
   ]
  },
  {
   "cell_type": "markdown",
   "metadata": {},
   "source": [
    "Most phonetic syllables have around 2 letters. Not a significant disciminator. Would therefore be fair to disregard the syllable length and just integer encode the syllables in both the corpuses."
   ]
  },
  {
   "cell_type": "markdown",
   "metadata": {},
   "source": [
    "# Training data"
   ]
  },
  {
   "cell_type": "markdown",
   "metadata": {},
   "source": [
    "Using 50,000 (10,000) Bangla and Korean words each randomly from the corpuses for training (testing)."
   ]
  },
  {
   "cell_type": "code",
   "execution_count": 107,
   "metadata": {},
   "outputs": [],
   "source": [
    "Ntrain = 50000\n",
    "Ntest  = 10000\n",
    "random.shuffle(datakor) #korean\n",
    "random.shuffle(databan) #bangla\n",
    "TrainingVal_data = datakor[:Ntrain] + databan[:Ntrain] \n",
    "Testing_data = datakor[Ntrain:Ntrain+Ntest] + databan[Ntrain:Ntrain+Ntest]\n",
    "random.shuffle(TrainingVal_data)\n",
    "random.shuffle(Testing_data)"
   ]
  },
  {
   "cell_type": "markdown",
   "metadata": {},
   "source": [
    "# Word and label encoding"
   ]
  },
  {
   "cell_type": "code",
   "execution_count": 79,
   "metadata": {},
   "outputs": [],
   "source": [
    "from keras.preprocessing.text import hashing_trick\n",
    "from keras.preprocessing.sequence import pad_sequences"
   ]
  },
  {
   "cell_type": "code",
   "execution_count": 43,
   "metadata": {},
   "outputs": [
    {
     "name": "stdout",
     "output_type": "stream",
     "text": [
      "[[26, 26, 3]]\n",
      "[[26, 26, 26], [15, 3], [26, 15]]\n"
     ]
    }
   ],
   "source": [
    "vocab_size = 30\n",
    "v = ['in in in', 'kab bo', 'so kal']\n",
    "encoded_docs = [hashing_trick(d, vocab_size, hash_function='md5') for d in v]\n",
    "encoded_docs\n",
    "v1 = ['in in bo']\n",
    "encoded_docs1 = [hashing_trick(d, vocab_size, hash_function='md5') for d in v1]\n",
    "print(encoded_docs1)\n",
    "print(encoded_docs)"
   ]
  },
  {
   "cell_type": "code",
   "execution_count": 80,
   "metadata": {},
   "outputs": [],
   "source": [
    "from keras.models import Sequential\n",
    "from keras.layers import Dense, Embedding, LSTM\n",
    "from keras.regularizers import l2"
   ]
  },
  {
   "cell_type": "code",
   "execution_count": 155,
   "metadata": {},
   "outputs": [],
   "source": [
    "def datalabel(dataset):\n",
    "    '''function to label words 'K' or 'B' for Korean and Bangla resp. '''\n",
    "    wvec = []\n",
    "    lvec = [] \n",
    "    for td in dataset:\n",
    "        tw, tl = td.split(\" : \")\n",
    "        #One hot encoding: [1,0] : Bangla, [0,1] : Korean\n",
    "        l = [1, 0] if tl.strip() == \"B\" else [0,1] \n",
    "        wvec.append(tw)\n",
    "        lvec.append(l)\n",
    "    return wvec, np.array(lvec)"
   ]
  },
  {
   "cell_type": "markdown",
   "metadata": {},
   "source": [
    "Pipeline to integer encode phonetic syllables and pad words to a max of 10 syllables:"
   ]
  },
  {
   "cell_type": "code",
   "execution_count": 159,
   "metadata": {},
   "outputs": [],
   "source": [
    "def IntEncodeWords(wordlist):\n",
    "    vocab_size = 200000\n",
    "    max_length = 10\n",
    "    #integer encoding the syllables\n",
    "    encoded_words = [hashing_trick(d, vocab_size, hash_function='md5') for d in wordlist]\n",
    "    #padding to a max length of 10\n",
    "    padded_words = pad_sequences(encoded_words, maxlen=max_length, padding='post')\n",
    "    return padded_words"
   ]
  },
  {
   "cell_type": "markdown",
   "metadata": {},
   "source": [
    "Processing the training and testing data with the above pipeline"
   ]
  },
  {
   "cell_type": "code",
   "execution_count": 158,
   "metadata": {},
   "outputs": [
    {
     "name": "stdout",
     "output_type": "stream",
     "text": [
      "['nal', 'mi chyeo ga na b wa', 'ai']\n",
      "[[0 1]\n",
      " [0 1]\n",
      " [0 1]]\n",
      "['jeil', 'sa ran ghaeoh', 'sa ran ghae', 'aka sh', 'dal la jyeos seo']\n",
      "[[55208], [67026, 161580, 152147], [67026, 161580, 25207], [48363, 63007], [9265, 18646, 109198, 141814]]\n"
     ]
    }
   ],
   "source": [
    "#training data\n",
    "wordvec, labelvec = datalabel(TrainingVal_data)\n",
    "print(wordvec[:3])\n",
    "print(labelvec[:3])\n",
    "padded_docs = IntEncodeWords(wordvec)\n",
    "\n",
    "#testing data\n",
    "wordvec_test, labelvec_test = datalabel(Testing_data)\n",
    "padded_docs_test = IntEncodeWords(wordvec_test)\n",
    "print(wordvec_test[:5])\n",
    "print(encoded_docs_test[:5])"
   ]
  },
  {
   "cell_type": "markdown",
   "metadata": {},
   "source": [
    "I train an LSTM to classify Korean and Bangla words, defined below:"
   ]
  },
  {
   "cell_type": "code",
   "execution_count": 111,
   "metadata": {},
   "outputs": [
    {
     "name": "stdout",
     "output_type": "stream",
     "text": [
      "Model: \"sequential_5\"\n",
      "_________________________________________________________________\n",
      "Layer (type)                 Output Shape              Param #   \n",
      "=================================================================\n",
      "embedding_5 (Embedding)      (None, 10, 8)             1600000   \n",
      "_________________________________________________________________\n",
      "lstm_5 (LSTM)                (None, 5)                 280       \n",
      "_________________________________________________________________\n",
      "dense_5 (Dense)              (None, 2)                 12        \n",
      "=================================================================\n",
      "Total params: 1,600,292\n",
      "Trainable params: 1,600,292\n",
      "Non-trainable params: 0\n",
      "_________________________________________________________________\n",
      "None\n"
     ]
    }
   ],
   "source": [
    "lstm_out = 5\n",
    "# define the model\n",
    "model = Sequential()\n",
    "model.add(Embedding(vocab_size, 8, input_length=max_length))\n",
    "model.add(LSTM(lstm_out, recurrent_initializer=\"random_uniform\", bias_initializer=\"zeros\", dropout=0.2, recurrent_dropout=0.2, kernel_regularizer=l2(0.01), recurrent_regularizer=l2(0.01), bias_regularizer=l2(0.01)))\n",
    "model.add(Dense(2, activation='softmax'))\n",
    "\n",
    "# compile the model\n",
    "model.compile(optimizer='adam', loss='categorical_crossentropy', metrics=['accuracy'])\n",
    "# summarize the model\n",
    "print(model.summary())"
   ]
  },
  {
   "cell_type": "markdown",
   "metadata": {},
   "source": [
    "Early stopping the training if validation loss starts to converge (wait for 50 epochs to make sure validation loss is indeed converging). "
   ]
  },
  {
   "cell_type": "code",
   "execution_count": 112,
   "metadata": {},
   "outputs": [],
   "source": [
    "from keras.callbacks import EarlyStopping\n",
    "class ThresholdEarlyStopping(EarlyStopping):\n",
    "    def __init__(self, monitor='val_loss', min_epochs=10,\n",
    "                 threshold=0.995, increase=1.75, verbose=0, mode='auto'):\n",
    "\n",
    "        super(ThresholdEarlyStopping, self).__init__(\n",
    "            monitor=monitor,\n",
    "            patience=min_epochs,\n",
    "            verbose=verbose,\n",
    "            mode=mode\n",
    "        )\n",
    "\n",
    "        self.threshold = threshold\n",
    "        self.increase = increase\n",
    "\n",
    "    def on_epoch_end(self, epoch, logs={}):\n",
    "        if epoch < self.patience:\n",
    "            current = logs.get(self.monitor)\n",
    "            if current is None:\n",
    "                warnings.warn('Early stopping requires %s to be available!'\n",
    "                              % (self.monitor), RuntimeWarning)\n",
    "\n",
    "            if self.monitor_op(current, self.best):\n",
    "                # if current val_loss within 0.5% margin of the best(min) val_loss, \n",
    "                # add some grace to the patience to monitor if val_loss is indeed converging \n",
    "                if self.monitor_op(current, self.threshold*self.best):\n",
    "                    self.patience = max(self.patience, epoch*self.increase)\n",
    "                self.best = current\n",
    "\n",
    "        else:\n",
    "            if self.verbose > 0:\n",
    "                print('Epoch %05d: early stopping' % (epoch))\n",
    "\n",
    "            self.model.stop_training = True"
   ]
  },
  {
   "cell_type": "code",
   "execution_count": 113,
   "metadata": {},
   "outputs": [
    {
     "name": "stdout",
     "output_type": "stream",
     "text": [
      "[[0 1]\n",
      " [0 1]\n",
      " [0 1]\n",
      " [1 0]\n",
      " [0 1]]\n",
      "Train on 90000 samples, validate on 10000 samples\n",
      "Epoch 1/500\n",
      "90000/90000 [==============================] - 3s 36us/step - loss: 0.8363 - acc: 0.5272 - val_loss: 0.8187 - val_acc: 0.5392\n",
      "Epoch 2/500\n",
      "90000/90000 [==============================] - 2s 20us/step - loss: 0.8040 - acc: 0.6119 - val_loss: 0.7891 - val_acc: 0.8677\n",
      "Epoch 3/500\n",
      "90000/90000 [==============================] - 2s 21us/step - loss: 0.7690 - acc: 0.7265 - val_loss: 0.7366 - val_acc: 0.7410\n",
      "Epoch 4/500\n",
      "90000/90000 [==============================] - 2s 21us/step - loss: 0.6231 - acc: 0.8391 - val_loss: 0.4600 - val_acc: 0.9033\n",
      "Epoch 5/500\n",
      "90000/90000 [==============================] - 2s 21us/step - loss: 0.4186 - acc: 0.9046 - val_loss: 0.3429 - val_acc: 0.9264\n",
      "Epoch 6/500\n",
      "90000/90000 [==============================] - 3s 30us/step - loss: 0.3586 - acc: 0.9267 - val_loss: 0.3144 - val_acc: 0.9287\n",
      "Epoch 7/500\n",
      "90000/90000 [==============================] - 2s 26us/step - loss: 0.3318 - acc: 0.9333 - val_loss: 0.2973 - val_acc: 0.9321\n",
      "Epoch 8/500\n",
      "90000/90000 [==============================] - 2s 22us/step - loss: 0.3141 - acc: 0.9364 - val_loss: 0.2852 - val_acc: 0.9333\n",
      "Epoch 9/500\n",
      "90000/90000 [==============================] - 2s 21us/step - loss: 0.3016 - acc: 0.9381 - val_loss: 0.2767 - val_acc: 0.9336\n",
      "Epoch 10/500\n",
      "90000/90000 [==============================] - 2s 23us/step - loss: 0.2936 - acc: 0.9392 - val_loss: 0.2698 - val_acc: 0.9354\n",
      "Epoch 11/500\n",
      "90000/90000 [==============================] - 2s 23us/step - loss: 0.2847 - acc: 0.9410 - val_loss: 0.2642 - val_acc: 0.9349\n",
      "Epoch 12/500\n",
      "90000/90000 [==============================] - 2s 24us/step - loss: 0.2782 - acc: 0.9411 - val_loss: 0.2615 - val_acc: 0.9343\n",
      "Epoch 13/500\n",
      "90000/90000 [==============================] - 2s 23us/step - loss: 0.2735 - acc: 0.9414 - val_loss: 0.2561 - val_acc: 0.9346\n",
      "Epoch 14/500\n",
      "90000/90000 [==============================] - 2s 21us/step - loss: 0.2698 - acc: 0.9422 - val_loss: 0.2525 - val_acc: 0.9332\n",
      "Epoch 15/500\n",
      "90000/90000 [==============================] - 2s 24us/step - loss: 0.2660 - acc: 0.9426 - val_loss: 0.2496 - val_acc: 0.9342\n",
      "Epoch 16/500\n",
      "90000/90000 [==============================] - 2s 21us/step - loss: 0.2626 - acc: 0.9429 - val_loss: 0.2473 - val_acc: 0.9353\n",
      "Epoch 17/500\n",
      "90000/90000 [==============================] - 2s 22us/step - loss: 0.2595 - acc: 0.9429 - val_loss: 0.2447 - val_acc: 0.9358\n",
      "Epoch 18/500\n",
      "90000/90000 [==============================] - 2s 22us/step - loss: 0.2582 - acc: 0.9428 - val_loss: 0.2424 - val_acc: 0.9346\n",
      "Epoch 19/500\n",
      "90000/90000 [==============================] - 2s 21us/step - loss: 0.2557 - acc: 0.9430 - val_loss: 0.2407 - val_acc: 0.9351\n",
      "Epoch 20/500\n",
      "90000/90000 [==============================] - 2s 21us/step - loss: 0.2530 - acc: 0.9425 - val_loss: 0.2394 - val_acc: 0.9334\n",
      "Epoch 21/500\n",
      "90000/90000 [==============================] - 3s 28us/step - loss: 0.2517 - acc: 0.9434 - val_loss: 0.2382 - val_acc: 0.9358\n",
      "Epoch 22/500\n",
      "90000/90000 [==============================] - 3s 28us/step - loss: 0.2502 - acc: 0.9431 - val_loss: 0.2367 - val_acc: 0.9351\n",
      "Epoch 23/500\n",
      "90000/90000 [==============================] - 2s 26us/step - loss: 0.2499 - acc: 0.9436 - val_loss: 0.2349 - val_acc: 0.9355\n",
      "Epoch 24/500\n",
      "90000/90000 [==============================] - 2s 22us/step - loss: 0.2478 - acc: 0.9431 - val_loss: 0.2341 - val_acc: 0.9385\n",
      "Epoch 25/500\n",
      "90000/90000 [==============================] - 2s 21us/step - loss: 0.2460 - acc: 0.9430 - val_loss: 0.2333 - val_acc: 0.9337\n",
      "Epoch 26/500\n",
      "90000/90000 [==============================] - 2s 21us/step - loss: 0.2449 - acc: 0.9435 - val_loss: 0.2325 - val_acc: 0.9352\n",
      "Epoch 27/500\n",
      "90000/90000 [==============================] - 2s 22us/step - loss: 0.2443 - acc: 0.9425 - val_loss: 0.2313 - val_acc: 0.9344\n",
      "Epoch 28/500\n",
      "90000/90000 [==============================] - 2s 21us/step - loss: 0.2436 - acc: 0.9431 - val_loss: 0.2309 - val_acc: 0.9348\n",
      "Epoch 29/500\n",
      "90000/90000 [==============================] - 2s 21us/step - loss: 0.2417 - acc: 0.9433 - val_loss: 0.2297 - val_acc: 0.9352\n",
      "Epoch 30/500\n",
      "90000/90000 [==============================] - 2s 21us/step - loss: 0.2424 - acc: 0.9431 - val_loss: 0.2292 - val_acc: 0.9344\n",
      "Epoch 31/500\n",
      "90000/90000 [==============================] - 2s 21us/step - loss: 0.2394 - acc: 0.9435 - val_loss: 0.2287 - val_acc: 0.9346\n",
      "Epoch 32/500\n",
      "90000/90000 [==============================] - 2s 23us/step - loss: 0.2396 - acc: 0.9434 - val_loss: 0.2281 - val_acc: 0.9329\n",
      "Epoch 33/500\n",
      "90000/90000 [==============================] - 2s 21us/step - loss: 0.2399 - acc: 0.9428 - val_loss: 0.2281 - val_acc: 0.9358\n",
      "Epoch 34/500\n",
      "90000/90000 [==============================] - 2s 21us/step - loss: 0.2386 - acc: 0.9431 - val_loss: 0.2272 - val_acc: 0.9334\n",
      "Epoch 35/500\n",
      "90000/90000 [==============================] - 2s 24us/step - loss: 0.2372 - acc: 0.9433 - val_loss: 0.2266 - val_acc: 0.9349\n",
      "Epoch 36/500\n",
      "90000/90000 [==============================] - 3s 29us/step - loss: 0.2360 - acc: 0.9433 - val_loss: 0.2264 - val_acc: 0.9333\n",
      "Epoch 37/500\n",
      "90000/90000 [==============================] - 2s 25us/step - loss: 0.2360 - acc: 0.9437 - val_loss: 0.2255 - val_acc: 0.9351\n",
      "Epoch 38/500\n",
      "90000/90000 [==============================] - 2s 24us/step - loss: 0.2367 - acc: 0.9433 - val_loss: 0.2251 - val_acc: 0.9325\n",
      "Epoch 39/500\n",
      "90000/90000 [==============================] - 2s 25us/step - loss: 0.2343 - acc: 0.9430 - val_loss: 0.2243 - val_acc: 0.9336\n",
      "Epoch 40/500\n",
      "90000/90000 [==============================] - 2s 23us/step - loss: 0.2336 - acc: 0.9432 - val_loss: 0.2241 - val_acc: 0.9340\n",
      "Epoch 41/500\n",
      "90000/90000 [==============================] - 2s 22us/step - loss: 0.2333 - acc: 0.9434 - val_loss: 0.2234 - val_acc: 0.9332\n",
      "Epoch 42/500\n",
      "90000/90000 [==============================] - 2s 22us/step - loss: 0.2328 - acc: 0.9433 - val_loss: 0.2234 - val_acc: 0.9344\n",
      "Epoch 43/500\n",
      "90000/90000 [==============================] - 2s 22us/step - loss: 0.2331 - acc: 0.9435 - val_loss: 0.2225 - val_acc: 0.9347\n",
      "Epoch 44/500\n",
      "90000/90000 [==============================] - 2s 24us/step - loss: 0.2324 - acc: 0.9434 - val_loss: 0.2221 - val_acc: 0.9338\n",
      "Epoch 45/500\n",
      "90000/90000 [==============================] - 2s 27us/step - loss: 0.2316 - acc: 0.9430 - val_loss: 0.2216 - val_acc: 0.9331\n",
      "Epoch 46/500\n",
      "90000/90000 [==============================] - 2s 22us/step - loss: 0.2302 - acc: 0.9427 - val_loss: 0.2211 - val_acc: 0.9341\n",
      "Epoch 47/500\n",
      "90000/90000 [==============================] - 2s 22us/step - loss: 0.2310 - acc: 0.9423 - val_loss: 0.2208 - val_acc: 0.9339\n",
      "Epoch 48/500\n",
      "90000/90000 [==============================] - 2s 23us/step - loss: 0.2290 - acc: 0.9427 - val_loss: 0.2205 - val_acc: 0.9341\n",
      "Epoch 49/500\n",
      "90000/90000 [==============================] - 2s 25us/step - loss: 0.2302 - acc: 0.9424 - val_loss: 0.2200 - val_acc: 0.9337\n",
      "Epoch 50/500\n",
      "90000/90000 [==============================] - 2s 24us/step - loss: 0.2288 - acc: 0.9424 - val_loss: 0.2197 - val_acc: 0.9337\n",
      "Epoch 51/500\n",
      "90000/90000 [==============================] - 2s 24us/step - loss: 0.2282 - acc: 0.9430 - val_loss: 0.2195 - val_acc: 0.9349\n",
      "Epoch 00050: early stopping\n"
     ]
    }
   ],
   "source": [
    "# fit the model\n",
    "print(labelvec[:5])\n",
    "history = model.fit(padded_docs, labelvec, batch_size=2000, validation_split=0.1, epochs=500, verbose=1, callbacks=[ThresholdEarlyStopping(verbose=1, min_epochs=50)])"
   ]
  },
  {
   "cell_type": "markdown",
   "metadata": {},
   "source": [
    "check for overfitting by comparing the validation loss with training loss:"
   ]
  },
  {
   "cell_type": "code",
   "execution_count": 114,
   "metadata": {},
   "outputs": [
    {
     "data": {
      "image/png": "[encoded data removed]",
      "text/plain": [
       "<Figure size 432x288 with 1 Axes>"
      ]
     },
     "metadata": {
      "needs_background": "light"
     },
     "output_type": "display_data"
    }
   ],
   "source": [
    "plt.plot(history.history['loss'])\n",
    "plt.plot(history.history['val_loss'])\n",
    "plt.ylabel('loss')\n",
    "plt.xlabel('epoch')\n",
    "plt.legend(['training loss', 'validation loss'], loc='best')\n",
    "plt.show()"
   ]
  },
  {
   "cell_type": "markdown",
   "metadata": {},
   "source": [
    "The model is trained."
   ]
  },
  {
   "cell_type": "markdown",
   "metadata": {},
   "source": [
    "evaluating the LSTM language classifier with testing data (with default decision boundary = 0.5):"
   ]
  },
  {
   "cell_type": "code",
   "execution_count": 142,
   "metadata": {},
   "outputs": [
    {
     "name": "stdout",
     "output_type": "stream",
     "text": [
      "Accuracy: 93.36 %\n"
     ]
    }
   ],
   "source": [
    "# evaluate the model\n",
    "loss, accuracy = model.evaluate(padded_docs_test, labelvec_test, verbose=0)\n",
    "print('Accuracy: %.2f %%' % (accuracy*100))"
   ]
  },
  {
   "cell_type": "markdown",
   "metadata": {},
   "source": [
    "Optimizing the decision boundary of the LSTM classifier for best accuracy using ROC curve:"
   ]
  },
  {
   "cell_type": "code",
   "execution_count": 134,
   "metadata": {},
   "outputs": [],
   "source": [
    "from sklearn.metrics import roc_curve, auc\n",
    "labelvec_pred = model.predict(padded_docs_test)\n",
    "fpr, tpr, cut = roc_curve(labelvec_test.ravel(), labelvec_pred.ravel())\n",
    "AUC = auc(fpr, tpr)"
   ]
  },
  {
   "cell_type": "code",
   "execution_count": 135,
   "metadata": {},
   "outputs": [
    {
     "data": {
      "text/plain": [
       "(array([[0.00991759, 0.99008244],\n",
       "        [0.1209347 , 0.8790653 ],\n",
       "        [0.00542074, 0.9945793 ],\n",
       "        [0.995492  , 0.00450803],\n",
       "        [0.00368168, 0.99631834]], dtype=float32), array([0, 0, 0, 1, 0]))"
      ]
     },
     "execution_count": 135,
     "metadata": {},
     "output_type": "execute_result"
    }
   ],
   "source": [
    "labelvec_pred[:5], labelvec_test[:5, 0]"
   ]
  },
  {
   "cell_type": "code",
   "execution_count": 136,
   "metadata": {},
   "outputs": [
    {
     "data": {
      "image/png": "[encoded data removed]",
      "text/plain": [
       "<Figure size 432x288 with 1 Axes>"
      ]
     },
     "metadata": {
      "needs_background": "light"
     },
     "output_type": "display_data"
    }
   ],
   "source": [
    "plt.figure(1)\n",
    "plt.plot([0, 1], [0, 1], 'k--')\n",
    "plt.plot(fpr, tpr, label='(AUC = {:.3f})'.format(AUC))\n",
    "plt.xlabel('False positive rate')\n",
    "plt.ylabel('True positive rate')\n",
    "plt.title('ROC curve')\n",
    "plt.legend(loc='best')\n",
    "plt.show()"
   ]
  },
  {
   "cell_type": "markdown",
   "metadata": {},
   "source": [
    "Closest point to (0,1) on the ROC above will have the optimal threshold (which reduces error conributed from both type I and II errors):"
   ]
  },
  {
   "cell_type": "code",
   "execution_count": 137,
   "metadata": {},
   "outputs": [
    {
     "data": {
      "text/plain": [
       "0.4986838"
      ]
     },
     "execution_count": 137,
     "metadata": {},
     "output_type": "execute_result"
    }
   ],
   "source": [
    "tprDist = np.square(tpr-1)\n",
    "fprDist = np.square(fpr)\n",
    "DistFromPerfectEff = tprDist + fprDist\n",
    "\n",
    "Optimum_cut = cut[DistFromPerfectEff.argmin()]\n",
    "Optimum_cut"
   ]
  },
  {
   "cell_type": "markdown",
   "metadata": {},
   "source": [
    "Optimal threshold at 0.5 (default cut for accuracy)."
   ]
  },
  {
   "cell_type": "markdown",
   "metadata": {},
   "source": [
    "## Storing the model"
   ]
  },
  {
   "cell_type": "code",
   "execution_count": 138,
   "metadata": {},
   "outputs": [
    {
     "name": "stdout",
     "output_type": "stream",
     "text": [
      "model saved to disk\n"
     ]
    }
   ],
   "source": [
    "from keras.models import model_from_json\n",
    "\n",
    "#model to json\n",
    "model_json = model.to_json()\n",
    "json_file = open(\"translit.json\", \"w\")\n",
    "json_file.write(model_json)\n",
    "#weights to h5\n",
    "model.save_weights(\"translit.h5\")\n",
    "print(\"model saved to disk\")"
   ]
  },
  {
   "cell_type": "markdown",
   "metadata": {},
   "source": [
    "## Loading the model"
   ]
  },
  {
   "cell_type": "code",
   "execution_count": 139,
   "metadata": {},
   "outputs": [
    {
     "name": "stdout",
     "output_type": "stream",
     "text": [
      "Loaded model from disk\n"
     ]
    }
   ],
   "source": [
    "# load model\n",
    "jfile = open('translit.json', 'r')\n",
    "loaded_model_json = jfile.read()\n",
    "jfile.close()\n",
    "loaded_model = model_from_json(loaded_model_json)\n",
    "# load weights\n",
    "loaded_model.load_weights(\"translit.h5\")\n",
    "print(\"Loaded model from disk\")\n",
    "# compile the loaded model\n",
    "loaded_model.compile(optimizer='adam', loss='categorical_crossentropy', metrics=['accuracy'])"
   ]
  },
  {
   "cell_type": "markdown",
   "metadata": {},
   "source": [
    "The loaded model reproduces the accuracy for transliterated words:"
   ]
  },
  {
   "cell_type": "code",
   "execution_count": 143,
   "metadata": {},
   "outputs": [
    {
     "name": "stdout",
     "output_type": "stream",
     "text": [
      "Accuracy: 93.36 %\n"
     ]
    }
   ],
   "source": [
    "# evaluate the loaded model\n",
    "loaded_loss, loaded_accuracy = loaded_model.evaluate(padded_docs_test, labelvec_test, verbose=0)\n",
    "print('Accuracy: %.2f %%' % (loaded_accuracy*100))"
   ]
  },
  {
   "cell_type": "markdown",
   "metadata": {},
   "source": [
    "Using Maximum Likelihood Estimator to predict the language of an entire transliterated sentence, from the individual scores of the words in that sentence:"
   ]
  },
  {
   "cell_type": "markdown",
   "metadata": {},
   "source": [
    "$$Prediced\\ Language = \\underset{l}{\\operatorname{argmax}} \\sum_{i=1}^{all\\ words\\ in\\ sentence} log(P(word_{i}|l))$$"
   ]
  },
  {
   "cell_type": "markdown",
   "metadata": {},
   "source": [
    "   \n",
    "   where $l \\in \\{ Korean, Bengali \\} $\n",
    "   \n",
    "   and $P(word|l)$ is output score of the word from the LSTM classifier for language $l$\n",
    "   "
   ]
  },
  {
   "cell_type": "code",
   "execution_count": 187,
   "metadata": {},
   "outputs": [],
   "source": [
    "import string\n",
    "\n",
    "def TextToInput(text):\n",
    "    text = text.translate(str.maketrans('', '', string.punctuation)).split()\n",
    "    text = [PhoneticWordSplit(w) for w in text]\n",
    "    return IntEncodeWords(text)"
   ]
  },
  {
   "cell_type": "code",
   "execution_count": 200,
   "metadata": {},
   "outputs": [],
   "source": [
    "def PredictLanguage(text):\n",
    "    lstminput = TextToInput(text)\n",
    "    p = model.predict(lstminput)\n",
    "    langdict = {0:\"Bengali\", 1:\"Korean\"}\n",
    "    mle = np.log(p)\n",
    "    mle = np.sum(mle, axis=0)\n",
    "    return langdict[np.argmax(mle)]"
   ]
  },
  {
   "cell_type": "code",
   "execution_count": 214,
   "metadata": {},
   "outputs": [
    {
     "data": {
      "text/plain": [
       "'Korean'"
      ]
     },
     "execution_count": 214,
     "metadata": {},
     "output_type": "execute_result"
    }
   ],
   "source": [
    "inputtext = \"cheoeumbuteo geudaeyeossjyo \\\n",
    "naege dagaol han saram \\\n",
    "dan han beonui seuchimedo \\\n",
    "nae nunbicci mareul hajyo\"\n",
    "\n",
    "#\"Amake naam~ #ki?!@\"\n",
    "PredictLanguage(inputtext)"
   ]
  },
  {
   "cell_type": "markdown",
   "metadata": {},
   "source": [
    "## Results\n",
    "   \n",
    "   The LSTM classifier using phonetic syllables as input features is able to give an optimum accuracy of ~93 % with AUC = 0.985."
   ]
  },
  {
   "cell_type": "markdown",
   "metadata": {},
   "source": [
    "### Next steps:"
   ]
  },
  {
   "cell_type": "markdown",
   "metadata": {},
   "source": [
    " * Create a web-app to run the NLP model and host on google cloud.\n",
    "\n",
    " * Perform k-fold cross-validation to better estimate classifier's performance\n",
    " * Should test vanilla RNN too since the input string of phonetic syllables are not too long\n",
    " * Improve cleaning to get rid of non-lexical vocables in the corpus to train a better discriminator\n",
    " * Try to find other sources (than song lyrics) for Korean and Bangla transliterated texts\n",
    " * Think of a better way to reduce even further English words that are contaminating the corpuses\n",
    " * Add other non-roman langauges"
   ]
  }
 ],
 "metadata": {
  "kernelspec": {
   "display_name": "Python 3",
   "language": "python",
   "name": "python3"
  },
  "language_info": {
   "codemirror_mode": {
    "name": "ipython",
    "version": 3
   },
   "file_extension": ".py",
   "mimetype": "text/x-python",
   "name": "python",
   "nbconvert_exporter": "python",
   "pygments_lexer": "ipython3",
   "version": "3.6.8"
  }
 },
 "nbformat": 4,
 "nbformat_minor": 2
}
