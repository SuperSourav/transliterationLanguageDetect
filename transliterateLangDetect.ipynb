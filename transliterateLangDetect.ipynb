{
 "cells": [
  {
   "cell_type": "markdown",
   "metadata": {},
   "source": [
    "# Language detection of transliterated text"
   ]
  },
  {
   "cell_type": "markdown",
   "metadata": {},
   "source": [
    "### The problem\n",
    "Below is a text transliterated in English:"
   ]
  },
  {
   "cell_type": "markdown",
   "metadata": {},
   "source": [
    "| \"aaj ka mausam achchha hai\" | \"The weather is good today\" |\n",
    "| --- | --- |\n",
    "| (transliterated text) | (translated text) |"
   ]
  },
  {
   "cell_type": "markdown",
   "metadata": {},
   "source": [
    "One might be curious about what language is this transliterated text actually in (unless one knows that language already). Happens to me quite often, when I'm reading Youtube or Facebook or other social media threads.\n",
    "\n",
    "Well, the above text is in Hindi:"
   ]
  },
  {
   "cell_type": "markdown",
   "metadata": {},
   "source": [
    "| \"aaj ka mausam achchha hai\" | \"आज का मौसम अच्छा है\" |\n",
    "| --- | --- |\n",
    "| (transliterated text) | (original script) |"
   ]
  },
  {
   "cell_type": "markdown",
   "metadata": {},
   "source": [
    "Since computer and phone keyboards are generally in English, it is often convenient for non-roman language speakers to transliterate their texts to English while typing than to use the original script (writing system) of their language. Since the transliterated text does not have the information about its original language, it becomes hard for others (who do not speak that language) to even decipher the language and further understand the meaning of the text.\n",
    "\n",
    "It would be convenient if machines could fill this gap by telling us the language of those transliterated texts, which we very often encounter in social media threads etc., so that we don't have to ask other people if they can identify the language of a transliterated text."
   ]
  },
  {
   "cell_type": "markdown",
   "metadata": {},
   "source": [
    "### Scope of the project\n",
    "\n",
    "In this project, I therefore attempt to address this problem by designing an NLP model which can detect the language of a transliterated text. Due to lack of time at the moment, I confine the scope of this project to just classify texts transliterated from Korean and Bangla (Bengali) languages. \n",
    "\n",
    "Although not important, but the reason for choosing these two non-roman languages in particular for the project is because:  \n",
    "* Bangla is my mother tongue so it would be fun to teach the machine my language. Bangla (or Bengali) is spoken mostly in the state of West Bengal in India and in Bangladesh. \n",
    "* Korean pop songs are popular lately, so considering their international reach, I thought, Korean transliteration might be relevant to people.\n",
    "* I shall be including other non-roman languages in the future."
   ]
  },
  {
   "cell_type": "markdown",
   "metadata": {},
   "source": [
    "### Solution approach\n",
    "\n",
    "We can often identify a language being spoken, if we have prior experience of hearing that language, even if we may not understand the language at all. Every language has some characteristic sounds patterns. These patterns can be used to identify a language even without understanding them. So, like speech if we could pronounced transliterated texts correctly (ie in their native langauge pronounciation), we might be able to identify the language.\n",
    "\n",
    "Automatic Speech Recognition (ASR) systems are pretty decent in identifying language from speech audio inputs. ASRs use spectrograms (shown below) to learn the features including the language of a speech input."
   ]
  },
  {
   "cell_type": "markdown",
   "metadata": {},
   "source": [
    "<img src=\"https://www.researchgate.net/profile/Phillip_Lobel/publication/267827408/figure/fig2/AS:295457826852866@1447454043380/Spectrograms-and-Oscillograms-This-is-an-oscillogram-and-spectrogram-of-the-boatwhistle.png\"  width=\"400\">\n",
    "\n",
    "[Image source: Kovitvongsa, Kathryn & Lobel, Phillip. (2019). Convenient Fish Acoustic Data Collection in the Digital Age.]"
   ]
  },
  {
   "cell_type": "markdown",
   "metadata": {},
   "source": [
    "In spectrograms, audio files are chopped into thin time slices (in the abscissa), where for each time slice all the frequencies present are listed (in the ordinate) with their corresponding intensities (heat map) using Fourier transform. The frequencies tell us about the nature of the source that produced that sound, e.g., you can identify musical instruments by the pattern of their overtones (multiples of fundamental frequency).\n",
    "\n",
    "This also means that if we look at spectrograms of human speech audio files, the frequencies in a particular time slice should represent which part of our buccal cavity contributed in production of sound in that time slice or window. In other words, the time slices in a spectrogram try to capture the elementary bits of characteristic sound patterns (by encoding the information about which part of buccal cavity produced them) of a speech which ASRs can use in trying to indetify the language of the speech (there are other ASR applications as well than language identification).\n",
    "\n",
    "If we could split our transliterated words into elementary fragments, that uniquely encode the source (such as the region in buccal cavity) which produces them, a string of those word fragments would be analogous to spectrograms for audio speech. We can then use those word fragment strings as inputs to an NLP model to identify the language of the transliterated text.\n",
    "\n",
    "Fortunately, when a text is transliterated from one langauge to other, it is generally spelled out phonetically (even if the original language is not strictly phonetic). So, if we were to phonetically pronounce the transliterated words, we might be quite closer to its actual pronounciation.\n",
    "\n",
    "To get the phonetic pronounciation, we assumed that the texts were transliterated from some unknown language to Italian, a strictly phonetic language which also uses the Latin script as English. We then divide the transliterated words into syllables according to the  Italian language, ie phonetically. We used those (phonetic) syllables as inputs to our NLP model."
   ]
  },
  {
   "cell_type": "markdown",
   "metadata": {},
   "source": [
    "# Data scraping\n",
    "\n",
    "Song lyrics website often transliterate songs in English (perhaps for international audiences). So, for Korean and Bangla (Bengali) sentences transliterated in English, the song lyrics on the following lyrics websites were scraped:\n",
    " - bangla lyrics: http://www.lyricsbangla.com/\n",
    " - korean lyrics: https://romanization.wordpress.com/"
   ]
  },
  {
   "cell_type": "code",
   "execution_count": 1,
   "metadata": {},
   "outputs": [],
   "source": [
    "from urllib.request import urlopen\n",
    "from bs4 import BeautifulSoup\n",
    "import re"
   ]
  },
  {
   "cell_type": "markdown",
   "metadata": {},
   "source": [
    "Since the objects in Bengali (referred as Bangla henceforth) and Korean texts might be different created two separate functions to fetch respective text. The different functions are just for cleanliness purpose."
   ]
  },
  {
   "cell_type": "markdown",
   "metadata": {},
   "source": [
    "### Functions for scraping Korean transliterated texts"
   ]
  },
  {
   "cell_type": "code",
   "execution_count": 3,
   "metadata": {},
   "outputs": [],
   "source": [
    "def fetch_korean(fname):\n",
    "    #some browsing revealed there are 1087 pages (@29th July, 2019) indexed 0 through 1086 with links to lyrics\n",
    "    #extracting the song links from each of these pages\n",
    "    npages = 1087\n",
    "    lyricsbag = open(fname, 'w')\n",
    "    count = 0\n",
    "    for pg in range(npages):\n",
    "        soup = BeautifulSoup(urlopen(\"https://romanization.wordpress.com/page/%i\"%pg), 'html.parser')\n",
    "        links = soup.find_all('a')\n",
    "        pageurls = [_.get('href') for _ in links if (_.text == 'Continue reading →')]\n",
    "        for url in pageurls:\n",
    "            b = koreanLyrics(url)\n",
    "            [lyricsbag.write(_+\"\\n\") for _ in b]\n",
    "            count += 1\n",
    "            print(count)\n",
    "    \n",
    "    return\n"
   ]
  },
  {
   "cell_type": "code",
   "execution_count": 4,
   "metadata": {},
   "outputs": [],
   "source": [
    "def koreanLyrics(url):\n",
    "    s = BeautifulSoup(urlopen(url), 'html.parser')\n",
    "    lblob = [_.text for _ in s.find_all('p')]\n",
    "    lyrics = []\n",
    "    pendown = False\n",
    "    for _ in lblob:\n",
    "        if pendown:\n",
    "            if (_ == \"//\"):\n",
    "                pendown = False\n",
    "                break\n",
    "            else:\n",
    "                lyrics += _.split(\"\\n\")\n",
    "        else:\n",
    "            if \"to see the lyrics\" in _:\n",
    "                pendown = True\n",
    "    return lyrics"
   ]
  },
  {
   "cell_type": "markdown",
   "metadata": {},
   "source": [
    "### Functions for scraping Bangla transliterated texts"
   ]
  },
  {
   "cell_type": "code",
   "execution_count": 5,
   "metadata": {},
   "outputs": [],
   "source": [
    "def fetch_bangla(fname):\n",
    "    #url = \"http://www.lyricsbangla.com/?sec=listing&lyricid=4140\"\n",
    "    url = \"file:///home/sourav/MLProjects/transliterate/Lyrics%20Search%20»%20LyricsBangla.com.html\" \n",
    "    #TODO replace the static page with dynamic link smh\n",
    "    #\"http://www.lyricsbangla.com/index.php?sec=search\"\n",
    "    html = urlopen(url)\n",
    "\n",
    "    soup = BeautifulSoup(html, 'html.parser')\n",
    "    b = soup.find('table')\n",
    "    urltable = b.find_all('td')\n",
    "    \n",
    "    #extracting songs from links in www.lyricsbangla.com index page\n",
    "    lyricsurllist = []\n",
    "    lyricsbag = open(fname, 'w')\n",
    "    count = 0\n",
    "    for u in urltable:\n",
    "        if (u.find('a') != None):\n",
    "            songlink = u.a.get('href')\n",
    "            if (\"artist\" not in songlink):\n",
    "                b = banglaLyrics(songlink)\n",
    "                [lyricsbag.write(_+\"\\n\") for _ in b]\n",
    "                count += 1\n",
    "                print(count)\n",
    "        \n",
    "    return\n",
    "    "
   ]
  },
  {
   "cell_type": "markdown",
   "metadata": {},
   "source": [
    "Bangla lyrics often have chords, so here is a list of chords to clean the text scraped from: https://www.pianochord.org/ and saved in \"chords.txt\""
   ]
  },
  {
   "cell_type": "code",
   "execution_count": 6,
   "metadata": {},
   "outputs": [],
   "source": [
    "##(source: https://www.pianochord.org/)\n",
    "def get_musicalchords():\n",
    "    chords_ = []\n",
    "    f = open(\"chords.txt\", 'r')\n",
    "    lines = f.readlines()\n",
    "    for l in lines:\n",
    "        chords_ += l.strip().split()\n",
    "\n",
    "    return chords_"
   ]
  },
  {
   "cell_type": "code",
   "execution_count": 7,
   "metadata": {},
   "outputs": [],
   "source": [
    "def banglaLyrics(url):\n",
    "    spchar = re.compile('[@_!#$%^&*()<>?/\\|}{~:]')\n",
    "\n",
    "\n",
    "    s = BeautifulSoup(urlopen(url), 'html.parser')\n",
    "    lblob = s.find('p', id='tabs-1')\n",
    "    lyrics = []\n",
    "    chord_ = get_musicalchords()\n",
    "    for line in lblob:\n",
    "        if (line.string != None):\n",
    "            l = str(line)\n",
    "            if any(chord in l for chord in chords_):\n",
    "                continue\n",
    "            elif (spchar.search(l)!=None):\n",
    "                continue\n",
    "            else:\n",
    "                l = l.strip()\n",
    "                if (l): lyrics.append(l)\n",
    "    return lyrics"
   ]
  },
  {
   "cell_type": "markdown",
   "metadata": {},
   "source": [
    "The following cell scrapes Bangla and Korean lyrics respectively using the functions defined above."
   ]
  },
  {
   "cell_type": "code",
   "execution_count": 145,
   "metadata": {},
   "outputs": [],
   "source": [
    "banglacorpus = \"banglacorpus.txt\"\n",
    "fetch_bangla(banglacorpus)\n",
    "\n",
    "\n",
    "koreancorpus = \"koreancorpus.txt\"\n",
    "fetch_korean(koreancorpus)\n"
   ]
  },
  {
   "cell_type": "markdown",
   "metadata": {},
   "source": [
    "# Data Cleaning\n",
    "\n",
    "\"cleanedkoreancorpus.txt\" and \"cleanedbanglacorpus.txt\" are the cleaned corpuses for Korean and Bangla transliterated text used for the analysis\n",
    "\n",
    "<div style=\"text-align: right\"> \"Cleaning is messy!!\" ~Anonymous </div>"
   ]
  },
  {
   "cell_type": "markdown",
   "metadata": {},
   "source": [
    "# Data Visualization for encoding"
   ]
  },
  {
   "cell_type": "markdown",
   "metadata": {},
   "source": [
    "While transliteration, words are spelled phonetically. So, if one spells the transliterated word phonetically, one might actually get quite close to the actual pronounciation in its native language.\n",
    "If the transliterated words are, therefore, split into phonetic syllables, a list of those phonetic syllables could represent the pronounciation of that word and thus information about its native language. These phonetic syllables are quite analogous to phoneme sequences used in ASR (Automatic Speech Recognition).\n",
    "\n",
    "Since English is not a phonetic language, its syllables are not phonetic. However, with we try to split the word using a phonetic language, like Italian, then the syllables would indeed be phonetic.\n",
    "\n",
    "I use a python package - 'pyphen' (https://pyphen.org) for such syllable splitting. This package provides an option to choose the language in which the user wants to split the word. As discussed above, I used Italian, a phonetic language, to split the word into syllables, so that I get phonetic syllables."
   ]
  },
  {
   "cell_type": "markdown",
   "metadata": {},
   "source": [
    "Installing pyphen:"
   ]
  },
  {
   "cell_type": "code",
   "execution_count": 1,
   "metadata": {},
   "outputs": [
    {
     "name": "stdout",
     "output_type": "stream",
     "text": [
      "Collecting pyphen\n",
      "  Using cached https://files.pythonhosted.org/packages/15/82/08a3629dce8d1f3d91db843bb36d4d7db6b6269d5067259613a0d5c8a9db/Pyphen-0.9.5-py2.py3-none-any.whl\n",
      "Installing collected packages: pyphen\n",
      "Successfully installed pyphen-0.9.5\n"
     ]
    }
   ],
   "source": [
    "# Install pyphen in the current Jupyter kernel\n",
    "import sys\n",
    "!{sys.executable} -m pip install pyphen"
   ]
  },
  {
   "cell_type": "markdown",
   "metadata": {},
   "source": [
    "The function below splits the words phonetically (as in italian) into list of syllables to be used as input features for langauge detection:"
   ]
  },
  {
   "cell_type": "code",
   "execution_count": 9,
   "metadata": {},
   "outputs": [],
   "source": [
    "def wordbagmaker(corpusfilename, label):\n",
    "   f = open(corpusfilename, 'r')\n",
    "   lines = f.readlines()\n",
    "\n",
    "   import random\n",
    "   import pyphen\n",
    "   worddict = []\n",
    "   dic = pyphen.Pyphen(lang='it_IT')\n",
    "   for l in lines:\n",
    "       words = l.split()\n",
    "       if (len(words) < 2): continue #only words present in sentences used, not single word sentences\n",
    "       for w in words:\n",
    "          if (len(w) > 1) and w.isalpha(): #words with digits not used and single letter words not used\n",
    "              worddict.append(dic.inserted(w) + \" : \" + label)\n",
    "\n",
    "   random.shuffle(worddict)   #shuffle the list\n",
    "   return worddict"
   ]
  },
  {
   "cell_type": "markdown",
   "metadata": {},
   "source": [
    "The words split into phonetic syllables are stored in koreanwordbag.txt and banglawordbag.txt for Korean and Bangla resp. and used to train and test the langauge detection model."
   ]
  },
  {
   "cell_type": "code",
   "execution_count": 10,
   "metadata": {},
   "outputs": [],
   "source": [
    "foK = open(\"koreanwordbag.txt\", 'w')\n",
    "[foK.write(wK+\"\\n\") for wK in wordbagmaker(\"cleanedkoreancorpus.txt\", \"K\")]\n",
    "foK.close()\n",
    "foB = open(\"banglawordbag.txt\", 'w')\n",
    "[foB.write(wB+\"\\n\") for wB in wordbagmaker(\"cleanedbanglacorpus.txt\", \"B\")]\n",
    "foB.close()"
   ]
  },
  {
   "cell_type": "code",
   "execution_count": 1,
   "metadata": {},
   "outputs": [],
   "source": [
    "fkor = open(\"koreanwordbag.txt\", 'r')\n",
    "fban = open(\"banglawordbag.txt\", 'r')\n",
    "datakor = fkor.readlines()\n",
    "databan = fban.readlines()"
   ]
  },
  {
   "cell_type": "markdown",
   "metadata": {},
   "source": [
    "A quick feature visualization to see if simple features, like syllable count per word,have any discriminating power."
   ]
  },
  {
   "cell_type": "code",
   "execution_count": 2,
   "metadata": {},
   "outputs": [],
   "source": [
    "import numpy as np\n",
    "import matplotlib.pyplot as plt\n",
    "%matplotlib inline"
   ]
  },
  {
   "cell_type": "code",
   "execution_count": 3,
   "metadata": {},
   "outputs": [],
   "source": [
    "syllables_per_wordKOR = []\n",
    "letters_per_syllableKOR = []\n",
    "for dK in datakor:\n",
    "    w = dK.split(\" : \")[0].split(\"-\")\n",
    "    syllables_per_wordKOR.append(len(w))\n",
    "    [letters_per_syllableKOR.append(len(_)) for _ in w]\n",
    "\n",
    "syllables_per_wordBAN = []\n",
    "letters_per_syllableBAN = []\n",
    "for dB in databan:\n",
    "    w = dB.split(\" : \")[0].split(\"-\")\n",
    "    syllables_per_wordBAN.append(len(w))\n",
    "    [letters_per_syllableBAN.append(len(_)) for _ in w]\n",
    "\n",
    "syllables_per_word = np.concatenate((syllables_per_wordKOR,syllables_per_wordBAN), axis=0)\n",
    "letters_per_syllable = np.concatenate((letters_per_syllableKOR, letters_per_syllableBAN), axis=0)"
   ]
  },
  {
   "cell_type": "code",
   "execution_count": 4,
   "metadata": {},
   "outputs": [
    {
     "data": {
      "image/png": "[encoded data removed]",
      "text/plain": [
       "<Figure size 432x288 with 1 Axes>"
      ]
     },
     "metadata": {},
     "output_type": "display_data"
    }
   ],
   "source": [
    "binsSPW = [_ - 0.5 for _ in range(1,11)]\n",
    "plt.xticks(range(1,11))\n",
    "plt.hist(syllables_per_word, binsSPW, alpha=0.3, label='both languages')\n",
    "plt.hist(syllables_per_wordKOR, binsSPW, alpha=0.3, label='Korean') \n",
    "plt.hist(syllables_per_wordBAN, binsSPW, alpha=0.3, label='Bangla')\n",
    "\n",
    "plt.xlabel('#syllables/word')\n",
    "plt.ylabel('frequency')\n",
    "plt.legend(loc='best')\n",
    "plt.show()"
   ]
  },
  {
   "cell_type": "markdown",
   "metadata": {},
   "source": [
    "Bangla words mostly have 2 syllables, Korean words can have upto 5 syllables in a word. A 10 syllable vector should be enough to encode a word from either language."
   ]
  },
  {
   "cell_type": "code",
   "execution_count": 5,
   "metadata": {},
   "outputs": [
    {
     "data": {
      "image/png": "[encoded data removed]",
      "text/plain": [
       "<Figure size 432x288 with 1 Axes>"
      ]
     },
     "metadata": {},
     "output_type": "display_data"
    }
   ],
   "source": [
    "binsLPS = [_ - 0.5 for _ in range(1,11)]\n",
    "plt.xticks(range(1,11))\n",
    "plt.hist(letters_per_syllable, binsLPS, alpha=0.3, label='both languages')\n",
    "plt.hist(letters_per_syllableKOR, binsLPS, alpha=0.3, label='Korean') \n",
    "plt.hist(letters_per_syllableBAN, binsLPS, alpha=0.3, label='Bangla')\n",
    "\n",
    "plt.xlabel('#letters/syllables')\n",
    "plt.ylabel('frequency')\n",
    "plt.legend(loc='best')\n",
    "plt.show()"
   ]
  },
  {
   "cell_type": "markdown",
   "metadata": {},
   "source": [
    "Most phonetic syllables have around 2 letters. Not a significant disciminator. Would therefore be fair to disregard the syllable length and just integer encode the syllables in both the corpuses."
   ]
  },
  {
   "cell_type": "markdown",
   "metadata": {},
   "source": [
    "# Training data"
   ]
  },
  {
   "cell_type": "markdown",
   "metadata": {},
   "source": [
    "Using 50,000 (10,000) Bangla and Korean words each randomly from the corpuses for training (testing)."
   ]
  },
  {
   "cell_type": "code",
   "execution_count": 6,
   "metadata": {},
   "outputs": [],
   "source": [
    "import random\n",
    "Ntrain = 50000\n",
    "Ntest  = 10000\n",
    "random.shuffle(datakor) #korean\n",
    "random.shuffle(databan) #bangla\n",
    "TrainingVal_data = datakor[:Ntrain] + databan[:Ntrain] \n",
    "Testing_data = datakor[Ntrain:Ntrain+Ntest] + databan[Ntrain:Ntrain+Ntest]\n",
    "random.shuffle(TrainingVal_data)\n",
    "random.shuffle(Testing_data)"
   ]
  },
  {
   "cell_type": "markdown",
   "metadata": {},
   "source": [
    "# Word and label encoding"
   ]
  },
  {
   "cell_type": "code",
   "execution_count": 7,
   "metadata": {},
   "outputs": [
    {
     "name": "stderr",
     "output_type": "stream",
     "text": [
      "Using TensorFlow backend.\n",
      "/home/sourav/.local/lib/python3.6/site-packages/tensorflow/python/framework/dtypes.py:516: FutureWarning: Passing (type, 1) or '1type' as a synonym of type is deprecated; in a future version of numpy, it will be understood as (type, (1,)) / '(1,)type'.\n",
      "  _np_qint8 = np.dtype([(\"qint8\", np.int8, 1)])\n",
      "/home/sourav/.local/lib/python3.6/site-packages/tensorflow/python/framework/dtypes.py:517: FutureWarning: Passing (type, 1) or '1type' as a synonym of type is deprecated; in a future version of numpy, it will be understood as (type, (1,)) / '(1,)type'.\n",
      "  _np_quint8 = np.dtype([(\"quint8\", np.uint8, 1)])\n",
      "/home/sourav/.local/lib/python3.6/site-packages/tensorflow/python/framework/dtypes.py:518: FutureWarning: Passing (type, 1) or '1type' as a synonym of type is deprecated; in a future version of numpy, it will be understood as (type, (1,)) / '(1,)type'.\n",
      "  _np_qint16 = np.dtype([(\"qint16\", np.int16, 1)])\n",
      "/home/sourav/.local/lib/python3.6/site-packages/tensorflow/python/framework/dtypes.py:519: FutureWarning: Passing (type, 1) or '1type' as a synonym of type is deprecated; in a future version of numpy, it will be understood as (type, (1,)) / '(1,)type'.\n",
      "  _np_quint16 = np.dtype([(\"quint16\", np.uint16, 1)])\n",
      "/home/sourav/.local/lib/python3.6/site-packages/tensorflow/python/framework/dtypes.py:520: FutureWarning: Passing (type, 1) or '1type' as a synonym of type is deprecated; in a future version of numpy, it will be understood as (type, (1,)) / '(1,)type'.\n",
      "  _np_qint32 = np.dtype([(\"qint32\", np.int32, 1)])\n",
      "/home/sourav/.local/lib/python3.6/site-packages/tensorflow/python/framework/dtypes.py:525: FutureWarning: Passing (type, 1) or '1type' as a synonym of type is deprecated; in a future version of numpy, it will be understood as (type, (1,)) / '(1,)type'.\n",
      "  np_resource = np.dtype([(\"resource\", np.ubyte, 1)])\n",
      "/home/sourav/.local/lib/python3.6/site-packages/tensorboard/compat/tensorflow_stub/dtypes.py:541: FutureWarning: Passing (type, 1) or '1type' as a synonym of type is deprecated; in a future version of numpy, it will be understood as (type, (1,)) / '(1,)type'.\n",
      "  _np_qint8 = np.dtype([(\"qint8\", np.int8, 1)])\n",
      "/home/sourav/.local/lib/python3.6/site-packages/tensorboard/compat/tensorflow_stub/dtypes.py:542: FutureWarning: Passing (type, 1) or '1type' as a synonym of type is deprecated; in a future version of numpy, it will be understood as (type, (1,)) / '(1,)type'.\n",
      "  _np_quint8 = np.dtype([(\"quint8\", np.uint8, 1)])\n",
      "/home/sourav/.local/lib/python3.6/site-packages/tensorboard/compat/tensorflow_stub/dtypes.py:543: FutureWarning: Passing (type, 1) or '1type' as a synonym of type is deprecated; in a future version of numpy, it will be understood as (type, (1,)) / '(1,)type'.\n",
      "  _np_qint16 = np.dtype([(\"qint16\", np.int16, 1)])\n",
      "/home/sourav/.local/lib/python3.6/site-packages/tensorboard/compat/tensorflow_stub/dtypes.py:544: FutureWarning: Passing (type, 1) or '1type' as a synonym of type is deprecated; in a future version of numpy, it will be understood as (type, (1,)) / '(1,)type'.\n",
      "  _np_quint16 = np.dtype([(\"quint16\", np.uint16, 1)])\n",
      "/home/sourav/.local/lib/python3.6/site-packages/tensorboard/compat/tensorflow_stub/dtypes.py:545: FutureWarning: Passing (type, 1) or '1type' as a synonym of type is deprecated; in a future version of numpy, it will be understood as (type, (1,)) / '(1,)type'.\n",
      "  _np_qint32 = np.dtype([(\"qint32\", np.int32, 1)])\n",
      "/home/sourav/.local/lib/python3.6/site-packages/tensorboard/compat/tensorflow_stub/dtypes.py:550: FutureWarning: Passing (type, 1) or '1type' as a synonym of type is deprecated; in a future version of numpy, it will be understood as (type, (1,)) / '(1,)type'.\n",
      "  np_resource = np.dtype([(\"resource\", np.ubyte, 1)])\n"
     ]
    }
   ],
   "source": [
    "from keras.preprocessing.text import one_hot\n",
    "from keras.preprocessing.sequence import pad_sequences"
   ]
  },
  {
   "cell_type": "code",
   "execution_count": 8,
   "metadata": {},
   "outputs": [],
   "source": [
    "from keras.models import Sequential\n",
    "from keras.layers import Dense, Embedding, LSTM"
   ]
  },
  {
   "cell_type": "code",
   "execution_count": 9,
   "metadata": {},
   "outputs": [
    {
     "name": "stdout",
     "output_type": "stream",
     "text": [
      "['ji wo ji ket', 'gal la do', 'hay re']\n",
      "[[0 1]\n",
      " [0 1]\n",
      " [1 0]]\n"
     ]
    }
   ],
   "source": [
    "#training data\n",
    "wordvec = []\n",
    "labelvec = [] \n",
    "for td in TrainingVal_data:\n",
    "    wvec = []\n",
    "    tw, tl = td.split(\" : \")\n",
    "    tw = tw.replace(\"-\", \" \")\n",
    "    lvec = [1, 0] if tl.strip() == \"B\" else [0,1]                #One hot encoding: [1,0] : Bangla, [0,1] : Korean\n",
    "    wordvec.append(tw)\n",
    "    labelvec.append(lvec)\n",
    "labelvec = np.array(labelvec)\n",
    "print(wordvec[:3])\n",
    "print(labelvec[:3])\n",
    "\n",
    "\n",
    "#testing data\n",
    "wordvec_test = []\n",
    "labelvec_test = [] \n",
    "for td in Testing_data:\n",
    "    wvec = []\n",
    "    tw, tl = td.split(\" : \")\n",
    "    tw = tw.replace(\"-\", \" \")\n",
    "    lvec = [1, 0] if tl.strip() == \"B\" else [0,1]                #One hot encoding: [1,0] : Bangla, [0,1] : Korean\n",
    "    wordvec_test.append(tw)\n",
    "    labelvec_test.append(lvec)\n",
    "labelvec_test = np.array(labelvec_test)\n"
   ]
  },
  {
   "cell_type": "markdown",
   "metadata": {},
   "source": [
    "integer encode the phonetic syllables:"
   ]
  },
  {
   "cell_type": "code",
   "execution_count": 10,
   "metadata": {},
   "outputs": [
    {
     "name": "stdout",
     "output_type": "stream",
     "text": [
      "['ji wo ji ket', 'gal la do', 'hay re', 'ja lhae', 'ha ta ta ta tat']\n",
      "[[96377, 137203, 96377, 162211], [38693, 33129, 37160], [38823, 2238], [92218, 144604], [126174, 185772, 185772, 185772, 111861]]\n",
      "['back', 'ke mon', 'cho ke', 'cho kher', 'aa sh be']\n",
      "[[77093], [10649, 195876], [36948, 10649], [36948, 27349], [15221, 141540, 102885]]\n"
     ]
    }
   ],
   "source": [
    "vocab_size = 200000\n",
    "\n",
    "#training data\n",
    "print(wordvec[:5])\n",
    "encoded_docs = [one_hot(d, vocab_size) for d in wordvec]\n",
    "print(encoded_docs[:5])\n",
    "\n",
    "#testing data\n",
    "print(wordvec_test[:5])\n",
    "encoded_docs_test = [one_hot(d, vocab_size) for d in wordvec_test]\n",
    "print(encoded_docs_test[:5])\n"
   ]
  },
  {
   "cell_type": "markdown",
   "metadata": {},
   "source": [
    "pad words to a max length of 10 syllables:"
   ]
  },
  {
   "cell_type": "code",
   "execution_count": 11,
   "metadata": {},
   "outputs": [
    {
     "name": "stdout",
     "output_type": "stream",
     "text": [
      "[[ 96377 137203  96377 ...      0      0      0]\n",
      " [ 38693  33129  37160 ...      0      0      0]\n",
      " [ 38823   2238      0 ...      0      0      0]\n",
      " ...\n",
      " [ 82406      0      0 ...      0      0      0]\n",
      " [ 14922 130254 106980 ...      0      0      0]\n",
      " [ 51131  12383  89268 ...      0      0      0]]\n"
     ]
    }
   ],
   "source": [
    "max_length = 10\n",
    "\n",
    "#training data\n",
    "padded_docs = pad_sequences(encoded_docs, maxlen=max_length, padding='post')\n",
    "print(padded_docs)\n",
    "\n",
    "#testing data\n",
    "padded_docs_test = pad_sequences(encoded_docs_test, maxlen=max_length, padding='post')"
   ]
  },
  {
   "cell_type": "markdown",
   "metadata": {},
   "source": [
    "I train an LSTM to classify Korean and Bangla words, defined below:"
   ]
  },
  {
   "cell_type": "code",
   "execution_count": 28,
   "metadata": {},
   "outputs": [
    {
     "name": "stdout",
     "output_type": "stream",
     "text": [
      "Model: \"sequential_6\"\n",
      "_________________________________________________________________\n",
      "Layer (type)                 Output Shape              Param #   \n",
      "=================================================================\n",
      "embedding_6 (Embedding)      (None, 10, 8)             1600000   \n",
      "_________________________________________________________________\n",
      "lstm_5 (LSTM)                (None, 5)                 280       \n",
      "_________________________________________________________________\n",
      "dense_5 (Dense)              (None, 2)                 12        \n",
      "=================================================================\n",
      "Total params: 1,600,292\n",
      "Trainable params: 1,600,292\n",
      "Non-trainable params: 0\n",
      "_________________________________________________________________\n",
      "None\n"
     ]
    }
   ],
   "source": [
    "from keras.regularizers import l2\n",
    "\n",
    "lstm_out = 5\n",
    "# define the model\n",
    "model = Sequential()\n",
    "model.add(Embedding(vocab_size, 8, input_length=max_length))\n",
    "model.add(LSTM(lstm_out, recurrent_initializer=\"random_uniform\", bias_initializer=\"zeros\", dropout=0.2, recurrent_dropout=0.2, kernel_regularizer=l2(0.01), recurrent_regularizer=l2(0.01), bias_regularizer=l2(0.01)))\n",
    "model.add(Dense(2, activation='softmax'))\n",
    "\n",
    "# compile the model\n",
    "model.compile(optimizer='adam', loss='categorical_crossentropy', metrics=['accuracy'])\n",
    "# summarize the model\n",
    "print(model.summary())"
   ]
  },
  {
   "cell_type": "markdown",
   "metadata": {},
   "source": [
    "train the LSTM:"
   ]
  },
  {
   "cell_type": "markdown",
   "metadata": {},
   "source": [
    "Early stopping the training if validation loss starts to converge (wait for 50 epochs to make sure val loss is indeed converging). "
   ]
  },
  {
   "cell_type": "code",
   "execution_count": 34,
   "metadata": {},
   "outputs": [],
   "source": [
    "from keras.callbacks import EarlyStopping\n",
    "class ThresholdEarlyStopping(EarlyStopping):\n",
    "    def __init__(self, monitor='val_loss', min_epochs=10,\n",
    "                 threshold=0.995, increase=1.75, verbose=0, mode='auto'):\n",
    "\n",
    "        super(ThresholdEarlyStopping, self).__init__(\n",
    "            monitor=monitor,\n",
    "            patience=min_epochs,\n",
    "            verbose=verbose,\n",
    "            mode=mode\n",
    "        )\n",
    "\n",
    "        self.threshold = threshold\n",
    "        self.increase = increase\n",
    "\n",
    "    def on_epoch_end(self, epoch, logs={}):\n",
    "        if epoch < self.patience:\n",
    "            current = logs.get(self.monitor)\n",
    "            if current is None:\n",
    "                warnings.warn('Early stopping requires %s to be available!'\n",
    "                              % (self.monitor), RuntimeWarning)\n",
    "\n",
    "            if self.monitor_op(current, self.best):\n",
    "                # if current val_loss within 0.5% margin of the best(min) val_loss, \n",
    "                # add some grace to the patience to monitor if val_loss is indeed converging \n",
    "                if self.monitor_op(current, self.threshold*self.best):\n",
    "                    self.patience = max(self.patience, epoch*self.increase)\n",
    "                self.best = current\n",
    "\n",
    "        else:\n",
    "            if self.verbose > 0:\n",
    "                print('Epoch %05d: early stopping' % (epoch))\n",
    "\n",
    "            self.model.stop_training = True"
   ]
  },
  {
   "cell_type": "code",
   "execution_count": 29,
   "metadata": {},
   "outputs": [
    {
     "name": "stdout",
     "output_type": "stream",
     "text": [
      "[[0 1]\n",
      " [0 1]\n",
      " [1 0]\n",
      " [0 1]\n",
      " [0 1]]\n",
      "Train on 90000 samples, validate on 10000 samples\n",
      "Epoch 1/500\n",
      "90000/90000 [==============================] - 3s 38us/step - loss: 0.8437 - acc: 0.5235 - val_loss: 0.8257 - val_acc: 0.5101\n",
      "Epoch 2/500\n",
      "90000/90000 [==============================] - 2s 20us/step - loss: 0.8107 - acc: 0.5716 - val_loss: 0.7960 - val_acc: 0.8591\n",
      "Epoch 3/500\n",
      "90000/90000 [==============================] - 2s 21us/step - loss: 0.7803 - acc: 0.6838 - val_loss: 0.7599 - val_acc: 0.7324\n",
      "Epoch 4/500\n",
      "90000/90000 [==============================] - 2s 21us/step - loss: 0.6925 - acc: 0.7834 - val_loss: 0.5677 - val_acc: 0.8844\n",
      "Epoch 5/500\n",
      "90000/90000 [==============================] - 2s 21us/step - loss: 0.4756 - acc: 0.8768 - val_loss: 0.3664 - val_acc: 0.9175\n",
      "Epoch 6/500\n",
      "90000/90000 [==============================] - 2s 21us/step - loss: 0.3791 - acc: 0.9178 - val_loss: 0.3292 - val_acc: 0.9301\n",
      "Epoch 7/500\n",
      "90000/90000 [==============================] - 2s 21us/step - loss: 0.3451 - acc: 0.9276 - val_loss: 0.3092 - val_acc: 0.9299\n",
      "Epoch 8/500\n",
      "90000/90000 [==============================] - 2s 25us/step - loss: 0.3239 - acc: 0.9325 - val_loss: 0.2937 - val_acc: 0.9322\n",
      "Epoch 9/500\n",
      "90000/90000 [==============================] - 2s 21us/step - loss: 0.3079 - acc: 0.9355 - val_loss: 0.2827 - val_acc: 0.9321\n",
      "Epoch 10/500\n",
      "90000/90000 [==============================] - 2s 21us/step - loss: 0.2955 - acc: 0.9361 - val_loss: 0.2739 - val_acc: 0.9329\n",
      "Epoch 11/500\n",
      "90000/90000 [==============================] - 2s 21us/step - loss: 0.2858 - acc: 0.9388 - val_loss: 0.2675 - val_acc: 0.9342\n",
      "Epoch 12/500\n",
      "90000/90000 [==============================] - 2s 23us/step - loss: 0.2779 - acc: 0.9393 - val_loss: 0.2613 - val_acc: 0.9350\n",
      "Epoch 13/500\n",
      "90000/90000 [==============================] - 2s 24us/step - loss: 0.2711 - acc: 0.9399 - val_loss: 0.2568 - val_acc: 0.9358\n",
      "Epoch 14/500\n",
      "90000/90000 [==============================] - 2s 21us/step - loss: 0.2659 - acc: 0.9405 - val_loss: 0.2528 - val_acc: 0.9356\n",
      "Epoch 15/500\n",
      "90000/90000 [==============================] - 2s 22us/step - loss: 0.2610 - acc: 0.9410 - val_loss: 0.2497 - val_acc: 0.9331\n",
      "Epoch 16/500\n",
      "90000/90000 [==============================] - 2s 21us/step - loss: 0.2578 - acc: 0.9417 - val_loss: 0.2462 - val_acc: 0.9357\n",
      "Epoch 17/500\n",
      "90000/90000 [==============================] - 2s 21us/step - loss: 0.2532 - acc: 0.9417 - val_loss: 0.2444 - val_acc: 0.9342\n",
      "Epoch 18/500\n",
      "90000/90000 [==============================] - 2s 24us/step - loss: 0.2495 - acc: 0.9424 - val_loss: 0.2396 - val_acc: 0.9349\n",
      "Epoch 19/500\n",
      "90000/90000 [==============================] - 2s 25us/step - loss: 0.2473 - acc: 0.9422 - val_loss: 0.2374 - val_acc: 0.9360\n",
      "Epoch 20/500\n",
      "90000/90000 [==============================] - 2s 22us/step - loss: 0.2433 - acc: 0.9427 - val_loss: 0.2345 - val_acc: 0.9358\n",
      "Epoch 21/500\n",
      "90000/90000 [==============================] - 2s 25us/step - loss: 0.2414 - acc: 0.9430 - val_loss: 0.2326 - val_acc: 0.9374\n",
      "Epoch 22/500\n",
      "90000/90000 [==============================] - 2s 21us/step - loss: 0.2396 - acc: 0.9424 - val_loss: 0.2304 - val_acc: 0.9368\n",
      "Epoch 23/500\n",
      "90000/90000 [==============================] - 2s 23us/step - loss: 0.2355 - acc: 0.9425 - val_loss: 0.2288 - val_acc: 0.9361\n",
      "Epoch 24/500\n",
      "90000/90000 [==============================] - 2s 21us/step - loss: 0.2354 - acc: 0.9427 - val_loss: 0.2261 - val_acc: 0.9346\n",
      "Epoch 25/500\n",
      "90000/90000 [==============================] - 2s 21us/step - loss: 0.2311 - acc: 0.9426 - val_loss: 0.2251 - val_acc: 0.9367\n",
      "Epoch 26/500\n",
      "90000/90000 [==============================] - 2s 23us/step - loss: 0.2295 - acc: 0.9422 - val_loss: 0.2228 - val_acc: 0.9353\n",
      "Epoch 27/500\n",
      "90000/90000 [==============================] - 2s 22us/step - loss: 0.2280 - acc: 0.9431 - val_loss: 0.2219 - val_acc: 0.9347\n",
      "Epoch 28/500\n",
      "90000/90000 [==============================] - 2s 22us/step - loss: 0.2283 - acc: 0.9424 - val_loss: 0.2199 - val_acc: 0.9356\n",
      "Epoch 29/500\n",
      "90000/90000 [==============================] - 2s 22us/step - loss: 0.2256 - acc: 0.9418 - val_loss: 0.2203 - val_acc: 0.9355\n",
      "Epoch 30/500\n",
      "90000/90000 [==============================] - 2s 22us/step - loss: 0.2241 - acc: 0.9424 - val_loss: 0.2174 - val_acc: 0.9336\n",
      "Epoch 31/500\n",
      "90000/90000 [==============================] - 2s 22us/step - loss: 0.2217 - acc: 0.9418 - val_loss: 0.2162 - val_acc: 0.9355\n",
      "Epoch 32/500\n",
      "90000/90000 [==============================] - 2s 21us/step - loss: 0.2223 - acc: 0.9425 - val_loss: 0.2161 - val_acc: 0.9348\n",
      "Epoch 33/500\n",
      "90000/90000 [==============================] - 2s 22us/step - loss: 0.2202 - acc: 0.9422 - val_loss: 0.2143 - val_acc: 0.9347\n",
      "Epoch 34/500\n",
      "90000/90000 [==============================] - 2s 22us/step - loss: 0.2175 - acc: 0.9433 - val_loss: 0.2135 - val_acc: 0.9338\n",
      "Epoch 35/500\n",
      "90000/90000 [==============================] - 2s 24us/step - loss: 0.2181 - acc: 0.9423 - val_loss: 0.2125 - val_acc: 0.9340\n",
      "Epoch 36/500\n",
      "90000/90000 [==============================] - 2s 21us/step - loss: 0.2159 - acc: 0.9425 - val_loss: 0.2120 - val_acc: 0.9340\n",
      "Epoch 37/500\n",
      "90000/90000 [==============================] - 2s 22us/step - loss: 0.2176 - acc: 0.9419 - val_loss: 0.2113 - val_acc: 0.9346\n",
      "Epoch 38/500\n",
      "90000/90000 [==============================] - 2s 20us/step - loss: 0.2161 - acc: 0.9429 - val_loss: 0.2102 - val_acc: 0.9350\n",
      "Epoch 39/500\n",
      "90000/90000 [==============================] - 2s 20us/step - loss: 0.2146 - acc: 0.9424 - val_loss: 0.2087 - val_acc: 0.9348\n",
      "Epoch 40/500\n",
      "90000/90000 [==============================] - 2s 20us/step - loss: 0.2132 - acc: 0.9418 - val_loss: 0.2092 - val_acc: 0.9334\n",
      "Epoch 41/500\n",
      "90000/90000 [==============================] - 2s 20us/step - loss: 0.2143 - acc: 0.9424 - val_loss: 0.2080 - val_acc: 0.9343\n",
      "Epoch 42/500\n",
      "90000/90000 [==============================] - 2s 20us/step - loss: 0.2121 - acc: 0.9422 - val_loss: 0.2076 - val_acc: 0.9356\n",
      "Epoch 43/500\n",
      "90000/90000 [==============================] - 2s 20us/step - loss: 0.2104 - acc: 0.9424 - val_loss: 0.2072 - val_acc: 0.9335\n",
      "Epoch 44/500\n",
      "90000/90000 [==============================] - 2s 20us/step - loss: 0.2098 - acc: 0.9425 - val_loss: 0.2065 - val_acc: 0.9336\n",
      "Epoch 45/500\n",
      "90000/90000 [==============================] - 2s 20us/step - loss: 0.2100 - acc: 0.9428 - val_loss: 0.2053 - val_acc: 0.9339\n",
      "Epoch 46/500\n",
      "90000/90000 [==============================] - 2s 21us/step - loss: 0.2098 - acc: 0.9427 - val_loss: 0.2066 - val_acc: 0.9362\n",
      "Epoch 47/500\n",
      "90000/90000 [==============================] - 2s 20us/step - loss: 0.2079 - acc: 0.9414 - val_loss: 0.2054 - val_acc: 0.9365\n",
      "Epoch 48/500\n",
      "90000/90000 [==============================] - 2s 20us/step - loss: 0.2082 - acc: 0.9425 - val_loss: 0.2036 - val_acc: 0.9332\n",
      "Epoch 49/500\n",
      "90000/90000 [==============================] - 2s 23us/step - loss: 0.2082 - acc: 0.9419 - val_loss: 0.2036 - val_acc: 0.9371\n",
      "Epoch 50/500\n",
      "90000/90000 [==============================] - 3s 30us/step - loss: 0.2057 - acc: 0.9428 - val_loss: 0.2029 - val_acc: 0.9333\n",
      "Epoch 51/500\n",
      "90000/90000 [==============================] - 3s 30us/step - loss: 0.2050 - acc: 0.9420 - val_loss: 0.2026 - val_acc: 0.9350\n",
      "Epoch 52/500\n",
      "90000/90000 [==============================] - 2s 24us/step - loss: 0.2057 - acc: 0.9422 - val_loss: 0.2037 - val_acc: 0.9350\n",
      "Epoch 53/500\n",
      "90000/90000 [==============================] - 2s 23us/step - loss: 0.2043 - acc: 0.9428 - val_loss: 0.2016 - val_acc: 0.9358\n",
      "Epoch 54/500\n",
      "90000/90000 [==============================] - 2s 23us/step - loss: 0.2029 - acc: 0.9431 - val_loss: 0.2011 - val_acc: 0.9344\n",
      "Epoch 55/500\n",
      "90000/90000 [==============================] - 2s 21us/step - loss: 0.2023 - acc: 0.9429 - val_loss: 0.2017 - val_acc: 0.9360\n",
      "Epoch 56/500\n",
      "90000/90000 [==============================] - 2s 21us/step - loss: 0.2011 - acc: 0.9436 - val_loss: 0.2016 - val_acc: 0.9352\n",
      "Epoch 57/500\n",
      "90000/90000 [==============================] - 2s 23us/step - loss: 0.2028 - acc: 0.9433 - val_loss: 0.1996 - val_acc: 0.9351\n",
      "Epoch 58/500\n",
      "90000/90000 [==============================] - 2s 26us/step - loss: 0.2007 - acc: 0.9433 - val_loss: 0.1987 - val_acc: 0.9352\n",
      "Epoch 59/500\n",
      "90000/90000 [==============================] - 2s 22us/step - loss: 0.1996 - acc: 0.9439 - val_loss: 0.1995 - val_acc: 0.9367\n",
      "Epoch 60/500\n",
      "90000/90000 [==============================] - 2s 22us/step - loss: 0.1991 - acc: 0.9429 - val_loss: 0.2009 - val_acc: 0.9373\n",
      "Epoch 61/500\n",
      "90000/90000 [==============================] - 2s 22us/step - loss: 0.1989 - acc: 0.9429 - val_loss: 0.2038 - val_acc: 0.9358\n",
      "Epoch 62/500\n",
      "90000/90000 [==============================] - 2s 21us/step - loss: 0.2001 - acc: 0.9422 - val_loss: 0.1988 - val_acc: 0.9354\n",
      "Epoch 63/500\n",
      "90000/90000 [==============================] - 2s 21us/step - loss: 0.1979 - acc: 0.9436 - val_loss: 0.1989 - val_acc: 0.9343\n",
      "Epoch 64/500\n",
      "90000/90000 [==============================] - 2s 23us/step - loss: 0.1967 - acc: 0.9431 - val_loss: 0.1986 - val_acc: 0.9351\n",
      "Epoch 65/500\n",
      "90000/90000 [==============================] - 2s 24us/step - loss: 0.1971 - acc: 0.9432 - val_loss: 0.1974 - val_acc: 0.9335\n",
      "Epoch 66/500\n",
      "90000/90000 [==============================] - 2s 24us/step - loss: 0.1959 - acc: 0.9437 - val_loss: 0.1965 - val_acc: 0.9362\n",
      "Epoch 67/500\n",
      "90000/90000 [==============================] - 2s 23us/step - loss: 0.1960 - acc: 0.9436 - val_loss: 0.1967 - val_acc: 0.9345\n",
      "Epoch 68/500\n",
      "90000/90000 [==============================] - 2s 23us/step - loss: 0.1957 - acc: 0.9433 - val_loss: 0.1955 - val_acc: 0.9348\n",
      "Epoch 69/500\n",
      "90000/90000 [==============================] - 2s 26us/step - loss: 0.1951 - acc: 0.9430 - val_loss: 0.1970 - val_acc: 0.9360\n",
      "Epoch 70/500\n",
      "90000/90000 [==============================] - 2s 24us/step - loss: 0.1936 - acc: 0.9432 - val_loss: 0.1954 - val_acc: 0.9365\n",
      "Epoch 71/500\n",
      "90000/90000 [==============================] - 2s 23us/step - loss: 0.1931 - acc: 0.9434 - val_loss: 0.1971 - val_acc: 0.9369\n",
      "Epoch 72/500\n",
      "90000/90000 [==============================] - 2s 23us/step - loss: 0.1936 - acc: 0.9423 - val_loss: 0.1946 - val_acc: 0.9359\n",
      "Epoch 73/500\n",
      "90000/90000 [==============================] - 2s 21us/step - loss: 0.1919 - acc: 0.9429 - val_loss: 0.1962 - val_acc: 0.9363\n",
      "Epoch 74/500\n",
      "90000/90000 [==============================] - 2s 25us/step - loss: 0.1907 - acc: 0.9432 - val_loss: 0.1936 - val_acc: 0.9341\n",
      "Epoch 75/500\n",
      "90000/90000 [==============================] - 3s 28us/step - loss: 0.1908 - acc: 0.9438 - val_loss: 0.1942 - val_acc: 0.9344\n",
      "Epoch 76/500\n",
      "90000/90000 [==============================] - 2s 27us/step - loss: 0.1902 - acc: 0.9433 - val_loss: 0.1936 - val_acc: 0.9364\n",
      "Epoch 77/500\n",
      "90000/90000 [==============================] - 2s 23us/step - loss: 0.1903 - acc: 0.9433 - val_loss: 0.1924 - val_acc: 0.9338\n",
      "Epoch 78/500\n",
      "90000/90000 [==============================] - 2s 22us/step - loss: 0.1881 - acc: 0.9431 - val_loss: 0.1926 - val_acc: 0.9347\n",
      "Epoch 79/500\n",
      "90000/90000 [==============================] - 2s 24us/step - loss: 0.1885 - acc: 0.9428 - val_loss: 0.1931 - val_acc: 0.9355\n",
      "Epoch 80/500\n",
      "90000/90000 [==============================] - 2s 26us/step - loss: 0.1880 - acc: 0.9426 - val_loss: 0.1912 - val_acc: 0.9341\n",
      "Epoch 81/500\n",
      "90000/90000 [==============================] - 2s 23us/step - loss: 0.1877 - acc: 0.9429 - val_loss: 0.1904 - val_acc: 0.9334\n",
      "Epoch 82/500\n",
      "90000/90000 [==============================] - 2s 24us/step - loss: 0.1869 - acc: 0.9437 - val_loss: 0.1908 - val_acc: 0.9346\n",
      "Epoch 83/500\n",
      "90000/90000 [==============================] - 2s 23us/step - loss: 0.1867 - acc: 0.9431 - val_loss: 0.1907 - val_acc: 0.9358\n",
      "Epoch 84/500\n",
      "90000/90000 [==============================] - 2s 22us/step - loss: 0.1850 - acc: 0.9423 - val_loss: 0.1899 - val_acc: 0.9341\n",
      "Epoch 85/500\n",
      "90000/90000 [==============================] - 2s 22us/step - loss: 0.1848 - acc: 0.9435 - val_loss: 0.1900 - val_acc: 0.9324\n",
      "Epoch 86/500\n",
      "90000/90000 [==============================] - 2s 21us/step - loss: 0.1844 - acc: 0.9435 - val_loss: 0.1891 - val_acc: 0.9345\n",
      "Epoch 87/500\n",
      "90000/90000 [==============================] - 2s 22us/step - loss: 0.1832 - acc: 0.9422 - val_loss: 0.1891 - val_acc: 0.9355\n",
      "Epoch 88/500\n",
      "90000/90000 [==============================] - 2s 27us/step - loss: 0.1834 - acc: 0.9426 - val_loss: 0.1882 - val_acc: 0.9337\n",
      "Epoch 89/500\n",
      "90000/90000 [==============================] - 2s 22us/step - loss: 0.1822 - acc: 0.9428 - val_loss: 0.1886 - val_acc: 0.9336\n",
      "Epoch 90/500\n",
      "90000/90000 [==============================] - 2s 22us/step - loss: 0.1827 - acc: 0.9427 - val_loss: 0.1878 - val_acc: 0.9323\n",
      "Epoch 91/500\n",
      "90000/90000 [==============================] - 2s 22us/step - loss: 0.1829 - acc: 0.9425 - val_loss: 0.1890 - val_acc: 0.9369\n",
      "Epoch 92/500\n",
      "90000/90000 [==============================] - 2s 24us/step - loss: 0.1823 - acc: 0.9430 - val_loss: 0.1876 - val_acc: 0.9343\n",
      "Epoch 93/500\n",
      "90000/90000 [==============================] - 2s 21us/step - loss: 0.1815 - acc: 0.9425 - val_loss: 0.1906 - val_acc: 0.9352\n",
      "Epoch 94/500\n",
      "90000/90000 [==============================] - 2s 27us/step - loss: 0.1815 - acc: 0.9422 - val_loss: 0.1870 - val_acc: 0.9333\n",
      "Epoch 95/500\n",
      "90000/90000 [==============================] - 2s 26us/step - loss: 0.1819 - acc: 0.9421 - val_loss: 0.1875 - val_acc: 0.9354\n",
      "Epoch 96/500\n",
      "90000/90000 [==============================] - 2s 24us/step - loss: 0.1804 - acc: 0.9422 - val_loss: 0.1866 - val_acc: 0.9331\n",
      "Epoch 97/500\n",
      "90000/90000 [==============================] - 2s 22us/step - loss: 0.1801 - acc: 0.9431 - val_loss: 0.1858 - val_acc: 0.9330\n",
      "Epoch 98/500\n",
      "90000/90000 [==============================] - 2s 21us/step - loss: 0.1798 - acc: 0.9425 - val_loss: 0.1856 - val_acc: 0.9328\n",
      "Epoch 99/500\n",
      "90000/90000 [==============================] - 2s 21us/step - loss: 0.1791 - acc: 0.9425 - val_loss: 0.1880 - val_acc: 0.9340\n",
      "Epoch 100/500\n",
      "90000/90000 [==============================] - 2s 21us/step - loss: 0.1790 - acc: 0.9429 - val_loss: 0.1851 - val_acc: 0.9321\n",
      "Epoch 101/500\n",
      "90000/90000 [==============================] - 2s 24us/step - loss: 0.1777 - acc: 0.9424 - val_loss: 0.1854 - val_acc: 0.9334\n",
      "Epoch 102/500\n",
      "90000/90000 [==============================] - 2s 24us/step - loss: 0.1781 - acc: 0.9420 - val_loss: 0.1850 - val_acc: 0.9337\n",
      "Epoch 103/500\n",
      "90000/90000 [==============================] - 2s 22us/step - loss: 0.1767 - acc: 0.9425 - val_loss: 0.1847 - val_acc: 0.9333\n",
      "Epoch 104/500\n",
      "90000/90000 [==============================] - 2s 22us/step - loss: 0.1766 - acc: 0.9422 - val_loss: 0.1844 - val_acc: 0.9329\n",
      "Epoch 105/500\n",
      "90000/90000 [==============================] - 2s 22us/step - loss: 0.1777 - acc: 0.9423 - val_loss: 0.1853 - val_acc: 0.9359\n",
      "Epoch 106/500\n",
      "90000/90000 [==============================] - 2s 21us/step - loss: 0.1761 - acc: 0.9417 - val_loss: 0.1853 - val_acc: 0.9351\n",
      "Epoch 107/500\n",
      "90000/90000 [==============================] - 2s 23us/step - loss: 0.1760 - acc: 0.9423 - val_loss: 0.1862 - val_acc: 0.9346\n",
      "Epoch 108/500\n",
      "90000/90000 [==============================] - 2s 23us/step - loss: 0.1747 - acc: 0.9430 - val_loss: 0.1833 - val_acc: 0.9326\n",
      "Epoch 109/500\n",
      "90000/90000 [==============================] - 2s 22us/step - loss: 0.1755 - acc: 0.9423 - val_loss: 0.1834 - val_acc: 0.9329\n",
      "Epoch 110/500\n",
      "90000/90000 [==============================] - 2s 24us/step - loss: 0.1744 - acc: 0.9426 - val_loss: 0.1845 - val_acc: 0.9357\n",
      "Epoch 111/500\n",
      "90000/90000 [==============================] - 2s 27us/step - loss: 0.1749 - acc: 0.9428 - val_loss: 0.1830 - val_acc: 0.9328\n",
      "Epoch 112/500\n",
      "90000/90000 [==============================] - 2s 24us/step - loss: 0.1748 - acc: 0.9419 - val_loss: 0.1828 - val_acc: 0.9337\n",
      "Epoch 113/500\n",
      "90000/90000 [==============================] - 2s 23us/step - loss: 0.1743 - acc: 0.9422 - val_loss: 0.1830 - val_acc: 0.9313\n",
      "Epoch 114/500\n",
      "90000/90000 [==============================] - 2s 24us/step - loss: 0.1750 - acc: 0.9415 - val_loss: 0.1827 - val_acc: 0.9345\n",
      "Epoch 115/500\n",
      "90000/90000 [==============================] - 2s 28us/step - loss: 0.1735 - acc: 0.9416 - val_loss: 0.1820 - val_acc: 0.9330\n",
      "Epoch 116/500\n",
      "90000/90000 [==============================] - 2s 21us/step - loss: 0.1733 - acc: 0.9416 - val_loss: 0.1817 - val_acc: 0.9327\n",
      "Epoch 117/500\n",
      "90000/90000 [==============================] - 2s 22us/step - loss: 0.1726 - acc: 0.9427 - val_loss: 0.1822 - val_acc: 0.9360\n"
     ]
    },
    {
     "name": "stdout",
     "output_type": "stream",
     "text": [
      "Epoch 118/500\n",
      "90000/90000 [==============================] - 2s 20us/step - loss: 0.1709 - acc: 0.9425 - val_loss: 0.1828 - val_acc: 0.9337\n",
      "Epoch 119/500\n",
      "90000/90000 [==============================] - 2s 23us/step - loss: 0.1720 - acc: 0.9423 - val_loss: 0.1838 - val_acc: 0.9358\n",
      "Epoch 120/500\n",
      "90000/90000 [==============================] - 2s 21us/step - loss: 0.1724 - acc: 0.9420 - val_loss: 0.1873 - val_acc: 0.9347\n",
      "Epoch 121/500\n",
      "90000/90000 [==============================] - 2s 20us/step - loss: 0.1725 - acc: 0.9420 - val_loss: 0.1812 - val_acc: 0.9313\n",
      "Epoch 122/500\n",
      "90000/90000 [==============================] - 2s 21us/step - loss: 0.1718 - acc: 0.9428 - val_loss: 0.1808 - val_acc: 0.9352\n",
      "Epoch 123/500\n",
      "90000/90000 [==============================] - 2s 22us/step - loss: 0.1708 - acc: 0.9421 - val_loss: 0.1806 - val_acc: 0.9305\n",
      "Epoch 124/500\n",
      "90000/90000 [==============================] - 2s 20us/step - loss: 0.1709 - acc: 0.9418 - val_loss: 0.1803 - val_acc: 0.9321\n",
      "Epoch 125/500\n",
      "90000/90000 [==============================] - 2s 24us/step - loss: 0.1701 - acc: 0.9422 - val_loss: 0.1802 - val_acc: 0.9324\n",
      "Epoch 126/500\n",
      "90000/90000 [==============================] - 2s 22us/step - loss: 0.1695 - acc: 0.9418 - val_loss: 0.1794 - val_acc: 0.9331\n",
      "Epoch 127/500\n",
      "90000/90000 [==============================] - 3s 28us/step - loss: 0.1707 - acc: 0.9415 - val_loss: 0.1836 - val_acc: 0.9350\n",
      "Epoch 128/500\n",
      "90000/90000 [==============================] - 2s 26us/step - loss: 0.1723 - acc: 0.9411 - val_loss: 0.1796 - val_acc: 0.9330\n",
      "Epoch 129/500\n",
      "90000/90000 [==============================] - 2s 27us/step - loss: 0.1698 - acc: 0.9418 - val_loss: 0.1805 - val_acc: 0.9349\n",
      "Epoch 130/500\n",
      "90000/90000 [==============================] - 2s 21us/step - loss: 0.1696 - acc: 0.9414 - val_loss: 0.1799 - val_acc: 0.9318\n",
      "Epoch 131/500\n",
      "90000/90000 [==============================] - 2s 21us/step - loss: 0.1697 - acc: 0.9421 - val_loss: 0.1825 - val_acc: 0.9341\n",
      "Epoch 132/500\n",
      "90000/90000 [==============================] - 2s 27us/step - loss: 0.1687 - acc: 0.9415 - val_loss: 0.1787 - val_acc: 0.9329\n",
      "Epoch 133/500\n",
      "90000/90000 [==============================] - 2s 22us/step - loss: 0.1684 - acc: 0.9419 - val_loss: 0.1787 - val_acc: 0.9327\n",
      "Epoch 134/500\n",
      "90000/90000 [==============================] - 2s 25us/step - loss: 0.1682 - acc: 0.9419 - val_loss: 0.1788 - val_acc: 0.9316\n",
      "Epoch 135/500\n",
      "90000/90000 [==============================] - 2s 21us/step - loss: 0.1686 - acc: 0.9415 - val_loss: 0.1783 - val_acc: 0.9325\n",
      "Epoch 136/500\n",
      "90000/90000 [==============================] - 2s 22us/step - loss: 0.1675 - acc: 0.9414 - val_loss: 0.1779 - val_acc: 0.9318\n",
      "Epoch 137/500\n",
      "90000/90000 [==============================] - 2s 22us/step - loss: 0.1684 - acc: 0.9416 - val_loss: 0.1782 - val_acc: 0.9310\n",
      "Epoch 138/500\n",
      "90000/90000 [==============================] - 2s 22us/step - loss: 0.1674 - acc: 0.9421 - val_loss: 0.1806 - val_acc: 0.9369\n",
      "Epoch 139/500\n",
      "90000/90000 [==============================] - 2s 24us/step - loss: 0.1673 - acc: 0.9422 - val_loss: 0.1817 - val_acc: 0.9360\n",
      "Epoch 140/500\n",
      "90000/90000 [==============================] - 2s 22us/step - loss: 0.1690 - acc: 0.9412 - val_loss: 0.1791 - val_acc: 0.9351\n",
      "Epoch 141/500\n",
      "90000/90000 [==============================] - 2s 23us/step - loss: 0.1668 - acc: 0.9417 - val_loss: 0.1773 - val_acc: 0.9333\n",
      "Epoch 142/500\n",
      "90000/90000 [==============================] - 2s 25us/step - loss: 0.1682 - acc: 0.9410 - val_loss: 0.1800 - val_acc: 0.9359\n",
      "Epoch 143/500\n",
      "90000/90000 [==============================] - 2s 23us/step - loss: 0.1672 - acc: 0.9415 - val_loss: 0.1772 - val_acc: 0.9328\n",
      "Epoch 144/500\n",
      "90000/90000 [==============================] - 2s 23us/step - loss: 0.1666 - acc: 0.9426 - val_loss: 0.1779 - val_acc: 0.9343\n",
      "Epoch 145/500\n",
      "90000/90000 [==============================] - 2s 27us/step - loss: 0.1665 - acc: 0.9413 - val_loss: 0.1770 - val_acc: 0.9314\n",
      "Epoch 146/500\n",
      "90000/90000 [==============================] - 3s 28us/step - loss: 0.1669 - acc: 0.9420 - val_loss: 0.1776 - val_acc: 0.9318\n",
      "Epoch 147/500\n",
      "90000/90000 [==============================] - 2s 23us/step - loss: 0.1660 - acc: 0.9420 - val_loss: 0.1780 - val_acc: 0.9320\n",
      "Epoch 148/500\n",
      "90000/90000 [==============================] - 2s 22us/step - loss: 0.1656 - acc: 0.9422 - val_loss: 0.1793 - val_acc: 0.9332\n",
      "Epoch 149/500\n",
      "90000/90000 [==============================] - 2s 21us/step - loss: 0.1668 - acc: 0.9417 - val_loss: 0.1761 - val_acc: 0.9329\n",
      "Epoch 150/500\n",
      "90000/90000 [==============================] - 2s 21us/step - loss: 0.1659 - acc: 0.9417 - val_loss: 0.1777 - val_acc: 0.9348\n",
      "Epoch 151/500\n",
      "90000/90000 [==============================] - 2s 21us/step - loss: 0.1653 - acc: 0.9420 - val_loss: 0.1761 - val_acc: 0.9322\n",
      "Epoch 152/500\n",
      "90000/90000 [==============================] - 2s 21us/step - loss: 0.1650 - acc: 0.9423 - val_loss: 0.1761 - val_acc: 0.9314\n",
      "Epoch 153/500\n",
      "90000/90000 [==============================] - 2s 22us/step - loss: 0.1647 - acc: 0.9418 - val_loss: 0.1759 - val_acc: 0.9315\n",
      "Epoch 154/500\n",
      "90000/90000 [==============================] - 2s 21us/step - loss: 0.1640 - acc: 0.9422 - val_loss: 0.1765 - val_acc: 0.9324\n",
      "Epoch 155/500\n",
      "90000/90000 [==============================] - 2s 21us/step - loss: 0.1637 - acc: 0.9423 - val_loss: 0.1754 - val_acc: 0.9328\n",
      "Epoch 156/500\n",
      "90000/90000 [==============================] - 2s 21us/step - loss: 0.1644 - acc: 0.9417 - val_loss: 0.1753 - val_acc: 0.9317\n",
      "Epoch 157/500\n",
      "90000/90000 [==============================] - 2s 23us/step - loss: 0.1637 - acc: 0.9414 - val_loss: 0.1752 - val_acc: 0.9327\n",
      "Epoch 158/500\n",
      "90000/90000 [==============================] - 2s 21us/step - loss: 0.1639 - acc: 0.9417 - val_loss: 0.1782 - val_acc: 0.9353\n",
      "Epoch 159/500\n",
      "90000/90000 [==============================] - 2s 20us/step - loss: 0.1645 - acc: 0.9417 - val_loss: 0.1768 - val_acc: 0.9316\n",
      "Epoch 160/500\n",
      "90000/90000 [==============================] - 2s 21us/step - loss: 0.1632 - acc: 0.9420 - val_loss: 0.1754 - val_acc: 0.9339\n",
      "Epoch 161/500\n",
      "90000/90000 [==============================] - 2s 21us/step - loss: 0.1632 - acc: 0.9413 - val_loss: 0.1753 - val_acc: 0.9325\n",
      "Epoch 162/500\n",
      "90000/90000 [==============================] - 2s 20us/step - loss: 0.1644 - acc: 0.9417 - val_loss: 0.1752 - val_acc: 0.9310\n",
      "Epoch 163/500\n",
      "90000/90000 [==============================] - 2s 21us/step - loss: 0.1629 - acc: 0.9413 - val_loss: 0.1750 - val_acc: 0.9326\n",
      "Epoch 164/500\n",
      "90000/90000 [==============================] - 2s 21us/step - loss: 0.1637 - acc: 0.9412 - val_loss: 0.1759 - val_acc: 0.9348\n",
      "Epoch 165/500\n",
      "90000/90000 [==============================] - 2s 24us/step - loss: 0.1628 - acc: 0.9422 - val_loss: 0.1769 - val_acc: 0.9325\n",
      "Epoch 166/500\n",
      "90000/90000 [==============================] - 3s 29us/step - loss: 0.1626 - acc: 0.9420 - val_loss: 0.1749 - val_acc: 0.9331\n",
      "Epoch 167/500\n",
      "90000/90000 [==============================] - 2s 23us/step - loss: 0.1623 - acc: 0.9417 - val_loss: 0.1754 - val_acc: 0.9319\n",
      "Epoch 168/500\n",
      "90000/90000 [==============================] - 2s 23us/step - loss: 0.1625 - acc: 0.9415 - val_loss: 0.1747 - val_acc: 0.9316\n",
      "Epoch 169/500\n",
      "90000/90000 [==============================] - 2s 23us/step - loss: 0.1621 - acc: 0.9413 - val_loss: 0.1748 - val_acc: 0.9318\n",
      "Epoch 170/500\n",
      "90000/90000 [==============================] - 2s 23us/step - loss: 0.1612 - acc: 0.9414 - val_loss: 0.1746 - val_acc: 0.9338\n",
      "Epoch 171/500\n",
      "90000/90000 [==============================] - 2s 24us/step - loss: 0.1611 - acc: 0.9422 - val_loss: 0.1742 - val_acc: 0.9311\n",
      "Epoch 172/500\n",
      "90000/90000 [==============================] - 2s 25us/step - loss: 0.1641 - acc: 0.9401 - val_loss: 0.1806 - val_acc: 0.9349\n",
      "Epoch 173/500\n",
      "90000/90000 [==============================] - 2s 26us/step - loss: 0.1613 - acc: 0.9418 - val_loss: 0.1747 - val_acc: 0.9320\n",
      "Epoch 174/500\n",
      "90000/90000 [==============================] - 2s 24us/step - loss: 0.1611 - acc: 0.9422 - val_loss: 0.1742 - val_acc: 0.9318\n",
      "Epoch 175/500\n",
      "90000/90000 [==============================] - 2s 27us/step - loss: 0.1603 - acc: 0.9419 - val_loss: 0.1738 - val_acc: 0.9315\n",
      "Epoch 176/500\n",
      "90000/90000 [==============================] - 2s 25us/step - loss: 0.1607 - acc: 0.9416 - val_loss: 0.1752 - val_acc: 0.9348\n",
      "Epoch 177/500\n",
      "90000/90000 [==============================] - 2s 25us/step - loss: 0.1620 - acc: 0.9405 - val_loss: 0.1736 - val_acc: 0.9335\n",
      "Epoch 178/500\n",
      "90000/90000 [==============================] - 2s 22us/step - loss: 0.1604 - acc: 0.9419 - val_loss: 0.1735 - val_acc: 0.9324\n",
      "Epoch 179/500\n",
      "90000/90000 [==============================] - 2s 24us/step - loss: 0.1615 - acc: 0.9412 - val_loss: 0.1796 - val_acc: 0.9337\n",
      "Epoch 180/500\n",
      "90000/90000 [==============================] - 2s 25us/step - loss: 0.1609 - acc: 0.9411 - val_loss: 0.1744 - val_acc: 0.9318\n",
      "Epoch 181/500\n",
      "90000/90000 [==============================] - 2s 22us/step - loss: 0.1606 - acc: 0.9411 - val_loss: 0.1760 - val_acc: 0.9330\n",
      "Epoch 182/500\n",
      "90000/90000 [==============================] - 2s 21us/step - loss: 0.1603 - acc: 0.9415 - val_loss: 0.1753 - val_acc: 0.9324\n",
      "Epoch 183/500\n",
      "90000/90000 [==============================] - 2s 23us/step - loss: 0.1603 - acc: 0.9407 - val_loss: 0.1733 - val_acc: 0.9322\n",
      "Epoch 184/500\n",
      "90000/90000 [==============================] - 2s 23us/step - loss: 0.1610 - acc: 0.9407 - val_loss: 0.1739 - val_acc: 0.9322\n",
      "Epoch 185/500\n",
      "90000/90000 [==============================] - 2s 23us/step - loss: 0.1602 - acc: 0.9416 - val_loss: 0.1736 - val_acc: 0.9316\n",
      "Epoch 186/500\n",
      "90000/90000 [==============================] - 2s 23us/step - loss: 0.1596 - acc: 0.9416 - val_loss: 0.1767 - val_acc: 0.9340\n",
      "Epoch 187/500\n",
      "90000/90000 [==============================] - 2s 22us/step - loss: 0.1597 - acc: 0.9411 - val_loss: 0.1729 - val_acc: 0.9332\n",
      "Epoch 188/500\n",
      "90000/90000 [==============================] - 2s 23us/step - loss: 0.1602 - acc: 0.9415 - val_loss: 0.1730 - val_acc: 0.9342\n",
      "Epoch 189/500\n",
      "90000/90000 [==============================] - 2s 22us/step - loss: 0.1597 - acc: 0.9420 - val_loss: 0.1731 - val_acc: 0.9339\n",
      "Epoch 00188: early stopping\n"
     ]
    }
   ],
   "source": [
    "# fit the model\n",
    "print(labelvec[:5])\n",
    "history = model.fit(padded_docs, labelvec, batch_size=2000, validation_split=0.1, epochs=500, verbose=1, callbacks=[ThresholdEarlyStopping(verbose=1, min_epochs=50)])"
   ]
  },
  {
   "cell_type": "markdown",
   "metadata": {},
   "source": [
    "check for overfitting by comparing the validation loss with training loss:"
   ]
  },
  {
   "cell_type": "code",
   "execution_count": 30,
   "metadata": {},
   "outputs": [
    {
     "data": {
      "image/png": "[encoded data removed]",
      "text/plain": [
       "<Figure size 432x288 with 1 Axes>"
      ]
     },
     "metadata": {},
     "output_type": "display_data"
    }
   ],
   "source": [
    "plt.plot(history.history['loss'])\n",
    "plt.plot(history.history['val_loss'])\n",
    "plt.ylabel('loss')\n",
    "plt.xlabel('epoch')\n",
    "plt.legend(['training loss', 'validation loss'], loc='best')\n",
    "plt.show()"
   ]
  },
  {
   "cell_type": "markdown",
   "metadata": {},
   "source": [
    "The model is trained."
   ]
  },
  {
   "cell_type": "markdown",
   "metadata": {},
   "source": [
    "evaluating the LSTM language classifier with testing data (with default decision boundary = 0.5):"
   ]
  },
  {
   "cell_type": "code",
   "execution_count": 31,
   "metadata": {},
   "outputs": [
    {
     "name": "stdout",
     "output_type": "stream",
     "text": [
      "Accuracy: 93.265000 %\n"
     ]
    }
   ],
   "source": [
    "# evaluate the model\n",
    "loss, accuracy = model.evaluate(padded_docs_test, labelvec_test, verbose=0)\n",
    "print('Accuracy: %f %%' % (accuracy*100))"
   ]
  },
  {
   "cell_type": "markdown",
   "metadata": {},
   "source": [
    "Optimizing the decision boundary of the LSTM classifier for best accuracy using ROC curve:"
   ]
  },
  {
   "cell_type": "code",
   "execution_count": 48,
   "metadata": {},
   "outputs": [
    {
     "data": {
      "text/plain": [
       "(array([0.00250873, 0.99749124, 0.98861396, 0.01138606, 0.9624189 ],\n",
       "       dtype=float32), array([0, 1, 1, 1, 1]))"
      ]
     },
     "execution_count": 48,
     "metadata": {},
     "output_type": "execute_result"
    }
   ],
   "source": [
    "labelvec_pred[:5], labelvec_test[:5, 0]"
   ]
  },
  {
   "cell_type": "code",
   "execution_count": 61,
   "metadata": {},
   "outputs": [],
   "source": [
    "from sklearn.metrics import roc_curve, auc\n",
    "labelvec_pred = model.predict(padded_docs_test)\n",
    "fpr, tpr, cut = roc_curve(labelvec_test.ravel(), labelvec_pred.ravel())\n",
    "AUC = auc(fpr, tpr)"
   ]
  },
  {
   "cell_type": "code",
   "execution_count": 58,
   "metadata": {},
   "outputs": [
    {
     "data": {
      "image/png": "[encoded data removed]",
      "text/plain": [
       "<Figure size 432x288 with 1 Axes>"
      ]
     },
     "metadata": {},
     "output_type": "display_data"
    }
   ],
   "source": [
    "plt.figure(1)\n",
    "plt.plot([0, 1], [0, 1], 'k--')\n",
    "plt.plot(fpr, tpr, label='(AUC = {:.3f})'.format(AUC))\n",
    "plt.xlabel('False positive rate')\n",
    "plt.ylabel('True positive rate')\n",
    "plt.title('ROC curve')\n",
    "plt.legend(loc='best')\n",
    "plt.show()"
   ]
  },
  {
   "cell_type": "markdown",
   "metadata": {},
   "source": [
    "Closest point to (0,1) on the ROC above will have the optimal threshold (which reduces error conributed from both type I and II errors):"
   ]
  },
  {
   "cell_type": "code",
   "execution_count": 77,
   "metadata": {},
   "outputs": [
    {
     "data": {
      "text/plain": [
       "0.49792165"
      ]
     },
     "execution_count": 77,
     "metadata": {},
     "output_type": "execute_result"
    }
   ],
   "source": [
    "tprDist = np.square(tpr-1)\n",
    "fprDist = np.square(fpr)\n",
    "DistFromPerfectEff = tprDist + fprDist\n",
    "\n",
    "Optimum_cut = cut[DistFromPerfectEff.argmin()]\n",
    "Optimum_cut"
   ]
  },
  {
   "cell_type": "markdown",
   "metadata": {},
   "source": [
    "Meh! Optimal threshold close enough to 0.5 (default cut for accuracy)."
   ]
  },
  {
   "cell_type": "markdown",
   "metadata": {},
   "source": [
    "## Results\n",
    "   \n",
    "   The LSTM classifier using phonetic syllables as input features is able to give an optimum accuracy of ~93 % with AUC = 0.985."
   ]
  },
  {
   "cell_type": "markdown",
   "metadata": {},
   "source": [
    "### Next steps:\n",
    " - Perform k-fold cross-validation to better estimate classifier's performance\n",
    " - Store the model (in h5 format) and then create a small interface for users to run (test) the model\n",
    " - Should test vanilla RNN too since the input string of phonetic syllables are not too long\n",
    " - Improve cleaning to get rid of non-lexical vocables in the corpus to train a better discriminator\n",
    " - Try to find other sources (than song lyrics) for Korean and Bangla transliterated texts\n",
    " - Think of a better way to reduce even further English words that are contaminating the corpuses\n",
    " - Add other non-roman langauges\n"
   ]
  }
 ],
 "metadata": {
  "kernelspec": {
   "display_name": "Python 3",
   "language": "python",
   "name": "python3"
  },
  "language_info": {
   "codemirror_mode": {
    "name": "ipython",
    "version": 3
   },
   "file_extension": ".py",
   "mimetype": "text/x-python",
   "name": "python",
   "nbconvert_exporter": "python",
   "pygments_lexer": "ipython3",
   "version": "3.6.8"
  }
 },
 "nbformat": 4,
 "nbformat_minor": 2
}
